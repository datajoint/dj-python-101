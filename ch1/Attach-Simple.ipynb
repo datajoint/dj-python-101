{
 "cells": [
  {
   "cell_type": "markdown",
   "metadata": {},
   "source": [
    "# Attachnments (Simple)\n",
    "\n",
    "This notebook demonstrates how to use file attachments in a DataJoint table field. \n",
    "\n",
    "The attached files will be stored directly in the database. A separate notebook explains how to configure external storage in a filesystem, AWS S3, and others object storage systems."
   ]
  },
  {
   "cell_type": "code",
   "execution_count": 1,
   "metadata": {},
   "outputs": [
    {
     "name": "stdout",
     "output_type": "stream",
     "text": [
      "dimitri 2019-11-03 17:07:07.494204\n",
      "DataJoint Version 0.12.1\n"
     ]
    }
   ],
   "source": [
    "# Author and date\n",
    "import datetime, getpass\n",
    "print(getpass.getuser(), datetime.datetime.today())\n",
    "\n",
    "import datajoint as dj\n",
    "print('DataJoint Version', dj.__version__)"
   ]
  },
  {
   "cell_type": "markdown",
   "metadata": {},
   "source": [
    "### Find a test fie\n",
    "We need a couple of images to work with. Let's get an arbitrary image from Wikipedia:"
   ]
  },
  {
   "cell_type": "code",
   "execution_count": 2,
   "metadata": {},
   "outputs": [
    {
     "name": "stdout",
     "output_type": "stream",
     "text": [
      "Downloaded 606px-Pioneer_plaque.svg.png\n"
     ]
    }
   ],
   "source": [
    "import requests \n",
    "\n",
    "image_url = \"https://upload.wikimedia.org/wikipedia/commons/thumb/0/02/Pioneer_plaque.svg/606px-Pioneer_plaque.svg.png\"\n",
    "local_image_file = image_url.split('/')[-1]\n",
    "\n",
    "# download the file \n",
    "import requests\n",
    "with open(local_image_file, 'wb') as f:\n",
    "    f.write(requests.get(image_url).content)\n",
    "\n",
    "print(\"Downloaded\", local_image_file)"
   ]
  },
  {
   "cell_type": "markdown",
   "metadata": {},
   "source": [
    "To verify, display the image"
   ]
  },
  {
   "cell_type": "code",
   "execution_count": 3,
   "metadata": {},
   "outputs": [
    {
     "data": {
      "application/vnd.jupyter.widget-view+json": {
       "model_id": "ef7307d955c5425e8e8f0c37d61157a4",
       "version_major": 2,
       "version_minor": 0
      },
      "text/plain": [
       "Image(value=b'\\x89PNG\\r\\n\\x1a\\n\\x00\\x00\\x00\\rIHDR\\x00\\x00\\x02^\\x00\\x00\\x01\\xe0\\x08\\x02\\x00\\x00\\x00\\xfbk\\xf4I\\x…"
      ]
     },
     "metadata": {},
     "output_type": "display_data"
    }
   ],
   "source": [
    "import ipywidgets\n",
    "ipywidgets.Image.from_file(local_image_file)"
   ]
  },
  {
   "cell_type": "markdown",
   "metadata": {},
   "source": [
    "Now let's create a new DataJoint schema for this demo"
   ]
  },
  {
   "cell_type": "code",
   "execution_count": 4,
   "metadata": {},
   "outputs": [
    {
     "name": "stdout",
     "output_type": "stream",
     "text": [
      "Connecting dimitri@localhost:3306\n",
      "Proceed to delete entire schema `test_attach_simple`? [yes, No]: yes\n"
     ]
    }
   ],
   "source": [
    "# create a schema for this demo\n",
    "schema = dj.schema('test_attach_simple')\n",
    "schema.drop() # drop if exists to make sure we run a completely new database \n",
    "schema = dj.schema('test_attach_simple')   # create new"
   ]
  },
  {
   "cell_type": "markdown",
   "metadata": {},
   "source": [
    "Let's declare table `Image` storing images as files"
   ]
  },
  {
   "cell_type": "code",
   "execution_count": 5,
   "metadata": {},
   "outputs": [],
   "source": [
    "@schema\n",
    "class Image(dj.Manual):\n",
    "    definition = \"\"\"\n",
    "    image_number : int\n",
    "    ---\n",
    "    image_description : varchar(255) \n",
    "    image_file  : attach         # a file attachment stored internally in the table\n",
    "    \"\"\""
   ]
  },
  {
   "cell_type": "markdown",
   "metadata": {},
   "source": [
    "### inserting\n",
    "Then we simply insert the image fie referencing it with the path."
   ]
  },
  {
   "cell_type": "code",
   "execution_count": 6,
   "metadata": {},
   "outputs": [],
   "source": [
    "Image.insert1((1, 'Pioneer 10 plaque', local_image_file))"
   ]
  },
  {
   "cell_type": "code",
   "execution_count": 7,
   "metadata": {},
   "outputs": [
    {
     "data": {
      "text/html": [
       "\n",
       "        \n",
       "        <style type=\"text/css\">\n",
       "            .Relation{\n",
       "                border-collapse:collapse;\n",
       "            }\n",
       "            .Relation th{\n",
       "                background: #A0A0A0; color: #ffffff; padding:4px; border:#f0e0e0 1px solid;\n",
       "                font-weight: normal; font-family: monospace; font-size: 100%;\n",
       "            }\n",
       "            .Relation td{\n",
       "                padding:4px; border:#f0e0e0 1px solid; font-size:100%;\n",
       "            }\n",
       "            .Relation tr:nth-child(odd){\n",
       "                background: #ffffff;\n",
       "            }\n",
       "            .Relation tr:nth-child(even){\n",
       "                background: #f3f1ff;\n",
       "            }\n",
       "            /* Tooltip container */\n",
       "            .djtooltip {\n",
       "            }\n",
       "            /* Tooltip text */\n",
       "            .djtooltip .djtooltiptext {\n",
       "                visibility: hidden;\n",
       "                width: 120px;\n",
       "                background-color: black;\n",
       "                color: #fff;\n",
       "                text-align: center;\n",
       "                padding: 5px 0;\n",
       "                border-radius: 6px;\n",
       "                /* Position the tooltip text - see examples below! */\n",
       "                position: absolute;\n",
       "                z-index: 1;\n",
       "            }\n",
       "            #primary {\n",
       "                font-weight: bold;\n",
       "                color: black;\n",
       "            }\n",
       "\n",
       "            #nonprimary {\n",
       "                font-weight: normal;\n",
       "                color: white;\n",
       "            }\n",
       "\n",
       "            /* Show the tooltip text when you mouse over the tooltip container */\n",
       "            .djtooltip:hover .djtooltiptext {\n",
       "                visibility: visible;\n",
       "            }\n",
       "        </style>\n",
       "        \n",
       "        <b></b>\n",
       "            <div style=\"max-height:1000px;max-width:1500px;overflow:auto;\">\n",
       "            <table border=\"1\" class=\"Relation\">\n",
       "                <thead> <tr style=\"text-align: right;\"> <th> <div class=\"djtooltip\">\n",
       "                                <p id=\"primary\">image_number</p>\n",
       "                                <span class=\"djtooltiptext\"></span>\n",
       "                            </div></th><th><div class=\"djtooltip\">\n",
       "                                <p id=\"nonprimary\">image_description</p>\n",
       "                                <span class=\"djtooltiptext\"></span>\n",
       "                            </div></th><th><div class=\"djtooltip\">\n",
       "                                <p id=\"nonprimary\">image_file</p>\n",
       "                                <span class=\"djtooltiptext\">a file attachment stored internally in the table</span>\n",
       "                            </div> </th> </tr> </thead>\n",
       "                <tbody> <tr> <td>1</td>\n",
       "<td>Pioneer 10 plaque</td>\n",
       "<td>=BLOB=</td> </tr> </tbody>\n",
       "            </table>\n",
       "            \n",
       "            <p>Total: 1</p></div>\n",
       "            "
      ],
      "text/plain": [
       "*image_number  image_descript image_file\n",
       "+------------+ +------------+ +--------+\n",
       "1              Pioneer 10 pla =BLOB=    \n",
       " (Total: 1)"
      ]
     },
     "execution_count": 7,
     "metadata": {},
     "output_type": "execute_result"
    }
   ],
   "source": [
    "# View table contents\n",
    "Image()"
   ]
  },
  {
   "cell_type": "markdown",
   "metadata": {},
   "source": [
    "### fetching\n",
    "\n",
    "Let's remove the local file and fetch from the database."
   ]
  },
  {
   "cell_type": "code",
   "execution_count": 8,
   "metadata": {},
   "outputs": [],
   "source": [
    "import os\n",
    "os.remove(local_image_file)"
   ]
  },
  {
   "cell_type": "code",
   "execution_count": 9,
   "metadata": {},
   "outputs": [
    {
     "name": "stdout",
     "output_type": "stream",
     "text": [
      "The file is gone\n"
     ]
    }
   ],
   "source": [
    "# verify that the file is gone\n",
    "try:\n",
    "    ipywidgets.Image.from_file(local_image_file)\n",
    "except FileNotFoundError:\n",
    "    print(\"The file is gone\")"
   ]
  },
  {
   "cell_type": "code",
   "execution_count": 10,
   "metadata": {},
   "outputs": [
    {
     "data": {
      "text/plain": [
       "[{'image_number': 1,\n",
       "  'image_description': 'Pioneer 10 plaque',\n",
       "  'image_file': '606px-Pioneer_plaque.svg.png'}]"
      ]
     },
     "execution_count": 10,
     "metadata": {},
     "output_type": "execute_result"
    }
   ],
   "source": [
    "result = Image.fetch(as_dict=True)\n",
    "result"
   ]
  },
  {
   "cell_type": "markdown",
   "metadata": {},
   "source": [
    "The file is downloaded in the local folder by default and its path is returned in the fetch result. Let's verify:"
   ]
  },
  {
   "cell_type": "code",
   "execution_count": 11,
   "metadata": {},
   "outputs": [
    {
     "data": {
      "application/vnd.jupyter.widget-view+json": {
       "model_id": "0bc3011cf02a49ef9e3c903fbc72f4f3",
       "version_major": 2,
       "version_minor": 0
      },
      "text/plain": [
       "Image(value=b'\\x89PNG\\r\\n\\x1a\\n\\x00\\x00\\x00\\rIHDR\\x00\\x00\\x02^\\x00\\x00\\x01\\xe0\\x08\\x02\\x00\\x00\\x00\\xfbk\\xf4I\\x…"
      ]
     },
     "metadata": {},
     "output_type": "display_data"
    }
   ],
   "source": [
    "ipywidgets.Image.from_file(result[0]['image_file'])"
   ]
  },
  {
   "cell_type": "markdown",
   "metadata": {
    "scrolled": false
   },
   "source": [
    "You can specify an explicit path to download the attachments using the `download_path` keyword argument:"
   ]
  },
  {
   "cell_type": "code",
   "execution_count": 12,
   "metadata": {},
   "outputs": [],
   "source": [
    "os.makedirs('./temp', exist_ok=True)\n",
    "result = Image.fetch(download_path='./temp')"
   ]
  },
  {
   "cell_type": "markdown",
   "metadata": {},
   "source": [
    "Note that DataJoint will not create a second copy of the attached file if the contents of the file is unchanged. But a different file with the same name already exists, it will create a new name for the attached file:"
   ]
  },
  {
   "cell_type": "code",
   "execution_count": 13,
   "metadata": {},
   "outputs": [
    {
     "data": {
      "text/plain": [
       "'606px-Pioneer_plaque.svg.png'"
      ]
     },
     "execution_count": 13,
     "metadata": {},
     "output_type": "execute_result"
    }
   ],
   "source": [
    "downloaded_file = (Image & {'image_id': 1}).fetch1('image_file')\n",
    "downloaded_file"
   ]
  },
  {
   "cell_type": "code",
   "execution_count": 14,
   "metadata": {},
   "outputs": [
    {
     "data": {
      "text/plain": [
       "'606px-Pioneer_plaque.svg.png'"
      ]
     },
     "execution_count": 14,
     "metadata": {},
     "output_type": "execute_result"
    }
   ],
   "source": [
    "downloaded_file = (Image & {'image_id': 1}).fetch1('image_file')\n",
    "downloaded_file"
   ]
  },
  {
   "cell_type": "code",
   "execution_count": 15,
   "metadata": {},
   "outputs": [],
   "source": [
    "with open(downloaded_file, 'w') as f:\n",
    "    f.write('different contents')"
   ]
  },
  {
   "cell_type": "code",
   "execution_count": 16,
   "metadata": {
    "scrolled": false
   },
   "outputs": [
    {
     "data": {
      "text/plain": [
       "'606px-Pioneer_plaque.svg_0000.png'"
      ]
     },
     "execution_count": 16,
     "metadata": {},
     "output_type": "execute_result"
    }
   ],
   "source": [
    "downloaded_file = (Image & {'image_id': 1}).fetch1('image_file')\n",
    "downloaded_file"
   ]
  },
  {
   "cell_type": "markdown",
   "metadata": {
    "scrolled": true
   },
   "source": [
    "I will keep incrementing the suffix everytime a files with unique contents are downloaded. We recommend using diverse names for attached files to avoid the overhead of checking the contents of the downloaded files.\n",
    "\n",
    "That's all!"
   ]
  }
 ],
 "metadata": {
  "kernelspec": {
   "display_name": "Python 3",
   "language": "python",
   "name": "python3"
  },
  "language_info": {
   "codemirror_mode": {
    "name": "ipython",
    "version": 3
   },
   "file_extension": ".py",
   "mimetype": "text/x-python",
   "name": "python",
   "nbconvert_exporter": "python",
   "pygments_lexer": "ipython3",
   "version": "3.7.3"
  }
 },
 "nbformat": 4,
 "nbformat_minor": 2
}
