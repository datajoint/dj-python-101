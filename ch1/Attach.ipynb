{
 "cells": [
  {
   "cell_type": "code",
   "execution_count": 1,
   "metadata": {},
   "outputs": [
    {
     "name": "stdout",
     "output_type": "stream",
     "text": [
      "dimitri 2019-11-03 15:36:53.412184\n"
     ]
    }
   ],
   "source": [
    "# Author and date\n",
    "import datetime, getpass\n",
    "print(getpass.getuser(), datetime.datetime.today())"
   ]
  },
  {
   "cell_type": "markdown",
   "metadata": {},
   "source": [
    "# Attachnments and configurable blobs (new in datajoint 0.12.0)\n",
    "\n",
    "This notebooks demonstrates the storage and retrieval of complex datatypes (blobs) and file attachments in DataJoint.\n",
    "\n",
    "A **blob** refers to an attribute in a table that can store complex data structures such as numeric arrays.\n",
    "\n",
    "An **attachment** refers to an attribute that can store an entire file with its filename, etc.\n",
    "\n",
    "Both blobs and attachments can be stored directly in the tables of the relational database or in configurable external \"stores\" such as network-attached storage servers or object storage systems such [Amazon S3](https://aws.amazon.com/s3/) and [Minio](https://min.io/).\n",
    "\n",
    "Many of these features existing in prior releases of datajoint but have been substantially expanded in version 0.12.0."
   ]
  },
  {
   "cell_type": "code",
   "execution_count": 2,
   "metadata": {},
   "outputs": [],
   "source": [
    "%matplotlib inline\n",
    "from IPython import display\n",
    "from matplotlib import pyplot as plt\n",
    "import os\n",
    "import imageio\n",
    "import requests\n",
    "import numpy as np\n",
    "\n",
    "import datajoint as dj"
   ]
  },
  {
   "cell_type": "code",
   "execution_count": 3,
   "metadata": {},
   "outputs": [
    {
     "data": {
      "text/plain": [
       "'0.12.1'"
      ]
     },
     "execution_count": 3,
     "metadata": {},
     "output_type": "execute_result"
    }
   ],
   "source": [
    "dj.__version__"
   ]
  },
  {
   "cell_type": "markdown",
   "metadata": {},
   "source": [
    "## Configure stores\n",
    "The following is a configuration defining two external stores. This should only be done once for all users and the configuration file must be saved and provided to all users.\n",
    "\n",
    "The first store is named `\"shared\"` and is hosted on an S3 endpoint. \n",
    "\n",
    "The second store is named `\"local\"` and it uses the local path `./dj-store`.\n",
    "\n",
    "Now these repositories can be used for blobs and attachments."
   ]
  },
  {
   "cell_type": "code",
   "execution_count": 4,
   "metadata": {},
   "outputs": [],
   "source": [
    "## Storage configuration\n",
    "\n",
    "# set up stores\n",
    "dj.config['stores'] = {\n",
    "    'shared': dict(\n",
    "        protocol='s3',\n",
    "        endpoint='localhost:9000',\n",
    "        access_key='datajoint',\n",
    "        secret_key='datajoint',\n",
    "        bucket='datajoint-demo',        \n",
    "        location=''\n",
    "    ),       \n",
    "    'local': {  # store in files\n",
    "        'protocol': 'file',\n",
    "        'location': os.path.abspath('./dj-store')\n",
    "    }}"
   ]
  },
  {
   "cell_type": "code",
   "execution_count": 6,
   "metadata": {},
   "outputs": [
    {
     "name": "stdout",
     "output_type": "stream",
     "text": [
      "Please enter DataJoint username: dimitri\n",
      "Please enter DataJoint password: ········\n",
      "Connecting dimitri@localhost:3306\n"
     ]
    }
   ],
   "source": [
    "# create a schema for this demo\n",
    "schema = dj.schema('test_attach')"
   ]
  },
  {
   "cell_type": "code",
   "execution_count": 8,
   "metadata": {},
   "outputs": [],
   "source": [
    "dj.config['database.password'] = 'dosaafdosaaf'"
   ]
  },
  {
   "cell_type": "code",
   "execution_count": 10,
   "metadata": {},
   "outputs": [],
   "source": [
    "dj.config['database.user'] = 'dimitri'"
   ]
  },
  {
   "cell_type": "code",
   "execution_count": 11,
   "metadata": {},
   "outputs": [
    {
     "data": {
      "text/plain": [
       "{   'connection.charset': '',\n",
       "    'connection.init_function': None,\n",
       "    'database.host': 'localhost',\n",
       "    'database.password': 'dosaafdosaaf',\n",
       "    'database.port': 3306,\n",
       "    'database.reconnect': True,\n",
       "    'database.use_tls': None,\n",
       "    'database.user': 'dimitri',\n",
       "    'display.limit': 12,\n",
       "    'display.show_tuple_count': True,\n",
       "    'display.width': 14,\n",
       "    'enable_python_native_blobs': False,\n",
       "    'fetch_format': 'array',\n",
       "    'loglevel': 'INFO',\n",
       "    'safemode': True,\n",
       "    'stores': {   'local': {   'location': '/home/dimitri/dev/dj-python-101/ch1/dj-store',\n",
       "                               'protocol': 'file'},\n",
       "                  'shared': {   'access_key': 'datajoint',\n",
       "                                'bucket': 'datajoint-demo',\n",
       "                                'endpoint': 'localhost:9000',\n",
       "                                'location': '',\n",
       "                                'protocol': 's3',\n",
       "                                'secret_key': 'datajoint'}}}"
      ]
     },
     "execution_count": 11,
     "metadata": {},
     "output_type": "execute_result"
    }
   ],
   "source": [
    "dj.config"
   ]
  },
  {
   "cell_type": "code",
   "execution_count": 9,
   "metadata": {},
   "outputs": [
    {
     "data": {
      "text/plain": [
       "{   'connection.charset': '',\n",
       "    'connection.init_function': None,\n",
       "    'database.host': 'localhost',\n",
       "    'database.password': 'dosaafdosaaf',\n",
       "    'database.port': 3306,\n",
       "    'database.reconnect': True,\n",
       "    'database.use_tls': None,\n",
       "    'database.user': None,\n",
       "    'display.limit': 12,\n",
       "    'display.show_tuple_count': True,\n",
       "    'display.width': 14,\n",
       "    'enable_python_native_blobs': False,\n",
       "    'fetch_format': 'array',\n",
       "    'loglevel': 'INFO',\n",
       "    'safemode': True,\n",
       "    'stores': {   'local': {   'location': '/home/dimitri/dev/dj-python-101/ch1/dj-store',\n",
       "                               'protocol': 'file'},\n",
       "                  'shared': {   'access_key': 'datajoint',\n",
       "                                'bucket': 'datajoint-demo',\n",
       "                                'endpoint': 'localhost:9000',\n",
       "                                'location': '',\n",
       "                                'protocol': 's3',\n",
       "                                'secret_key': 'datajoint'}}}"
      ]
     },
     "execution_count": 9,
     "metadata": {},
     "output_type": "execute_result"
    }
   ],
   "source": [
    "dj.config"
   ]
  },
  {
   "cell_type": "code",
   "execution_count": null,
   "metadata": {},
   "outputs": [],
   "source": [
    "schema.drop()  # drop if exists to create anew"
   ]
  },
  {
   "cell_type": "code",
   "execution_count": null,
   "metadata": {},
   "outputs": [],
   "source": [
    "# create a schema for this demo\n",
    "schema = dj.schema('test_attach')"
   ]
  },
  {
   "cell_type": "markdown",
   "metadata": {},
   "source": [
    "# A Minimal example of blobs and configurable blobs\n",
    "Let's declear the table Test with blobs and attachments stored intrnally and externally."
   ]
  },
  {
   "cell_type": "code",
   "execution_count": null,
   "metadata": {},
   "outputs": [],
   "source": [
    "@schema\n",
    "class Test(dj.Manual):\n",
    "    definition = \"\"\"\n",
    "    # Test blob and attachments\n",
    "    id : int\n",
    "    ---\n",
    "    b0 : longblob       # a python object stored internally in the table\n",
    "    b1 : blob@shared    # a python object stored on S3\n",
    "    b2 : blob@local     # a python object store on the file system\n",
    "    a0 : attach         # a file attachment stored internally in the table\n",
    "    a1 : attach@shared  # a file attachment stored on s3\n",
    "    a2 : attach@local   # a file attachment stored on the file system\n",
    "    \"\"\""
   ]
  },
  {
   "cell_type": "code",
   "execution_count": null,
   "metadata": {},
   "outputs": [],
   "source": [
    "# Create three numpy arrays as save them in different files\n",
    "q0, q1, q2 = np.random.randn(3,4), np.random.randn(7), np.random.randn(2, 3, 4)\n",
    "f0, f1, f2 = './outfile0.npy', './outfile1.npy', './outfile2.npy'\n",
    "np.save(f0, q0)\n",
    "np.save(f1, q1)\n",
    "np.save(f2, q2)"
   ]
  },
  {
   "cell_type": "code",
   "execution_count": null,
   "metadata": {},
   "outputs": [],
   "source": [
    "Test.delete()"
   ]
  },
  {
   "cell_type": "code",
   "execution_count": null,
   "metadata": {},
   "outputs": [],
   "source": [
    "# insert the blobs and the attachments into the table\n",
    "Test.insert1(dict(id=1, b0=q0, b1=q1, b2=q2, a0=f0, a1=f1, a2=f2))"
   ]
  },
  {
   "cell_type": "code",
   "execution_count": null,
   "metadata": {},
   "outputs": [],
   "source": [
    "Test()"
   ]
  },
  {
   "cell_type": "code",
   "execution_count": null,
   "metadata": {},
   "outputs": [],
   "source": [
    "# delete the attached files\n",
    "os.remove(f0)\n",
    "os.remove(f1)\n",
    "os.remove(f2)"
   ]
  },
  {
   "cell_type": "code",
   "execution_count": null,
   "metadata": {},
   "outputs": [],
   "source": [
    "# now fetch them and verify that they retrieved correctly\n",
    "result = Test.fetch(as_dict=True)"
   ]
  },
  {
   "cell_type": "code",
   "execution_count": null,
   "metadata": {},
   "outputs": [],
   "source": [
    "result[0]['b0']"
   ]
  },
  {
   "cell_type": "code",
   "execution_count": null,
   "metadata": {
    "scrolled": false
   },
   "outputs": [],
   "source": [
    "q0"
   ]
  },
  {
   "cell_type": "code",
   "execution_count": null,
   "metadata": {},
   "outputs": [],
   "source": [
    "np.array_equal(q0, result[0]['b0'])"
   ]
  },
  {
   "cell_type": "code",
   "execution_count": null,
   "metadata": {},
   "outputs": [],
   "source": [
    "result[0]['a1']"
   ]
  },
  {
   "cell_type": "code",
   "execution_count": null,
   "metadata": {},
   "outputs": [],
   "source": [
    "np.load(result[0]['a1'])"
   ]
  },
  {
   "cell_type": "code",
   "execution_count": null,
   "metadata": {},
   "outputs": [],
   "source": [
    "q1"
   ]
  },
  {
   "cell_type": "code",
   "execution_count": null,
   "metadata": {
    "scrolled": false
   },
   "outputs": [],
   "source": [
    "schema.external"
   ]
  },
  {
   "cell_type": "code",
   "execution_count": null,
   "metadata": {},
   "outputs": [],
   "source": [
    "schema.external['local']"
   ]
  },
  {
   "cell_type": "code",
   "execution_count": null,
   "metadata": {},
   "outputs": [],
   "source": [
    "schema.external['shared']"
   ]
  },
  {
   "cell_type": "code",
   "execution_count": null,
   "metadata": {},
   "outputs": [],
   "source": [
    "schema.external['local'].fetch_external_paths()"
   ]
  },
  {
   "cell_type": "code",
   "execution_count": null,
   "metadata": {},
   "outputs": [],
   "source": [
    "schema.external['shared'].fetch_external_paths()"
   ]
  },
  {
   "cell_type": "code",
   "execution_count": null,
   "metadata": {},
   "outputs": [],
   "source": [
    "schema.external['shared'].used()"
   ]
  },
  {
   "cell_type": "code",
   "execution_count": null,
   "metadata": {},
   "outputs": [],
   "source": [
    "schema.external['local'].used()"
   ]
  },
  {
   "cell_type": "code",
   "execution_count": null,
   "metadata": {},
   "outputs": [],
   "source": [
    "schema.external['shared'].unused()"
   ]
  },
  {
   "cell_type": "code",
   "execution_count": null,
   "metadata": {
    "scrolled": true
   },
   "outputs": [],
   "source": [
    "Test.delete()"
   ]
  },
  {
   "cell_type": "code",
   "execution_count": null,
   "metadata": {},
   "outputs": [],
   "source": [
    "schema.external['shared']"
   ]
  },
  {
   "cell_type": "code",
   "execution_count": null,
   "metadata": {},
   "outputs": [],
   "source": [
    "schema.external['shared'].delete(delete_external_files=True)"
   ]
  },
  {
   "cell_type": "code",
   "execution_count": null,
   "metadata": {},
   "outputs": [],
   "source": [
    "# complete cleanup of all external stores\n",
    "for s in schema.external.values():\n",
    "    s.delete(delete_external_files=True)"
   ]
  },
  {
   "cell_type": "markdown",
   "metadata": {},
   "source": [
    "## Lookup of images on the web\n",
    "We create a lookup table, WebImage to point to some images available on the web"
   ]
  },
  {
   "cell_type": "code",
   "execution_count": null,
   "metadata": {},
   "outputs": [],
   "source": [
    "@schema\n",
    "class WebImage(dj.Lookup):\n",
    "    definition = \"\"\"\n",
    "    # A reference to a web image\n",
    "    image_number : int\n",
    "    ---\n",
    "    image_name : varchar(30)\n",
    "    image_description : varchar(1024)\n",
    "    image_url : varchar(1024)\n",
    "    \n",
    "    unique index(image_name)\n",
    "    \"\"\"\n",
    "    contents = [\n",
    "        (0, \"pyramidal\", \n",
    "         \n",
    "         'Coronal section containing the chronically imaged pyramidal neuron \"dow\" '\\\n",
    "         '(visualized by green GFP) does not stain for GABA (visualized by antibody staining in red). '\\\n",
    "         'Confocal image stack, overlay of GFP and GABA channels. Scale bar: 100 um',\n",
    "         \n",
    "         \"https://upload.wikimedia.org/wikipedia/commons/d/dc/PLoSBiol4.e126.Fig6fNeuron.jpg\"\n",
    "        ),\n",
    "        (1, \"striatal\", \n",
    "         \n",
    "         \"Mouse spiny striatal projection neuron expressing a transgenic fluorescent protein \"\\\n",
    "         \"(colored yellow) delivered by a recombinant virus (AAV). \"\\\n",
    "         \"The striatal interneuron are stainerd in green for the neurokinin-1 receptor.\",\n",
    "         \n",
    "         \"https://upload.wikimedia.org/wikipedia/commons/e/e8/Striatal_neuron_in_an_interneuron_cage.jpg\"\n",
    "        )\n",
    "    ]"
   ]
  },
  {
   "cell_type": "markdown",
   "metadata": {},
   "source": [
    "### Preview the images directly from the web"
   ]
  },
  {
   "cell_type": "code",
   "execution_count": null,
   "metadata": {},
   "outputs": [],
   "source": [
    "Image.from_url((WebImage & 'image_number=0').fetch1('image_url'))"
   ]
  },
  {
   "cell_type": "code",
   "execution_count": null,
   "metadata": {},
   "outputs": [],
   "source": [
    "Image.from_url((WebImage & 'image_number=1').fetch1('image_url'))"
   ]
  },
  {
   "cell_type": "markdown",
   "metadata": {},
   "source": [
    "## Define a table with attachments\n",
    "Now we can use the stores to define attachment attributes in the form `attribute_name : attach@store  # comment` where the store is either `@local` or `@shared` as defined above.\n",
    "\n",
    "Let's define the table `OriginalFile` to automatically download and attach files from `WebImage` and stores the attachments in the shared store."
   ]
  },
  {
   "cell_type": "code",
   "execution_count": null,
   "metadata": {},
   "outputs": [],
   "source": [
    "@schema\n",
    "class OriginalFile(dj.Imported):\n",
    "    definition = \"\"\"\n",
    "    -> WebImage\n",
    "    ---\n",
    "    image_file : attach@shared\n",
    "    \"\"\"\n",
    "    \n",
    "    def make(self, key):\n",
    "        # get the URL\n",
    "        url = (WebImage & key).fetch1('image_url')\n",
    "        \n",
    "        # download the file from the web\n",
    "        local_file = os.path.join(os.path.abspath('.'), url.split('/')[-1])\n",
    "        with open(local_file, 'wb') as f:\n",
    "            f.write(requests.get(url).content)\n",
    "            \n",
    "        # attach the file\n",
    "        self.insert1(dict(key, image_file=local_file))\n",
    "        \n",
    "        # delete the downloaded file\n",
    "        os.remove(local_file)"
   ]
  },
  {
   "cell_type": "code",
   "execution_count": null,
   "metadata": {},
   "outputs": [],
   "source": [
    "dj.Diagram(schema)"
   ]
  },
  {
   "cell_type": "code",
   "execution_count": null,
   "metadata": {},
   "outputs": [],
   "source": [
    "# perform the download\n",
    "OriginalFile.populate()"
   ]
  },
  {
   "cell_type": "code",
   "execution_count": null,
   "metadata": {},
   "outputs": [],
   "source": [
    "OriginalFile()"
   ]
  },
  {
   "cell_type": "code",
   "execution_count": null,
   "metadata": {},
   "outputs": [],
   "source": [
    "# preview downloaded attachment\n",
    "file = (OriginalFile & 'image_number=1').fetch1('image_file')\n",
    "Image.from_file(file)"
   ]
  },
  {
   "cell_type": "code",
   "execution_count": null,
   "metadata": {},
   "outputs": [],
   "source": [
    "os.remove(file)"
   ]
  },
  {
   "cell_type": "markdown",
   "metadata": {},
   "source": [
    "## Extract images into blobs\n",
    "Now let's define another class that extracts imags from attached files and stores as blobs in the local store."
   ]
  },
  {
   "cell_type": "code",
   "execution_count": null,
   "metadata": {},
   "outputs": [],
   "source": [
    "# Declare a table with a configurable blob\n",
    "@schema\n",
    "class Slide(dj.Computed):\n",
    "    definition = \"\"\"\n",
    "    -> OriginalFile\n",
    "    ---\n",
    "    image_array : blob@local  # array in specified store\n",
    "    \"\"\"\n",
    "    \n",
    "    def make(self, key):\n",
    "        # get the attached file\n",
    "        file = (OriginalFile & key).fetch1('image_file')\n",
    "        \n",
    "        # save image data\n",
    "        self.insert1(dict(key, image_array=imageio.imread(file)))\n",
    "        \n",
    "        # remove the downloaded file\n",
    "        os.remove(file)"
   ]
  },
  {
   "cell_type": "code",
   "execution_count": null,
   "metadata": {},
   "outputs": [],
   "source": [
    "Slide.populate()"
   ]
  },
  {
   "cell_type": "code",
   "execution_count": null,
   "metadata": {},
   "outputs": [],
   "source": [
    "Slide()"
   ]
  },
  {
   "cell_type": "code",
   "execution_count": null,
   "metadata": {},
   "outputs": [],
   "source": [
    "schema.external"
   ]
  },
  {
   "cell_type": "code",
   "execution_count": null,
   "metadata": {},
   "outputs": [],
   "source": [
    "schema.external['local']"
   ]
  },
  {
   "cell_type": "code",
   "execution_count": null,
   "metadata": {},
   "outputs": [],
   "source": [
    "# Plot image form a blob\n",
    "plt.imshow((Slide & 'image_number=0').fetch1('image_array'));"
   ]
  },
  {
   "cell_type": "markdown",
   "metadata": {},
   "source": [
    "## Caching\n",
    "By default, the data from blobs and attachments are retrieved from remote stores with every fetch command. \n",
    "For repeated queries, a cache folder may be specified to improve performance and reduce cost of operations.\n",
    "After the first fetch of a given blob or attachment, it will be read from the cache. "
   ]
  },
  {
   "cell_type": "code",
   "execution_count": null,
   "metadata": {},
   "outputs": [],
   "source": [
    "# configure the cache\n",
    "dj.config['cache'] = './dj-cache'"
   ]
  },
  {
   "cell_type": "code",
   "execution_count": null,
   "metadata": {},
   "outputs": [],
   "source": [
    "# clear the cache for the timing test\n",
    "import shutil\n",
    "if os.path.isdir(dj.config['cache']):\n",
    "    shutil.rmtree(dj.config['cache'])"
   ]
  },
  {
   "cell_type": "code",
   "execution_count": null,
   "metadata": {},
   "outputs": [],
   "source": [
    "%%timeit -n1 -r1\n",
    "\n",
    "# first time no cache\n",
    "files = OriginalFile.fetch('image_file')"
   ]
  },
  {
   "cell_type": "code",
   "execution_count": null,
   "metadata": {},
   "outputs": [],
   "source": [
    "%%timeit -n1 -r1\n",
    "\n",
    "# now with cache\n",
    "files = OriginalFile.fetch('image_file')"
   ]
  },
  {
   "cell_type": "markdown",
   "metadata": {},
   "source": [
    "## Deleting\n",
    "Deleting from tables using external storage is just as simple and transaction-safe as with all other kinds of attributes. Simply use the `delete` method:"
   ]
  },
  {
   "cell_type": "code",
   "execution_count": null,
   "metadata": {},
   "outputs": [],
   "source": [
    "schema.external"
   ]
  },
  {
   "cell_type": "code",
   "execution_count": null,
   "metadata": {},
   "outputs": [],
   "source": [
    "schema.external['shared']"
   ]
  },
  {
   "cell_type": "code",
   "execution_count": null,
   "metadata": {},
   "outputs": [],
   "source": [
    "schema.external['shared'].unused()"
   ]
  },
  {
   "cell_type": "code",
   "execution_count": null,
   "metadata": {},
   "outputs": [],
   "source": [
    "(WebImage & 'image_number=0').delete()"
   ]
  },
  {
   "cell_type": "code",
   "execution_count": null,
   "metadata": {},
   "outputs": [],
   "source": [
    "schema.external['shared'].unused()"
   ]
  },
  {
   "cell_type": "markdown",
   "metadata": {},
   "source": [
    "# Deleting"
   ]
  },
  {
   "cell_type": "markdown",
   "metadata": {},
   "source": [
    "For the sake of performance, deleting from the data tables does not remove the data from external storage. "
   ]
  },
  {
   "cell_type": "markdown",
   "metadata": {},
   "source": [
    "The `delete` method of the external table deletes its **unused** entries and their corresponding external files."
   ]
  },
  {
   "cell_type": "code",
   "execution_count": null,
   "metadata": {},
   "outputs": [],
   "source": [
    "schema.external"
   ]
  },
  {
   "cell_type": "markdown",
   "metadata": {},
   "source": [
    "You may cleanup the external table using its `delete` method.  It is a transaction-safe operation and can be performed at any time."
   ]
  },
  {
   "cell_type": "code",
   "execution_count": null,
   "metadata": {},
   "outputs": [],
   "source": [
    "schema.external['local'].delete(delete_external_files=True)"
   ]
  },
  {
   "cell_type": "code",
   "execution_count": null,
   "metadata": {
    "scrolled": true
   },
   "outputs": [],
   "source": [
    "schema.external['shared'].delete(delete_external_files=True)"
   ]
  },
  {
   "cell_type": "code",
   "execution_count": null,
   "metadata": {},
   "outputs": [],
   "source": [
    "for s in schema.external.values():\n",
    "    s.delete(delete_external_files=True)"
   ]
  },
  {
   "cell_type": "code",
   "execution_count": null,
   "metadata": {},
   "outputs": [],
   "source": [
    "schema.external['shared'].used()"
   ]
  },
  {
   "cell_type": "code",
   "execution_count": null,
   "metadata": {},
   "outputs": [],
   "source": [
    "schema.external['shared'].unused()"
   ]
  },
  {
   "cell_type": "code",
   "execution_count": null,
   "metadata": {},
   "outputs": [],
   "source": []
  }
 ],
 "metadata": {
  "kernelspec": {
   "display_name": "Python 3",
   "language": "python",
   "name": "python3"
  },
  "language_info": {
   "codemirror_mode": {
    "name": "ipython",
    "version": 3
   },
   "file_extension": ".py",
   "mimetype": "text/x-python",
   "name": "python",
   "nbconvert_exporter": "python",
   "pygments_lexer": "ipython3",
   "version": "3.7.3"
  }
 },
 "nbformat": 4,
 "nbformat_minor": 2
}
