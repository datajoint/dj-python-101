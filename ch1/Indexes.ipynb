{
 "cells": [
  {
   "cell_type": "markdown",
   "metadata": {
    "slideshow": {
     "slide_type": "slide"
    }
   },
   "source": [
    "# Indexes\n",
    "\n",
    "Table indexes are data structures that allow fast lookups by an indexed attribute or combination of attributes.\n",
    "\n",
    "In DataJoint, indexes are created by one of the three mechanisms:\n",
    "\n",
    "1. Primary key \n",
    "2. Foreign key \n",
    "3. Explicitly defined indexes\n",
    "\n",
    "The first two mechanisms are obligatory. Every table has a primary key, which serves as an unique index. Therefore, restrictions by a primary key are very fast. Foreign keys create additional indexes unless a suitable index already exists."
   ]
  },
  {
   "cell_type": "markdown",
   "metadata": {},
   "source": [
    "Let's test this principle. Let's create a table with a 10,000 entries and compare lookup times:"
   ]
  },
  {
   "cell_type": "code",
   "execution_count": 1,
   "metadata": {},
   "outputs": [
    {
     "name": "stdout",
     "output_type": "stream",
     "text": [
      "Connecting dimitri@localhost:3306\n",
      "Proceed to delete entire schema `test_indexes`? [yes, No]: yes\n"
     ]
    }
   ],
   "source": [
    "import datajoint as dj\n",
    "schema = dj.schema('test_indexes')\n",
    "schema.drop() # drop previous schema definition (if any) and create anew\n",
    "schema = dj.schema('test_indexes')"
   ]
  },
  {
   "cell_type": "markdown",
   "metadata": {},
   "source": [
    "Let's say a mouse in the lab has a lab-specific ID but it also has a separate id issued by the animal facility."
   ]
  },
  {
   "cell_type": "code",
   "execution_count": 2,
   "metadata": {},
   "outputs": [],
   "source": [
    "@schema\n",
    "class Mouse(dj.Manual):\n",
    "    definition = \"\"\"\n",
    "    mouse_id : int  # lab-specific ID\n",
    "    ---\n",
    "    tag_id : int  # animal facility ID\n",
    "    \"\"\""
   ]
  },
  {
   "cell_type": "code",
   "execution_count": 3,
   "metadata": {},
   "outputs": [],
   "source": [
    "import random\n",
    "def populate_mice(n=200_000):\n",
    "    \"\"\"insert a bunch of mice\"\"\"\n",
    "    Mouse.insert(\n",
    "        ((random.randint(1,1000_000_000), random.randint(1,1000_000_000)) \n",
    "         for i in range(n)), skip_duplicates=True)"
   ]
  },
  {
   "cell_type": "code",
   "execution_count": 4,
   "metadata": {},
   "outputs": [],
   "source": [
    "populate_mice()"
   ]
  },
  {
   "cell_type": "code",
   "execution_count": 5,
   "metadata": {},
   "outputs": [
    {
     "data": {
      "text/html": [
       "\n",
       "        \n",
       "        <style type=\"text/css\">\n",
       "            .Relation{\n",
       "                border-collapse:collapse;\n",
       "            }\n",
       "            .Relation th{\n",
       "                background: #A0A0A0; color: #ffffff; padding:4px; border:#f0e0e0 1px solid;\n",
       "                font-weight: normal; font-family: monospace; font-size: 100%;\n",
       "            }\n",
       "            .Relation td{\n",
       "                padding:4px; border:#f0e0e0 1px solid; font-size:100%;\n",
       "            }\n",
       "            .Relation tr:nth-child(odd){\n",
       "                background: #ffffff;\n",
       "            }\n",
       "            .Relation tr:nth-child(even){\n",
       "                background: #f3f1ff;\n",
       "            }\n",
       "            /* Tooltip container */\n",
       "            .djtooltip {\n",
       "            }\n",
       "            /* Tooltip text */\n",
       "            .djtooltip .djtooltiptext {\n",
       "                visibility: hidden;\n",
       "                width: 120px;\n",
       "                background-color: black;\n",
       "                color: #fff;\n",
       "                text-align: center;\n",
       "                padding: 5px 0;\n",
       "                border-radius: 6px;\n",
       "                /* Position the tooltip text - see examples below! */\n",
       "                position: absolute;\n",
       "                z-index: 1;\n",
       "            }\n",
       "            #primary {\n",
       "                font-weight: bold;\n",
       "                color: black;\n",
       "            }\n",
       "\n",
       "            #nonprimary {\n",
       "                font-weight: normal;\n",
       "                color: white;\n",
       "            }\n",
       "\n",
       "            /* Show the tooltip text when you mouse over the tooltip container */\n",
       "            .djtooltip:hover .djtooltiptext {\n",
       "                visibility: visible;\n",
       "            }\n",
       "        </style>\n",
       "        \n",
       "        <b></b>\n",
       "            <div style=\"max-height:1000px;max-width:1500px;overflow:auto;\">\n",
       "            <table border=\"1\" class=\"Relation\">\n",
       "                <thead> <tr style=\"text-align: right;\"> <th> <div class=\"djtooltip\">\n",
       "                                <p id=\"primary\">mouse_id</p>\n",
       "                                <span class=\"djtooltiptext\">lab-specific ID</span>\n",
       "                            </div></th><th><div class=\"djtooltip\">\n",
       "                                <p id=\"nonprimary\">tag_id</p>\n",
       "                                <span class=\"djtooltiptext\">animal facility ID</span>\n",
       "                            </div> </th> </tr> </thead>\n",
       "                <tbody> <tr> <td>11217</td>\n",
       "<td>875281392</td></tr><tr><td>17552</td>\n",
       "<td>152331807</td></tr><tr><td>20961</td>\n",
       "<td>540276155</td></tr><tr><td>21556</td>\n",
       "<td>412369250</td></tr><tr><td>27310</td>\n",
       "<td>477066288</td></tr><tr><td>29424</td>\n",
       "<td>431836526</td></tr><tr><td>32469</td>\n",
       "<td>279566781</td></tr><tr><td>35496</td>\n",
       "<td>479823219</td></tr><tr><td>36278</td>\n",
       "<td>708425691</td></tr><tr><td>38345</td>\n",
       "<td>257800827</td></tr><tr><td>43252</td>\n",
       "<td>813350402</td></tr><tr><td>44114</td>\n",
       "<td>74710885</td> </tr> </tbody>\n",
       "            </table>\n",
       "            <p>...</p>\n",
       "            <p>Total: 199976</p></div>\n",
       "            "
      ],
      "text/plain": [
       "*mouse_id    tag_id       \n",
       "+----------+ +-----------+\n",
       "11217        875281392    \n",
       "17552        152331807    \n",
       "20961        540276155    \n",
       "21556        412369250    \n",
       "27310        477066288    \n",
       "29424        431836526    \n",
       "32469        279566781    \n",
       "35496        479823219    \n",
       "36278        708425691    \n",
       "38345        257800827    \n",
       "43252        813350402    \n",
       "44114        74710885     \n",
       "   ...\n",
       " (Total: 199976)"
      ]
     },
     "execution_count": 5,
     "metadata": {},
     "output_type": "execute_result"
    }
   ],
   "source": [
    "Mouse()"
   ]
  },
  {
   "cell_type": "code",
   "execution_count": 6,
   "metadata": {},
   "outputs": [
    {
     "name": "stdout",
     "output_type": "stream",
     "text": [
      "3.35 ms ± 520 µs per loop (mean ± std. dev. of 10 runs, 10 loops each)\n"
     ]
    }
   ],
   "source": [
    "%%timeit -n10 -r10\n",
    "\n",
    "# efficient! Uses the primary key\n",
    "(Mouse() & {'mouse_id': random.randint(0, 999_999)}).fetch()"
   ]
  },
  {
   "cell_type": "code",
   "execution_count": 7,
   "metadata": {},
   "outputs": [
    {
     "name": "stdout",
     "output_type": "stream",
     "text": [
      "33.8 ms ± 3.7 ms per loop (mean ± std. dev. of 10 runs, 10 loops each)\n"
     ]
    }
   ],
   "source": [
    "%%timeit -n10 -r10\n",
    "\n",
    "# inefficient! Requires a full table scan\n",
    "(Mouse() & {'tag_id': random.randint(0, 999_999)}).fetch()"
   ]
  },
  {
   "cell_type": "markdown",
   "metadata": {},
   "source": [
    "The indexed searches are much faster!"
   ]
  },
  {
   "cell_type": "markdown",
   "metadata": {},
   "source": [
    "To make searches faster on fields other than the primary key or a foreign key, you can add a secondary index explicitly. \n",
    "\n",
    "Regular indexes are declared as `index(attr1, ..., attrN)` on a separate line anywhere in the table declration (below the primary key divide). \n",
    "\n",
    "Indexes can be declared with unique constraint as  `unique index (attr1, ..., attrN)`."
   ]
  },
  {
   "cell_type": "markdown",
   "metadata": {},
   "source": [
    "Let's redeclare the table with a unique index on `tag_id`."
   ]
  },
  {
   "cell_type": "code",
   "execution_count": 8,
   "metadata": {},
   "outputs": [
    {
     "name": "stdout",
     "output_type": "stream",
     "text": [
      "`test_indexes`.`mouse` (199976 tuples)\n",
      "Proceed? [yes, No]: yes\n",
      "Tables dropped.  Restart kernel.\n"
     ]
    }
   ],
   "source": [
    "Mouse.drop()"
   ]
  },
  {
   "cell_type": "code",
   "execution_count": 9,
   "metadata": {},
   "outputs": [],
   "source": [
    "@schema\n",
    "class Mouse(dj.Manual):\n",
    "    definition = \"\"\"\n",
    "    mouse_id : int  # lab-specific ID\n",
    "    ---\n",
    "    tag_id : int  # animal facility ID\n",
    "    unique index (tag_id)\n",
    "    \"\"\""
   ]
  },
  {
   "cell_type": "code",
   "execution_count": 10,
   "metadata": {},
   "outputs": [],
   "source": [
    "populate_mice()"
   ]
  },
  {
   "cell_type": "code",
   "execution_count": 11,
   "metadata": {},
   "outputs": [
    {
     "data": {
      "text/html": [
       "\n",
       "        \n",
       "        <style type=\"text/css\">\n",
       "            .Relation{\n",
       "                border-collapse:collapse;\n",
       "            }\n",
       "            .Relation th{\n",
       "                background: #A0A0A0; color: #ffffff; padding:4px; border:#f0e0e0 1px solid;\n",
       "                font-weight: normal; font-family: monospace; font-size: 100%;\n",
       "            }\n",
       "            .Relation td{\n",
       "                padding:4px; border:#f0e0e0 1px solid; font-size:100%;\n",
       "            }\n",
       "            .Relation tr:nth-child(odd){\n",
       "                background: #ffffff;\n",
       "            }\n",
       "            .Relation tr:nth-child(even){\n",
       "                background: #f3f1ff;\n",
       "            }\n",
       "            /* Tooltip container */\n",
       "            .djtooltip {\n",
       "            }\n",
       "            /* Tooltip text */\n",
       "            .djtooltip .djtooltiptext {\n",
       "                visibility: hidden;\n",
       "                width: 120px;\n",
       "                background-color: black;\n",
       "                color: #fff;\n",
       "                text-align: center;\n",
       "                padding: 5px 0;\n",
       "                border-radius: 6px;\n",
       "                /* Position the tooltip text - see examples below! */\n",
       "                position: absolute;\n",
       "                z-index: 1;\n",
       "            }\n",
       "            #primary {\n",
       "                font-weight: bold;\n",
       "                color: black;\n",
       "            }\n",
       "\n",
       "            #nonprimary {\n",
       "                font-weight: normal;\n",
       "                color: white;\n",
       "            }\n",
       "\n",
       "            /* Show the tooltip text when you mouse over the tooltip container */\n",
       "            .djtooltip:hover .djtooltiptext {\n",
       "                visibility: visible;\n",
       "            }\n",
       "        </style>\n",
       "        \n",
       "        <b></b>\n",
       "            <div style=\"max-height:1000px;max-width:1500px;overflow:auto;\">\n",
       "            <table border=\"1\" class=\"Relation\">\n",
       "                <thead> <tr style=\"text-align: right;\"> <th> <div class=\"djtooltip\">\n",
       "                                <p id=\"primary\">mouse_id</p>\n",
       "                                <span class=\"djtooltiptext\">lab-specific ID</span>\n",
       "                            </div></th><th><div class=\"djtooltip\">\n",
       "                                <p id=\"nonprimary\">tag_id</p>\n",
       "                                <span class=\"djtooltiptext\">animal facility ID</span>\n",
       "                            </div> </th> </tr> </thead>\n",
       "                <tbody> <tr> <td>613235850</td>\n",
       "<td>9035</td></tr><tr><td>851759450</td>\n",
       "<td>23286</td></tr><tr><td>288526852</td>\n",
       "<td>35612</td></tr><tr><td>334893028</td>\n",
       "<td>36840</td></tr><tr><td>966899091</td>\n",
       "<td>38743</td></tr><tr><td>975639724</td>\n",
       "<td>41615</td></tr><tr><td>266160312</td>\n",
       "<td>42392</td></tr><tr><td>631040577</td>\n",
       "<td>47535</td></tr><tr><td>892660895</td>\n",
       "<td>60853</td></tr><tr><td>393521703</td>\n",
       "<td>66230</td></tr><tr><td>376308519</td>\n",
       "<td>66825</td></tr><tr><td>48958390</td>\n",
       "<td>76629</td> </tr> </tbody>\n",
       "            </table>\n",
       "            <p>...</p>\n",
       "            <p>Total: 199970</p></div>\n",
       "            "
      ],
      "text/plain": [
       "*mouse_id     tag_id    \n",
       "+-----------+ +--------+\n",
       "613235850     9035      \n",
       "851759450     23286     \n",
       "288526852     35612     \n",
       "334893028     36840     \n",
       "966899091     38743     \n",
       "975639724     41615     \n",
       "266160312     42392     \n",
       "631040577     47535     \n",
       "892660895     60853     \n",
       "393521703     66230     \n",
       "376308519     66825     \n",
       "48958390      76629     \n",
       "   ...\n",
       " (Total: 199970)"
      ]
     },
     "execution_count": 11,
     "metadata": {},
     "output_type": "execute_result"
    }
   ],
   "source": [
    "Mouse()"
   ]
  },
  {
   "cell_type": "markdown",
   "metadata": {},
   "source": [
    "Now both types of searches are equally efficient!"
   ]
  },
  {
   "cell_type": "code",
   "execution_count": 12,
   "metadata": {},
   "outputs": [
    {
     "name": "stdout",
     "output_type": "stream",
     "text": [
      "3.01 ms ± 466 µs per loop (mean ± std. dev. of 10 runs, 10 loops each)\n"
     ]
    }
   ],
   "source": [
    "%%timeit -n10 -r10\n",
    "\n",
    "#efficient! Uses the primary key\n",
    "(Mouse() & {'mouse_id': random.randint(0, 999_999)}).fetch()"
   ]
  },
  {
   "cell_type": "code",
   "execution_count": 13,
   "metadata": {},
   "outputs": [
    {
     "name": "stdout",
     "output_type": "stream",
     "text": [
      "3.26 ms ± 526 µs per loop (mean ± std. dev. of 10 runs, 10 loops each)\n"
     ]
    }
   ],
   "source": [
    "%%timeit -n10 -r10\n",
    "\n",
    "#efficient! Uses the seconary index on tag_id\n",
    "(Mouse() & {'tag_id': random.randint(0, 999_999)}).fetch()"
   ]
  },
  {
   "cell_type": "markdown",
   "metadata": {},
   "source": [
    "Let's now imagine that rats in the `Rat` table are identified by the combination of lab the `lab_name` and `rat_id` in each lab:"
   ]
  },
  {
   "cell_type": "code",
   "execution_count": 14,
   "metadata": {},
   "outputs": [],
   "source": [
    "@schema\n",
    "class Rat(dj.Manual):\n",
    "    definition = \"\"\"\n",
    "    lab_name : char(16) \n",
    "    rat_id : int unsigned # lab-specific ID\n",
    "    ---\n",
    "    date_of_birth = null : date\n",
    "    \"\"\""
   ]
  },
  {
   "cell_type": "code",
   "execution_count": 15,
   "metadata": {},
   "outputs": [],
   "source": [
    "def populate_rats():\n",
    "    lab_names = (\"Cajal\", \"Kandel\", \"Moser\", \"Hubel & Wiesel\")\n",
    "    for date_of_birth in (None, \"2019-10-01\", \"2019-10-02\", \"2019-10-03\", \"2019-10-04\"):\n",
    "        Rat.insert((\n",
    "            (random.choice(lab_names), random.randint(1, 1_000_000), date_of_birth) \n",
    "                   for i in range(100_000)), skip_duplicates=True)"
   ]
  },
  {
   "cell_type": "code",
   "execution_count": 16,
   "metadata": {},
   "outputs": [],
   "source": [
    "populate_rats()"
   ]
  },
  {
   "cell_type": "code",
   "execution_count": 17,
   "metadata": {},
   "outputs": [
    {
     "data": {
      "text/html": [
       "\n",
       "        \n",
       "        <style type=\"text/css\">\n",
       "            .Relation{\n",
       "                border-collapse:collapse;\n",
       "            }\n",
       "            .Relation th{\n",
       "                background: #A0A0A0; color: #ffffff; padding:4px; border:#f0e0e0 1px solid;\n",
       "                font-weight: normal; font-family: monospace; font-size: 100%;\n",
       "            }\n",
       "            .Relation td{\n",
       "                padding:4px; border:#f0e0e0 1px solid; font-size:100%;\n",
       "            }\n",
       "            .Relation tr:nth-child(odd){\n",
       "                background: #ffffff;\n",
       "            }\n",
       "            .Relation tr:nth-child(even){\n",
       "                background: #f3f1ff;\n",
       "            }\n",
       "            /* Tooltip container */\n",
       "            .djtooltip {\n",
       "            }\n",
       "            /* Tooltip text */\n",
       "            .djtooltip .djtooltiptext {\n",
       "                visibility: hidden;\n",
       "                width: 120px;\n",
       "                background-color: black;\n",
       "                color: #fff;\n",
       "                text-align: center;\n",
       "                padding: 5px 0;\n",
       "                border-radius: 6px;\n",
       "                /* Position the tooltip text - see examples below! */\n",
       "                position: absolute;\n",
       "                z-index: 1;\n",
       "            }\n",
       "            #primary {\n",
       "                font-weight: bold;\n",
       "                color: black;\n",
       "            }\n",
       "\n",
       "            #nonprimary {\n",
       "                font-weight: normal;\n",
       "                color: white;\n",
       "            }\n",
       "\n",
       "            /* Show the tooltip text when you mouse over the tooltip container */\n",
       "            .djtooltip:hover .djtooltiptext {\n",
       "                visibility: visible;\n",
       "            }\n",
       "        </style>\n",
       "        \n",
       "        <b></b>\n",
       "            <div style=\"max-height:1000px;max-width:1500px;overflow:auto;\">\n",
       "            <table border=\"1\" class=\"Relation\">\n",
       "                <thead> <tr style=\"text-align: right;\"> <th> <div class=\"djtooltip\">\n",
       "                                <p id=\"primary\">lab_name</p>\n",
       "                                <span class=\"djtooltiptext\"></span>\n",
       "                            </div></th><th><div class=\"djtooltip\">\n",
       "                                <p id=\"primary\">rat_id</p>\n",
       "                                <span class=\"djtooltiptext\">lab-specific ID</span>\n",
       "                            </div></th><th><div class=\"djtooltip\">\n",
       "                                <p id=\"nonprimary\">date_of_birth</p>\n",
       "                                <span class=\"djtooltiptext\"></span>\n",
       "                            </div> </th> </tr> </thead>\n",
       "                <tbody> <tr> <td>Cajal</td>\n",
       "<td>3</td>\n",
       "<td>2019-10-02</td></tr><tr><td>Cajal</td>\n",
       "<td>16</td>\n",
       "<td>2019-10-01</td></tr><tr><td>Cajal</td>\n",
       "<td>21</td>\n",
       "<td>2019-10-02</td></tr><tr><td>Cajal</td>\n",
       "<td>29</td>\n",
       "<td>2019-10-01</td></tr><tr><td>Cajal</td>\n",
       "<td>30</td>\n",
       "<td>None</td></tr><tr><td>Cajal</td>\n",
       "<td>40</td>\n",
       "<td>2019-10-01</td></tr><tr><td>Cajal</td>\n",
       "<td>49</td>\n",
       "<td>2019-10-01</td></tr><tr><td>Cajal</td>\n",
       "<td>59</td>\n",
       "<td>2019-10-03</td></tr><tr><td>Cajal</td>\n",
       "<td>65</td>\n",
       "<td>2019-10-03</td></tr><tr><td>Cajal</td>\n",
       "<td>68</td>\n",
       "<td>2019-10-04</td></tr><tr><td>Cajal</td>\n",
       "<td>70</td>\n",
       "<td>2019-10-02</td></tr><tr><td>Cajal</td>\n",
       "<td>84</td>\n",
       "<td>2019-10-02</td> </tr> </tbody>\n",
       "            </table>\n",
       "            <p>...</p>\n",
       "            <p>Total: 469640</p></div>\n",
       "            "
      ],
      "text/plain": [
       "*lab_name    *rat_id    date_of_birth \n",
       "+----------+ +--------+ +------------+\n",
       "Cajal        3          2019-10-02    \n",
       "Cajal        16         2019-10-01    \n",
       "Cajal        21         2019-10-02    \n",
       "Cajal        29         2019-10-01    \n",
       "Cajal        30         None          \n",
       "Cajal        40         2019-10-01    \n",
       "Cajal        49         2019-10-01    \n",
       "Cajal        59         2019-10-03    \n",
       "Cajal        65         2019-10-03    \n",
       "Cajal        68         2019-10-04    \n",
       "Cajal        70         2019-10-02    \n",
       "Cajal        84         2019-10-02    \n",
       "   ...\n",
       " (Total: 469640)"
      ]
     },
     "execution_count": 17,
     "metadata": {},
     "output_type": "execute_result"
    }
   ],
   "source": [
    "Rat()"
   ]
  },
  {
   "cell_type": "markdown",
   "metadata": {},
   "source": [
    "Note that dispite the fact that `rat_id` is in the index, search by `rat_id` alone are not helped by the index because it is not first in the index. This is similar to search for a word in a dictionary that orders words alphabetically. Searching by the first letters of a word is easy but searching by the last few letters of a word requires scanning the whole dictionary."
   ]
  },
  {
   "cell_type": "markdown",
   "metadata": {},
   "source": [
    "In this table, the primary key is a unique index on the combination `(lab_id, rat_id)`. Therefore searches on these attributes or on `lab_id` alone are fast. But this index cannot help searches on `rat_id` alone:"
   ]
  },
  {
   "cell_type": "code",
   "execution_count": 18,
   "metadata": {},
   "outputs": [
    {
     "name": "stdout",
     "output_type": "stream",
     "text": [
      "93.2 ms ± 7.87 ms per loop (mean ± std. dev. of 10 runs, 2 loops each)\n"
     ]
    }
   ],
   "source": [
    "%%timeit -n2 -r10\n",
    "\n",
    "# inefficient!  Requires full table scan.\n",
    "(Rat() & {'rat_id': 300}).fetch()"
   ]
  },
  {
   "cell_type": "code",
   "execution_count": 19,
   "metadata": {},
   "outputs": [
    {
     "name": "stdout",
     "output_type": "stream",
     "text": [
      "3.37 ms ± 571 µs per loop (mean ± std. dev. of 10 runs, 2 loops each)\n"
     ]
    }
   ],
   "source": [
    "%%timeit -n2 -r10\n",
    "\n",
    "# efficient! Uses the primary key\n",
    "(Rat() & {'rat_id': 300, 'lab_name': 'Cajal'}).fetch()"
   ]
  },
  {
   "cell_type": "code",
   "execution_count": 20,
   "metadata": {},
   "outputs": [
    {
     "name": "stdout",
     "output_type": "stream",
     "text": [
      "86.6 ms ± 6.96 ms per loop (mean ± std. dev. of 10 runs, 2 loops each)\n"
     ]
    }
   ],
   "source": [
    "%%timeit -n2 -r10\n",
    "\n",
    "# inefficient! Requires a full table scan\n",
    "len(Rat & {'rat_id': 500})"
   ]
  },
  {
   "cell_type": "markdown",
   "metadata": {},
   "source": [
    "Pattern searches in strings can benefit from an index when the starting characters are specified."
   ]
  },
  {
   "cell_type": "code",
   "execution_count": 21,
   "metadata": {},
   "outputs": [
    {
     "name": "stdout",
     "output_type": "stream",
     "text": [
      "33.6 ms ± 1.75 ms per loop (mean ± std. dev. of 10 runs, 2 loops each)\n"
     ]
    }
   ],
   "source": [
    "%%timeit -n2 -r10\n",
    "\n",
    "# efficient! Uses the primary key\n",
    "len(Rat & 'lab_name LIKE \"Caj%\"')"
   ]
  },
  {
   "cell_type": "code",
   "execution_count": 22,
   "metadata": {},
   "outputs": [
    {
     "name": "stdout",
     "output_type": "stream",
     "text": [
      "88.9 ms ± 7.96 ms per loop (mean ± std. dev. of 10 runs, 2 loops each)\n"
     ]
    }
   ],
   "source": [
    "%%timeit -n2 -r10\n",
    "\n",
    "# inefficient! requires a full table scan\n",
    "len(Rat & 'lab_name LIKE \"%jal\"')"
   ]
  },
  {
   "cell_type": "markdown",
   "metadata": {},
   "source": [
    "Similarly, searching by the date requires an inefficient full-table scan:"
   ]
  },
  {
   "cell_type": "code",
   "execution_count": 23,
   "metadata": {},
   "outputs": [
    {
     "name": "stdout",
     "output_type": "stream",
     "text": [
      "122 ms ± 11 ms per loop (mean ± std. dev. of 10 runs, 2 loops each)\n"
     ]
    }
   ],
   "source": [
    "%%timeit -n2 -r10\n",
    "\n",
    "len(Rat & 'date_of_birth > \"2019-10-02\"')"
   ]
  },
  {
   "cell_type": "markdown",
   "metadata": {},
   "source": [
    "To speed up searches by the `rat_id` and `date_of_birth`, we can explicit indexes to `Rat`:"
   ]
  },
  {
   "cell_type": "code",
   "execution_count": 24,
   "metadata": {},
   "outputs": [
    {
     "name": "stdout",
     "output_type": "stream",
     "text": [
      "`test_indexes`.`rat` (469640 tuples)\n",
      "Proceed? [yes, No]: yes\n",
      "Tables dropped.  Restart kernel.\n"
     ]
    }
   ],
   "source": [
    "Rat.drop()"
   ]
  },
  {
   "cell_type": "code",
   "execution_count": 25,
   "metadata": {},
   "outputs": [],
   "source": [
    "@schema\n",
    "class Rat(dj.Manual):\n",
    "    definition = \"\"\"\n",
    "    lab_name : char(16) \n",
    "    rat_id : int unsigned # lab-specific ID\n",
    "    ---\n",
    "    date_of_birth = null : date\n",
    "\n",
    "    index(rat_id)\n",
    "    index(date_of_birth)\n",
    "    \"\"\""
   ]
  },
  {
   "cell_type": "code",
   "execution_count": 26,
   "metadata": {},
   "outputs": [],
   "source": [
    "populate_rats()"
   ]
  },
  {
   "cell_type": "code",
   "execution_count": 27,
   "metadata": {},
   "outputs": [
    {
     "name": "stdout",
     "output_type": "stream",
     "text": [
      "3.49 ms ± 446 µs per loop (mean ± std. dev. of 10 runs, 2 loops each)\n"
     ]
    }
   ],
   "source": [
    "%%timeit -n2 -r10\n",
    "\n",
    "# efficient!  uses index on rat_id\n",
    "(Rat() & {'rat_id': 300}).fetch()"
   ]
  },
  {
   "cell_type": "code",
   "execution_count": 28,
   "metadata": {},
   "outputs": [
    {
     "name": "stdout",
     "output_type": "stream",
     "text": [
      "56.2 ms ± 3.63 ms per loop (mean ± std. dev. of 10 runs, 2 loops each)\n"
     ]
    }
   ],
   "source": [
    "%%timeit -n2 -r10\n",
    "\n",
    "# efficient! uses index on date_of_birth\n",
    "len(Rat & 'date_of_birth > \"2019-10-02\"')"
   ]
  },
  {
   "cell_type": "markdown",
   "metadata": {},
   "source": [
    "#### Quiz: How many indexes does the table `Rat` have?"
   ]
  },
  {
   "cell_type": "code",
   "execution_count": 29,
   "metadata": {},
   "outputs": [
    {
     "name": "stdout",
     "output_type": "stream",
     "text": [
      "lab_name             : char(16)                     \n",
      "rat_id               : int unsigned                 # lab-specific ID\n",
      "---\n",
      "date_of_birth=null   : date                         \n",
      "INDEX (rat_id)\n",
      "INDEX (date_of_birth)\n",
      "\n"
     ]
    }
   ],
   "source": [
    "Rat.describe();"
   ]
  },
  {
   "cell_type": "markdown",
   "metadata": {},
   "source": [
    "#### Answer\n",
    "Three: `(lab_name, rat_id)` -- primary index, `(rat_id)`, and `(date_of_birth)`"
   ]
  }
 ],
 "metadata": {
  "kernelspec": {
   "display_name": "Python 3",
   "language": "python",
   "name": "python3"
  },
  "language_info": {
   "codemirror_mode": {
    "name": "ipython",
    "version": 3
   },
   "file_extension": ".py",
   "mimetype": "text/x-python",
   "name": "python",
   "nbconvert_exporter": "python",
   "pygments_lexer": "ipython3",
   "version": "3.7.3"
  }
 },
 "nbformat": 4,
 "nbformat_minor": 2
}
