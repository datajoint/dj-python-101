{
 "cells": [
  {
   "cell_type": "markdown",
   "metadata": {},
   "source": [
    "# UUIDs\n",
    "## Background\n",
    "Universally Unique Identifiers (UUIDs) provide convenient mechanisms for identifying pieces of information (objects) inside an information system. Various conventions exist. However, general patterns have been established and formalized as RFC 4122.\n",
    "\n",
    "Comprised of hex digits, UUIDs have the pattern `8-4-4-4-12`, e.g. `e45ba2cc-39db-11e9-8e62-7470fdf23ef1`.\n",
    "\n",
    "It adds up to 36 characters (32 hex + 4 hyphens), or 16 bytes of information (128 bits)."
   ]
  },
  {
   "cell_type": "code",
   "execution_count": 1,
   "metadata": {},
   "outputs": [],
   "source": [
    "import uuid"
   ]
  },
  {
   "cell_type": "code",
   "execution_count": 2,
   "metadata": {},
   "outputs": [
    {
     "name": "stdout",
     "output_type": "stream",
     "text": [
      "Help on function uuid1 in module uuid:\n",
      "\n",
      "uuid1(node=None, clock_seq=None)\n",
      "    Generate a UUID from a host ID, sequence number, and the current time.\n",
      "    If 'node' is not given, getnode() is used to obtain the hardware\n",
      "    address.  If 'clock_seq' is given, it is used as the sequence number;\n",
      "    otherwise a random 14-bit sequence number is chosen.\n",
      "\n"
     ]
    }
   ],
   "source": [
    "help(uuid.uuid1)"
   ]
  },
  {
   "cell_type": "code",
   "execution_count": 3,
   "metadata": {},
   "outputs": [
    {
     "data": {
      "text/plain": [
       "[UUID('8d552590-b940-11e9-9213-7470fdf23ef1'),\n",
       " UUID('8d552591-b940-11e9-9213-7470fdf23ef1'),\n",
       " UUID('8d552592-b940-11e9-9213-7470fdf23ef1'),\n",
       " UUID('8d552593-b940-11e9-9213-7470fdf23ef1'),\n",
       " UUID('8d552594-b940-11e9-9213-7470fdf23ef1')]"
      ]
     },
     "execution_count": 3,
     "metadata": {},
     "output_type": "execute_result"
    }
   ],
   "source": [
    "# use the current hardware address and time\n",
    "[uuid.uuid1() for _ in range(5)]"
   ]
  },
  {
   "cell_type": "code",
   "execution_count": 4,
   "metadata": {},
   "outputs": [
    {
     "data": {
      "text/plain": [
       "[UUID('8d552595-b940-11e9-9213-7470fdf23ef1'),\n",
       " UUID('8d552596-b940-11e9-9213-7470fdf23ef1'),\n",
       " UUID('8d552597-b940-11e9-9213-7470fdf23ef1'),\n",
       " UUID('8d552598-b940-11e9-9213-7470fdf23ef1'),\n",
       " UUID('8d552599-b940-11e9-9213-7470fdf23ef1')]"
      ]
     },
     "execution_count": 4,
     "metadata": {},
     "output_type": "execute_result"
    }
   ],
   "source": [
    "# use the current hardware address and time\n",
    "[uuid.uuid1() for _ in range(5)]"
   ]
  },
  {
   "cell_type": "code",
   "execution_count": 5,
   "metadata": {},
   "outputs": [
    {
     "data": {
      "text/plain": [
       "[UUID('8e345e3a-b940-11e9-8001-7470fdf23ef1'),\n",
       " UUID('8e346188-b940-11e9-8001-7470fdf23ef1'),\n",
       " UUID('8e34629c-b940-11e9-8001-7470fdf23ef1'),\n",
       " UUID('8e346370-b940-11e9-8001-7470fdf23ef1'),\n",
       " UUID('8e346438-b940-11e9-8001-7470fdf23ef1')]"
      ]
     },
     "execution_count": 5,
     "metadata": {},
     "output_type": "execute_result"
    }
   ],
   "source": [
    "# use fixed values\n",
    "[uuid.uuid1(None, 1) for _ in range(5)]"
   ]
  },
  {
   "cell_type": "code",
   "execution_count": 6,
   "metadata": {},
   "outputs": [
    {
     "name": "stdout",
     "output_type": "stream",
     "text": [
      "Help on function uuid3 in module uuid:\n",
      "\n",
      "uuid3(namespace, name)\n",
      "    Generate a UUID from the MD5 hash of a namespace UUID and a name.\n",
      "\n"
     ]
    }
   ],
   "source": [
    "help(uuid.uuid3)"
   ]
  },
  {
   "cell_type": "code",
   "execution_count": 7,
   "metadata": {},
   "outputs": [
    {
     "name": "stdout",
     "output_type": "stream",
     "text": [
      "Help on function uuid5 in module uuid:\n",
      "\n",
      "uuid5(namespace, name)\n",
      "    Generate a UUID from the SHA-1 hash of a namespace UUID and a name.\n",
      "\n"
     ]
    }
   ],
   "source": [
    "help(uuid.uuid5)"
   ]
  },
  {
   "cell_type": "code",
   "execution_count": 8,
   "metadata": {},
   "outputs": [
    {
     "data": {
      "text/plain": [
       "(UUID('345b4a08-7955-5b86-8646-f0826799afe9'),\n",
       " UUID('b5804c3f-57b1-54e3-8176-3b45aa443a97'),\n",
       " UUID('58571fff-c6bd-583f-88ac-ef0b8ff2981f'),\n",
       " UUID('b5804c3f-57b1-54e3-8176-3b45aa443a97'),\n",
       " UUID('6340129b-3a59-5354-aec6-5df769ae2ce7'))"
      ]
     },
     "execution_count": 8,
     "metadata": {},
     "output_type": "execute_result"
    }
   ],
   "source": [
    "top = uuid.UUID('00000000-0000-0000-0000-000000000000')\n",
    "topic = uuid.uuid5(top, 'Neuroscience')\n",
    "subject1 = uuid.uuid5(topic, 'Habenula')\n",
    "subject2 = uuid.uuid5(topic, 'Entorhinal cortex')\n",
    "subject3 = uuid.uuid5(topic, 'Habenula')\n",
    "\n",
    "topic = uuid.uuid5(top, 'Philosophy')\n",
    "subject4 = uuid.uuid5(topic, 'Habenula')\n",
    "\n",
    "topic, subject1, subject2, subject3, subject4"
   ]
  },
  {
   "cell_type": "code",
   "execution_count": 9,
   "metadata": {},
   "outputs": [
    {
     "data": {
      "text/plain": [
       "UUID('3d9d9035-dec3-5fc8-b66c-38cd8537acbe')"
      ]
     },
     "execution_count": 9,
     "metadata": {},
     "output_type": "execute_result"
    }
   ],
   "source": [
    "uuid.uuid5(subject4, 'study'*1000000)"
   ]
  },
  {
   "cell_type": "code",
   "execution_count": 10,
   "metadata": {},
   "outputs": [
    {
     "name": "stdout",
     "output_type": "stream",
     "text": [
      "Help on function uuid4 in module uuid:\n",
      "\n",
      "uuid4()\n",
      "    Generate a random UUID.\n",
      "\n"
     ]
    }
   ],
   "source": [
    "help(uuid.uuid4)"
   ]
  },
  {
   "cell_type": "code",
   "execution_count": 11,
   "metadata": {},
   "outputs": [
    {
     "data": {
      "text/plain": [
       "[UUID('7b946ea0-17f1-48b6-83d3-f78a9b6a7c94'),\n",
       " UUID('baa17a66-c87e-4961-9ffc-a3ac43d113dd'),\n",
       " UUID('8d12a6dc-8a63-4f89-9d3a-6d7a1b8b2611'),\n",
       " UUID('27c51ddf-e360-491d-8dd5-15238967b2b3'),\n",
       " UUID('79cd953d-8e26-45ca-85a3-ae458387a65e'),\n",
       " UUID('8500f53d-2026-4891-913a-62ffced44c81'),\n",
       " UUID('d2648a4c-25e8-4094-a3bc-c9b22d35b466'),\n",
       " UUID('dee8b4c3-a9e0-4820-bffc-a8c8504c6203'),\n",
       " UUID('6cda1007-b98f-42f5-83ce-e96b9a6d5b42'),\n",
       " UUID('56b73a84-7097-4af1-82d7-02665833d222'),\n",
       " UUID('7d3c579c-76c9-4f7e-97bf-71b6001eb164'),\n",
       " UUID('b93f2f0d-938b-4ff6-bca0-6998557e742d')]"
      ]
     },
     "execution_count": 11,
     "metadata": {},
     "output_type": "execute_result"
    }
   ],
   "source": [
    "[uuid.uuid4() for _ in range(12)]"
   ]
  },
  {
   "cell_type": "code",
   "execution_count": 12,
   "metadata": {},
   "outputs": [
    {
     "data": {
      "text/plain": [
       "(UUID('5b1e88c5-b46d-4f47-afaf-08b6d5d585eb'),\n",
       " '5b1e88c5-b46d-4f47-afaf-08b6d5d585eb')"
      ]
     },
     "execution_count": 12,
     "metadata": {},
     "output_type": "execute_result"
    }
   ],
   "source": [
    "a = uuid.uuid4()\n",
    "s = str(a)\n",
    "a, s"
   ]
  },
  {
   "cell_type": "code",
   "execution_count": 13,
   "metadata": {},
   "outputs": [
    {
     "data": {
      "text/plain": [
       "UUID('5b1e88c5-b46d-4f47-afaf-08b6d5d585eb')"
      ]
     },
     "execution_count": 13,
     "metadata": {},
     "output_type": "execute_result"
    }
   ],
   "source": [
    "a"
   ]
  },
  {
   "cell_type": "code",
   "execution_count": 14,
   "metadata": {},
   "outputs": [
    {
     "data": {
      "text/plain": [
       "(UUID('5b1e88c5-b46d-4f47-afaf-08b6d5d585eb'),\n",
       " '5b1e88c5-b46d-4f47-afaf-08b6d5d585eb')"
      ]
     },
     "execution_count": 14,
     "metadata": {},
     "output_type": "execute_result"
    }
   ],
   "source": [
    "a, s"
   ]
  },
  {
   "cell_type": "code",
   "execution_count": 15,
   "metadata": {},
   "outputs": [
    {
     "data": {
      "text/plain": [
       "UUID('5b1e88c5-b46d-4f47-afaf-08b6d5d585eb')"
      ]
     },
     "execution_count": 15,
     "metadata": {},
     "output_type": "execute_result"
    }
   ],
   "source": [
    "uuid.UUID(s)"
   ]
  },
  {
   "cell_type": "markdown",
   "metadata": {},
   "source": [
    "## UUIDs in DataJoint"
   ]
  },
  {
   "cell_type": "code",
   "execution_count": 16,
   "metadata": {},
   "outputs": [
    {
     "data": {
      "text/plain": [
       "'0.12.dev5'"
      ]
     },
     "execution_count": 16,
     "metadata": {},
     "output_type": "execute_result"
    }
   ],
   "source": [
    "import datajoint as dj\n",
    "dj.__version__"
   ]
  },
  {
   "cell_type": "code",
   "execution_count": 17,
   "metadata": {},
   "outputs": [
    {
     "name": "stdout",
     "output_type": "stream",
     "text": [
      "Connecting dimitri@localhost:3306\n"
     ]
    }
   ],
   "source": [
    "schema = dj.schema('dimitri_uuid')"
   ]
  },
  {
   "cell_type": "code",
   "execution_count": 18,
   "metadata": {},
   "outputs": [],
   "source": [
    "@schema\n",
    "class Message(dj.Manual):\n",
    "    definition = \"\"\"\n",
    "    message_id : uuid  # internal message id\n",
    "    ---\n",
    "    message_body : varchar(1000) \n",
    "    \"\"\""
   ]
  },
  {
   "cell_type": "code",
   "execution_count": 20,
   "metadata": {},
   "outputs": [
    {
     "name": "stdout",
     "output_type": "stream",
     "text": [
      "message_id           : uuid                         # internal message id\n",
      "---\n",
      "message_body         : varchar(1000)                \n",
      "\n"
     ]
    }
   ],
   "source": [
    "Message.describe();"
   ]
  },
  {
   "cell_type": "code",
   "execution_count": null,
   "metadata": {},
   "outputs": [],
   "source": [
    "# For the curious: Internally, DataJoint represents uuids as BINARY(16) \n",
    "Message.heading['message_id'].sql"
   ]
  },
  {
   "cell_type": "code",
   "execution_count": null,
   "metadata": {},
   "outputs": [],
   "source": [
    "Message.insert1((uuid.uuid1(), 'Hello, world!'))\n",
    "Message.insert1((uuid.uuid1(), 'Cogito ergo sum'))"
   ]
  },
  {
   "cell_type": "code",
   "execution_count": null,
   "metadata": {},
   "outputs": [],
   "source": [
    "Message()"
   ]
  },
  {
   "cell_type": "code",
   "execution_count": null,
   "metadata": {},
   "outputs": [],
   "source": [
    "Message.insert1((uuid.uuid4(), 'I will be back'))\n",
    "Message.insert1((uuid.uuid4(), 'Must destroy humans.'))"
   ]
  },
  {
   "cell_type": "code",
   "execution_count": null,
   "metadata": {},
   "outputs": [],
   "source": [
    "Message()"
   ]
  },
  {
   "cell_type": "code",
   "execution_count": null,
   "metadata": {},
   "outputs": [],
   "source": [
    "@schema\n",
    "class Comment(dj.Manual):\n",
    "    definition = \"\"\"\n",
    "    comment_id : uuid\n",
    "    --- \n",
    "    -> Message\n",
    "    comment_body : varchar(1000)\n",
    "    \"\"\""
   ]
  },
  {
   "cell_type": "code",
   "execution_count": null,
   "metadata": {},
   "outputs": [],
   "source": [
    "# For the curious: This is how the table was declared in SQL\n",
    "print(schema.connection.query('show create table `dimitri_uuid`.`comment`').fetchall()[0][1])"
   ]
  },
  {
   "cell_type": "code",
   "execution_count": null,
   "metadata": {},
   "outputs": [],
   "source": [
    "dj.Diagram(schema)"
   ]
  },
  {
   "cell_type": "code",
   "execution_count": null,
   "metadata": {},
   "outputs": [],
   "source": [
    "keys = Message.fetch('KEY')"
   ]
  },
  {
   "cell_type": "code",
   "execution_count": null,
   "metadata": {},
   "outputs": [],
   "source": [
    "Comment.insert1(dict(keys[0], comment_id=uuid.uuid1(), comment_body=\"thank you\"))"
   ]
  },
  {
   "cell_type": "code",
   "execution_count": null,
   "metadata": {},
   "outputs": [],
   "source": [
    "keys[1]"
   ]
  },
  {
   "cell_type": "code",
   "execution_count": null,
   "metadata": {
    "scrolled": true
   },
   "outputs": [],
   "source": [
    "Message & keys[0]"
   ]
  },
  {
   "cell_type": "code",
   "execution_count": null,
   "metadata": {},
   "outputs": [],
   "source": [
    "Message & keys[1:4]"
   ]
  },
  {
   "cell_type": "code",
   "execution_count": null,
   "metadata": {},
   "outputs": [],
   "source": [
    "Comment.insert1(dict(keys[1], comment_id=uuid.uuid1(), comment_body=\"thank you\"))"
   ]
  },
  {
   "cell_type": "code",
   "execution_count": null,
   "metadata": {},
   "outputs": [],
   "source": [
    "Comment()"
   ]
  },
  {
   "cell_type": "code",
   "execution_count": null,
   "metadata": {},
   "outputs": [],
   "source": [
    "Message & Comment"
   ]
  },
  {
   "cell_type": "code",
   "execution_count": null,
   "metadata": {},
   "outputs": [],
   "source": [
    "Message * Comment"
   ]
  }
 ],
 "metadata": {
  "kernelspec": {
   "display_name": "Python 3",
   "language": "python",
   "name": "python3"
  },
  "language_info": {
   "codemirror_mode": {
    "name": "ipython",
    "version": 3
   },
   "file_extension": ".py",
   "mimetype": "text/x-python",
   "name": "python",
   "nbconvert_exporter": "python",
   "pygments_lexer": "ipython3",
   "version": "3.7.3"
  }
 },
 "nbformat": 4,
 "nbformat_minor": 2
}
