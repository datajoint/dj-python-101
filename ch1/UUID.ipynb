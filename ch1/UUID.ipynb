{
 "cells": [
  {
   "cell_type": "markdown",
   "metadata": {},
   "source": [
    "# UUIDs\n",
    "\n",
    "Using UUID data types in DataJoint tables.\n",
    "\n",
    "\n",
    "## Background \n",
    "Universally Unique Identifiers (UUIDs) provide convenient mechanisms for identifying pieces of information (objects) inside an information system. Various conventions exist. However, general patterns have been established and formalized as RFC 4122.\n",
    "\n",
    "Comprised of hex digits, UUIDs have the pattern `8-4-4-4-12`, e.g. `e45ba2cc-39db-11e9-8e62-7470fdf23ef1`.\n",
    "\n",
    "It adds up to 36 characters (32 hex + 4 hyphens), or 16 bytes of information (128 bits).\n",
    "\n",
    "Please review the documentation of the `uuid` module in the [Python standard library](https://docs.python.org/3/library/uuid.html) to understand how to generate and use UUID objects."
   ]
  },
  {
   "cell_type": "code",
   "execution_count": 1,
   "metadata": {},
   "outputs": [
    {
     "name": "stdout",
     "output_type": "stream",
     "text": [
      "dimitri 2019-11-03 18:21:46.708257\n",
      "DataJoint Version 0.12.1\n"
     ]
    }
   ],
   "source": [
    "# Author and date\n",
    "import datetime, getpass\n",
    "print(getpass.getuser(), datetime.datetime.today())\n",
    "\n",
    "import datajoint as dj\n",
    "print('DataJoint Version', dj.__version__)"
   ]
  },
  {
   "cell_type": "code",
   "execution_count": 2,
   "metadata": {},
   "outputs": [],
   "source": [
    "import uuid"
   ]
  },
  {
   "cell_type": "code",
   "execution_count": 3,
   "metadata": {},
   "outputs": [
    {
     "name": "stdout",
     "output_type": "stream",
     "text": [
      "Connecting dimitri@localhost:3306\n"
     ]
    }
   ],
   "source": [
    "# create a schema for this demo\n",
    "schema = dj.schema('test_uuid')"
   ]
  },
  {
   "cell_type": "markdown",
   "metadata": {},
   "source": [
    "Let's create table `Message` that stores messages with a surragate primary key generated as random UUIDs"
   ]
  },
  {
   "cell_type": "code",
   "execution_count": 4,
   "metadata": {},
   "outputs": [],
   "source": [
    "@schema\n",
    "class Message(dj.Manual):\n",
    "    definition = \"\"\"\n",
    "    message_id : uuid  # internal message id\n",
    "    ---\n",
    "    message_body : varchar(1000) \n",
    "    message_timestamp = CURRENT_TIMESTAMP : timestamp \n",
    "    \"\"\""
   ]
  },
  {
   "cell_type": "markdown",
   "metadata": {},
   "source": [
    "Let's insert some messages. Note that the UUID field must be inserted as UUID object."
   ]
  },
  {
   "cell_type": "code",
   "execution_count": 5,
   "metadata": {},
   "outputs": [],
   "source": [
    "Message.insert1(dict(message_id=uuid.uuid4(), message_body='Hello, world!'))\n",
    "Message.insert1(dict(message_id=uuid.uuid4(), message_body='Cogito ergo sum'))"
   ]
  },
  {
   "cell_type": "code",
   "execution_count": 6,
   "metadata": {},
   "outputs": [
    {
     "data": {
      "text/html": [
       "\n",
       "        \n",
       "        <style type=\"text/css\">\n",
       "            .Relation{\n",
       "                border-collapse:collapse;\n",
       "            }\n",
       "            .Relation th{\n",
       "                background: #A0A0A0; color: #ffffff; padding:4px; border:#f0e0e0 1px solid;\n",
       "                font-weight: normal; font-family: monospace; font-size: 100%;\n",
       "            }\n",
       "            .Relation td{\n",
       "                padding:4px; border:#f0e0e0 1px solid; font-size:100%;\n",
       "            }\n",
       "            .Relation tr:nth-child(odd){\n",
       "                background: #ffffff;\n",
       "            }\n",
       "            .Relation tr:nth-child(even){\n",
       "                background: #f3f1ff;\n",
       "            }\n",
       "            /* Tooltip container */\n",
       "            .djtooltip {\n",
       "            }\n",
       "            /* Tooltip text */\n",
       "            .djtooltip .djtooltiptext {\n",
       "                visibility: hidden;\n",
       "                width: 120px;\n",
       "                background-color: black;\n",
       "                color: #fff;\n",
       "                text-align: center;\n",
       "                padding: 5px 0;\n",
       "                border-radius: 6px;\n",
       "                /* Position the tooltip text - see examples below! */\n",
       "                position: absolute;\n",
       "                z-index: 1;\n",
       "            }\n",
       "            #primary {\n",
       "                font-weight: bold;\n",
       "                color: black;\n",
       "            }\n",
       "\n",
       "            #nonprimary {\n",
       "                font-weight: normal;\n",
       "                color: white;\n",
       "            }\n",
       "\n",
       "            /* Show the tooltip text when you mouse over the tooltip container */\n",
       "            .djtooltip:hover .djtooltiptext {\n",
       "                visibility: visible;\n",
       "            }\n",
       "        </style>\n",
       "        \n",
       "        <b></b>\n",
       "            <div style=\"max-height:1000px;max-width:1500px;overflow:auto;\">\n",
       "            <table border=\"1\" class=\"Relation\">\n",
       "                <thead> <tr style=\"text-align: right;\"> <th> <div class=\"djtooltip\">\n",
       "                                <p id=\"primary\">message_id</p>\n",
       "                                <span class=\"djtooltiptext\">internal message id</span>\n",
       "                            </div></th><th><div class=\"djtooltip\">\n",
       "                                <p id=\"nonprimary\">message_body</p>\n",
       "                                <span class=\"djtooltiptext\"></span>\n",
       "                            </div></th><th><div class=\"djtooltip\">\n",
       "                                <p id=\"nonprimary\">message_timestamp</p>\n",
       "                                <span class=\"djtooltiptext\"></span>\n",
       "                            </div> </th> </tr> </thead>\n",
       "                <tbody> <tr> <td>a36a85a2-508c-4f19-969e-a3c67e18b67e</td>\n",
       "<td>Cogito ergo sum</td>\n",
       "<td>2019-11-04 00:21:50</td></tr><tr><td>c51f907c-fe20-4d3e-820c-05d32d28f6df</td>\n",
       "<td>Hello, world!</td>\n",
       "<td>2019-11-04 00:21:50</td> </tr> </tbody>\n",
       "            </table>\n",
       "            \n",
       "            <p>Total: 2</p></div>\n",
       "            "
      ],
      "text/plain": [
       "*message_id    message_body   message_timest\n",
       "+------------+ +------------+ +------------+\n",
       "a36a85a2-508c- Cogito ergo su 2019-11-04 00:\n",
       "c51f907c-fe20- Hello, world!  2019-11-04 00:\n",
       " (Total: 2)"
      ]
     },
     "execution_count": 6,
     "metadata": {},
     "output_type": "execute_result"
    }
   ],
   "source": [
    "Message()"
   ]
  },
  {
   "cell_type": "code",
   "execution_count": 7,
   "metadata": {},
   "outputs": [],
   "source": [
    "# insert two more\n",
    "Message.insert((\n",
    "    dict(message_id=uuid.uuid4(), message_body='I will be back!'),\n",
    "    dict(message_id=uuid.uuid4(), message_body='Must destroy humans')))"
   ]
  },
  {
   "cell_type": "code",
   "execution_count": 8,
   "metadata": {},
   "outputs": [
    {
     "data": {
      "text/html": [
       "\n",
       "        \n",
       "        <style type=\"text/css\">\n",
       "            .Relation{\n",
       "                border-collapse:collapse;\n",
       "            }\n",
       "            .Relation th{\n",
       "                background: #A0A0A0; color: #ffffff; padding:4px; border:#f0e0e0 1px solid;\n",
       "                font-weight: normal; font-family: monospace; font-size: 100%;\n",
       "            }\n",
       "            .Relation td{\n",
       "                padding:4px; border:#f0e0e0 1px solid; font-size:100%;\n",
       "            }\n",
       "            .Relation tr:nth-child(odd){\n",
       "                background: #ffffff;\n",
       "            }\n",
       "            .Relation tr:nth-child(even){\n",
       "                background: #f3f1ff;\n",
       "            }\n",
       "            /* Tooltip container */\n",
       "            .djtooltip {\n",
       "            }\n",
       "            /* Tooltip text */\n",
       "            .djtooltip .djtooltiptext {\n",
       "                visibility: hidden;\n",
       "                width: 120px;\n",
       "                background-color: black;\n",
       "                color: #fff;\n",
       "                text-align: center;\n",
       "                padding: 5px 0;\n",
       "                border-radius: 6px;\n",
       "                /* Position the tooltip text - see examples below! */\n",
       "                position: absolute;\n",
       "                z-index: 1;\n",
       "            }\n",
       "            #primary {\n",
       "                font-weight: bold;\n",
       "                color: black;\n",
       "            }\n",
       "\n",
       "            #nonprimary {\n",
       "                font-weight: normal;\n",
       "                color: white;\n",
       "            }\n",
       "\n",
       "            /* Show the tooltip text when you mouse over the tooltip container */\n",
       "            .djtooltip:hover .djtooltiptext {\n",
       "                visibility: visible;\n",
       "            }\n",
       "        </style>\n",
       "        \n",
       "        <b></b>\n",
       "            <div style=\"max-height:1000px;max-width:1500px;overflow:auto;\">\n",
       "            <table border=\"1\" class=\"Relation\">\n",
       "                <thead> <tr style=\"text-align: right;\"> <th> <div class=\"djtooltip\">\n",
       "                                <p id=\"primary\">message_id</p>\n",
       "                                <span class=\"djtooltiptext\">internal message id</span>\n",
       "                            </div></th><th><div class=\"djtooltip\">\n",
       "                                <p id=\"nonprimary\">message_body</p>\n",
       "                                <span class=\"djtooltiptext\"></span>\n",
       "                            </div></th><th><div class=\"djtooltip\">\n",
       "                                <p id=\"nonprimary\">message_timestamp</p>\n",
       "                                <span class=\"djtooltiptext\"></span>\n",
       "                            </div> </th> </tr> </thead>\n",
       "                <tbody> <tr> <td>7aff5434-17dd-4520-9d2e-f2515bb2cea8</td>\n",
       "<td>Must destroy humans</td>\n",
       "<td>2019-11-04 00:21:52</td></tr><tr><td>823311ae-142d-4a9f-9b4e-20dc5c49ed43</td>\n",
       "<td>I will be back!</td>\n",
       "<td>2019-11-04 00:21:52</td></tr><tr><td>a36a85a2-508c-4f19-969e-a3c67e18b67e</td>\n",
       "<td>Cogito ergo sum</td>\n",
       "<td>2019-11-04 00:21:50</td></tr><tr><td>c51f907c-fe20-4d3e-820c-05d32d28f6df</td>\n",
       "<td>Hello, world!</td>\n",
       "<td>2019-11-04 00:21:50</td> </tr> </tbody>\n",
       "            </table>\n",
       "            \n",
       "            <p>Total: 4</p></div>\n",
       "            "
      ],
      "text/plain": [
       "*message_id    message_body   message_timest\n",
       "+------------+ +------------+ +------------+\n",
       "7aff5434-17dd- Must destroy h 2019-11-04 00:\n",
       "823311ae-142d- I will be back 2019-11-04 00:\n",
       "a36a85a2-508c- Cogito ergo su 2019-11-04 00:\n",
       "c51f907c-fe20- Hello, world!  2019-11-04 00:\n",
       " (Total: 4)"
      ]
     },
     "execution_count": 8,
     "metadata": {},
     "output_type": "execute_result"
    }
   ],
   "source": [
    "Message()"
   ]
  },
  {
   "cell_type": "markdown",
   "metadata": {},
   "source": [
    "You may also insert the UUID field as a string as long as it complies with the UUID format."
   ]
  },
  {
   "cell_type": "code",
   "execution_count": 9,
   "metadata": {},
   "outputs": [],
   "source": [
    "string_uuid = 'b5bf9baf-b4a5-48ca-9197-ca333e37abaa'\n",
    "Message.insert1(dict(message_id=string_uuid, message_body='Help!'))"
   ]
  },
  {
   "cell_type": "markdown",
   "metadata": {},
   "source": [
    "When fetching, the results are returned as `uuid.UUID` objects:"
   ]
  },
  {
   "cell_type": "code",
   "execution_count": 10,
   "metadata": {},
   "outputs": [
    {
     "data": {
      "text/plain": [
       "array([(UUID('7aff5434-17dd-4520-9d2e-f2515bb2cea8'), 'Must destroy humans', datetime.datetime(2019, 11, 4, 0, 21, 52)),\n",
       "       (UUID('823311ae-142d-4a9f-9b4e-20dc5c49ed43'), 'I will be back!', datetime.datetime(2019, 11, 4, 0, 21, 52)),\n",
       "       (UUID('a36a85a2-508c-4f19-969e-a3c67e18b67e'), 'Cogito ergo sum', datetime.datetime(2019, 11, 4, 0, 21, 50)),\n",
       "       (UUID('b5bf9baf-b4a5-48ca-9197-ca333e37abaa'), 'Help!', datetime.datetime(2019, 11, 4, 0, 21, 54)),\n",
       "       (UUID('c51f907c-fe20-4d3e-820c-05d32d28f6df'), 'Hello, world!', datetime.datetime(2019, 11, 4, 0, 21, 50))],\n",
       "      dtype=[('message_id', 'O'), ('message_body', 'O'), ('message_timestamp', 'O')])"
      ]
     },
     "execution_count": 10,
     "metadata": {},
     "output_type": "execute_result"
    }
   ],
   "source": [
    "Message.fetch()"
   ]
  },
  {
   "cell_type": "markdown",
   "metadata": {},
   "source": [
    "and the UUID values can be used in restrictions:"
   ]
  },
  {
   "cell_type": "code",
   "execution_count": 11,
   "metadata": {},
   "outputs": [
    {
     "data": {
      "text/plain": [
       "{'message_id': UUID('7aff5434-17dd-4520-9d2e-f2515bb2cea8')}"
      ]
     },
     "execution_count": 11,
     "metadata": {},
     "output_type": "execute_result"
    }
   ],
   "source": [
    "keys = Message.fetch('KEY')\n",
    "keys[0]"
   ]
  },
  {
   "cell_type": "code",
   "execution_count": 12,
   "metadata": {},
   "outputs": [
    {
     "data": {
      "text/plain": [
       "'Must destroy humans'"
      ]
     },
     "execution_count": 12,
     "metadata": {},
     "output_type": "execute_result"
    }
   ],
   "source": [
    "(Message & keys[0]).fetch1('message_body')"
   ]
  },
  {
   "cell_type": "markdown",
   "metadata": {},
   "source": [
    "But strings can also be used as long as it's supplied as a dict-like restriction:"
   ]
  },
  {
   "cell_type": "code",
   "execution_count": 13,
   "metadata": {},
   "outputs": [
    {
     "data": {
      "text/html": [
       "\n",
       "        \n",
       "        <style type=\"text/css\">\n",
       "            .Relation{\n",
       "                border-collapse:collapse;\n",
       "            }\n",
       "            .Relation th{\n",
       "                background: #A0A0A0; color: #ffffff; padding:4px; border:#f0e0e0 1px solid;\n",
       "                font-weight: normal; font-family: monospace; font-size: 100%;\n",
       "            }\n",
       "            .Relation td{\n",
       "                padding:4px; border:#f0e0e0 1px solid; font-size:100%;\n",
       "            }\n",
       "            .Relation tr:nth-child(odd){\n",
       "                background: #ffffff;\n",
       "            }\n",
       "            .Relation tr:nth-child(even){\n",
       "                background: #f3f1ff;\n",
       "            }\n",
       "            /* Tooltip container */\n",
       "            .djtooltip {\n",
       "            }\n",
       "            /* Tooltip text */\n",
       "            .djtooltip .djtooltiptext {\n",
       "                visibility: hidden;\n",
       "                width: 120px;\n",
       "                background-color: black;\n",
       "                color: #fff;\n",
       "                text-align: center;\n",
       "                padding: 5px 0;\n",
       "                border-radius: 6px;\n",
       "                /* Position the tooltip text - see examples below! */\n",
       "                position: absolute;\n",
       "                z-index: 1;\n",
       "            }\n",
       "            #primary {\n",
       "                font-weight: bold;\n",
       "                color: black;\n",
       "            }\n",
       "\n",
       "            #nonprimary {\n",
       "                font-weight: normal;\n",
       "                color: white;\n",
       "            }\n",
       "\n",
       "            /* Show the tooltip text when you mouse over the tooltip container */\n",
       "            .djtooltip:hover .djtooltiptext {\n",
       "                visibility: visible;\n",
       "            }\n",
       "        </style>\n",
       "        \n",
       "        <b></b>\n",
       "            <div style=\"max-height:1000px;max-width:1500px;overflow:auto;\">\n",
       "            <table border=\"1\" class=\"Relation\">\n",
       "                <thead> <tr style=\"text-align: right;\"> <th> <div class=\"djtooltip\">\n",
       "                                <p id=\"primary\">message_id</p>\n",
       "                                <span class=\"djtooltiptext\">internal message id</span>\n",
       "                            </div></th><th><div class=\"djtooltip\">\n",
       "                                <p id=\"nonprimary\">message_body</p>\n",
       "                                <span class=\"djtooltiptext\"></span>\n",
       "                            </div></th><th><div class=\"djtooltip\">\n",
       "                                <p id=\"nonprimary\">message_timestamp</p>\n",
       "                                <span class=\"djtooltiptext\"></span>\n",
       "                            </div> </th> </tr> </thead>\n",
       "                <tbody> <tr> <td>b5bf9baf-b4a5-48ca-9197-ca333e37abaa</td>\n",
       "<td>Help!</td>\n",
       "<td>2019-11-04 00:21:54</td> </tr> </tbody>\n",
       "            </table>\n",
       "            \n",
       "            <p>Total: 1</p></div>\n",
       "            "
      ],
      "text/plain": [
       "*message_id    message_body   message_timest\n",
       "+------------+ +------------+ +------------+\n",
       "b5bf9baf-b4a5- Help!          2019-11-04 00:\n",
       " (Total: 1)"
      ]
     },
     "execution_count": 13,
     "metadata": {},
     "output_type": "execute_result"
    }
   ],
   "source": [
    "Message & {'message_id': string_uuid}"
   ]
  },
  {
   "cell_type": "markdown",
   "metadata": {},
   "source": [
    "That's all!"
   ]
  },
  {
   "cell_type": "code",
   "execution_count": 14,
   "metadata": {},
   "outputs": [
    {
     "name": "stdout",
     "output_type": "stream",
     "text": [
      "CREATE TABLE `message` (\n",
      "  `message_id` binary(16) NOT NULL COMMENT ':uuid:internal message id',\n",
      "  `message_body` varchar(1000) NOT NULL,\n",
      "  `message_timestamp` timestamp NOT NULL DEFAULT CURRENT_TIMESTAMP,\n",
      "  PRIMARY KEY (`message_id`)\n",
      ") ENGINE=InnoDB DEFAULT CHARSET=latin1\n"
     ]
    }
   ],
   "source": [
    "# For the curious: This is how the table was declared in SQL\n",
    "print(schema.connection.query('show create table {}'.format(Message.full_table_name)).fetchone()[1])"
   ]
  },
  {
   "cell_type": "code",
   "execution_count": 15,
   "metadata": {},
   "outputs": [
    {
     "name": "stdout",
     "output_type": "stream",
     "text": [
      "Proceed to delete entire schema `test_uuid`? [yes, No]: yes\n"
     ]
    }
   ],
   "source": [
    "# Clean up after ourselves\n",
    "schema.drop()"
   ]
  }
 ],
 "metadata": {
  "kernelspec": {
   "display_name": "Python 3",
   "language": "python",
   "name": "python3"
  },
  "language_info": {
   "codemirror_mode": {
    "name": "ipython",
    "version": 3
   },
   "file_extension": ".py",
   "mimetype": "text/x-python",
   "name": "python",
   "nbconvert_exporter": "python",
   "pygments_lexer": "ipython3",
   "version": "3.7.3"
  }
 },
 "nbformat": 4,
 "nbformat_minor": 2
}
