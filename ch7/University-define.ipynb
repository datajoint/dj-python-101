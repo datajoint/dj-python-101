{
 "cells": [
  {
   "cell_type": "code",
   "execution_count": 1,
   "metadata": {
    "slideshow": {
     "slide_type": "slide"
    }
   },
   "outputs": [],
   "source": [
    "import datajoint as dj"
   ]
  },
  {
   "cell_type": "code",
   "execution_count": 2,
   "metadata": {
    "slideshow": {
     "slide_type": "subslide"
    }
   },
   "outputs": [
    {
     "name": "stdout",
     "output_type": "stream",
     "text": [
      "Connecting dimitri@localhost:3306\n"
     ]
    }
   ],
   "source": [
    "schema = dj.schema('dimitri_university')"
   ]
  },
  {
   "cell_type": "code",
   "execution_count": 3,
   "metadata": {},
   "outputs": [
    {
     "name": "stdout",
     "output_type": "stream",
     "text": [
      "Proceed to delete entire schema `dimitri_university`? [yes, No]: no\n"
     ]
    }
   ],
   "source": [
    "schema.drop()"
   ]
  },
  {
   "cell_type": "code",
   "execution_count": 4,
   "metadata": {},
   "outputs": [],
   "source": [
    "schema.spawn_missing_classes()"
   ]
  },
  {
   "cell_type": "code",
   "execution_count": 5,
   "metadata": {
    "slideshow": {
     "slide_type": "slide"
    }
   },
   "outputs": [],
   "source": [
    "@schema\n",
    "class Student(dj.Manual):\n",
    "    definition = \"\"\"\n",
    "    student_id : int unsigned   # university-wide ID number\n",
    "    ---\n",
    "    first_name      : varchar(40)\n",
    "    last_name       : varchar(40)\n",
    "    sex             : enum('F', 'M', 'U')\n",
    "    date_of_birth   : date\n",
    "    home_address    : varchar(120) # mailing street address\n",
    "    home_city       : varchar(60)  # mailing address\n",
    "    home_state      : char(2)      # US state acronym: e.g. OH\n",
    "    home_zip        : char(10)     # zipcode e.g. 93979-4979\n",
    "    home_phone      : varchar(20)  # e.g. 414.657.6883x0881\n",
    "    \"\"\"\n",
    "    \n",
    "@schema\n",
    "class Department(dj.Manual):\n",
    "    definition = \"\"\"\n",
    "    dept : varchar(6)   # abbreviated department name, e.g. BIOL\n",
    "    ---\n",
    "    dept_name    : varchar(200)  # full department name\n",
    "    dept_address : varchar(200)  # mailing address\n",
    "    dept_phone   : varchar(20)\n",
    "    \"\"\"\n",
    "\n",
    "@schema\n",
    "class StudentMajor(dj.Manual):\n",
    "    definition = \"\"\"\n",
    "    -> Student\n",
    "    ---\n",
    "    -> Department\n",
    "    declare_date :  date  # when student declared her major\n",
    "    \"\"\""
   ]
  },
  {
   "cell_type": "code",
   "execution_count": 6,
   "metadata": {},
   "outputs": [
    {
     "data": {
      "image/svg+xml": [
       "<svg height=\"327pt\" viewBox=\"0.00 0.00 335.50 327.00\" width=\"336pt\" xmlns=\"http://www.w3.org/2000/svg\" xmlns:xlink=\"http://www.w3.org/1999/xlink\">\n",
       "<g class=\"graph\" id=\"graph0\" transform=\"scale(1 1) rotate(0) translate(4 323)\">\n",
       "<title>%3</title>\n",
       "<polygon fill=\"#ffffff\" points=\"-4,4 -4,-323 331.5,-323 331.5,4 -4,4\" stroke=\"transparent\"/>\n",
       "<!-- Grade -->\n",
       "<g class=\"node\" id=\"node1\">\n",
       "<title>Grade</title>\n",
       "<g id=\"a_node1\"><a xlink:title=\"→ Enroll\r",
       "------------------------------\r",
       "→ LetterGrade\r",
       "\">\n",
       "<polygon fill=\"#00ff00\" fill-opacity=\"0.188235\" points=\"106,-35 56,-35 56,0 106,0 106,-35\" stroke=\"#00ff00\" stroke-opacity=\"0.188235\"/>\n",
       "<text fill=\"#006400\" font-family=\"arial\" font-size=\"12.00\" text-anchor=\"middle\" x=\"81\" y=\"-14.4\">Grade</text>\n",
       "</a>\n",
       "</g>\n",
       "</g>\n",
       "<!-- Prom -->\n",
       "<g class=\"node\" id=\"node2\">\n",
       "<title>Prom</title>\n",
       "<g id=\"a_node2\"><a xlink:title=\"→ CurrentTerm\r",
       "\">\n",
       "<polygon fill=\"#00ff00\" fill-opacity=\"0.188235\" points=\"308.5,-106 263.5,-106 263.5,-71 308.5,-71 308.5,-106\" stroke=\"#00ff00\" stroke-opacity=\"0.188235\"/>\n",
       "<text fill=\"#006400\" font-family=\"arial\" font-size=\"12.00\" text-anchor=\"middle\" x=\"286\" y=\"-85.4\">Prom</text>\n",
       "</a>\n",
       "</g>\n",
       "</g>\n",
       "<!-- StudentMajor -->\n",
       "<g class=\"node\" id=\"node3\">\n",
       "<title>StudentMajor</title>\n",
       "<g id=\"a_node3\"><a xlink:title=\"→ Student\r",
       "------------------------------\r",
       "→ Department\r",
       "declare_date         \r",
       "\">\n",
       "<polygon fill=\"#00ff00\" fill-opacity=\"0.188235\" points=\"157,-248 69,-248 69,-213 157,-213 157,-248\" stroke=\"#00ff00\" stroke-opacity=\"0.188235\"/>\n",
       "<text fill=\"#006400\" font-family=\"arial\" font-size=\"12.00\" text-anchor=\"middle\" x=\"113\" y=\"-227.4\">StudentMajor</text>\n",
       "</a>\n",
       "</g>\n",
       "</g>\n",
       "<!-- Term -->\n",
       "<g class=\"node\" id=\"node4\">\n",
       "<title>Term</title>\n",
       "<g id=\"a_node4\"><a xlink:title=\"term_year            \r",
       "term                 \r",
       "\">\n",
       "<polygon fill=\"#00ff00\" fill-opacity=\"0.188235\" points=\"302.5,-248 259.5,-248 259.5,-213 302.5,-213 302.5,-248\" stroke=\"#00ff00\" stroke-opacity=\"0.188235\"/>\n",
       "<text fill=\"#006400\" font-family=\"arial\" font-size=\"12.00\" text-anchor=\"start\" text-decoration=\"underline\" x=\"267.5\" y=\"-228.4\">Term</text>\n",
       "</a>\n",
       "</g>\n",
       "</g>\n",
       "<!-- Section -->\n",
       "<g class=\"node\" id=\"node8\">\n",
       "<title>Section</title>\n",
       "<g id=\"a_node8\"><a xlink:title=\"→ Course\r",
       "→ Term\r",
       "section              \r",
       "------------------------------\r",
       "auditorium           \r",
       "\">\n",
       "<polygon fill=\"#00ff00\" fill-opacity=\"0.188235\" points=\"226.5,-177 169.5,-177 169.5,-142 226.5,-142 226.5,-177\" stroke=\"#00ff00\" stroke-opacity=\"0.188235\"/>\n",
       "<text fill=\"#006400\" font-family=\"arial\" font-size=\"12.00\" text-anchor=\"start\" text-decoration=\"underline\" x=\"177.5\" y=\"-157.4\">Section</text>\n",
       "</a>\n",
       "</g>\n",
       "</g>\n",
       "<!-- Term&#45;&gt;Section -->\n",
       "<g class=\"edge\" id=\"edge1\">\n",
       "<title>Term-&gt;Section</title>\n",
       "<path d=\"M260.4831,-212.9494C247.7138,-202.0262 231.3476,-188.0262 218.5685,-177.0947\" fill=\"none\" stroke=\"#000000\" stroke-opacity=\"0.250980\" stroke-width=\".75\"/>\n",
       "</g>\n",
       "<!-- CurrentTerm -->\n",
       "<g class=\"node\" id=\"node9\">\n",
       "<title>CurrentTerm</title>\n",
       "<g id=\"a_node9\"><a xlink:title=\"------------------------------\r",
       "→ Term\r",
       "\">\n",
       "<polygon fill=\"#00ff00\" fill-opacity=\"0.188235\" points=\"327.5,-177 244.5,-177 244.5,-142 327.5,-142 327.5,-177\" stroke=\"#00ff00\" stroke-opacity=\"0.188235\"/>\n",
       "<text fill=\"#006400\" font-family=\"arial\" font-size=\"12.00\" text-anchor=\"middle\" x=\"286\" y=\"-156.4\">CurrentTerm</text>\n",
       "</a>\n",
       "</g>\n",
       "</g>\n",
       "<!-- Term&#45;&gt;CurrentTerm -->\n",
       "<g class=\"edge\" id=\"edge2\">\n",
       "<title>Term-&gt;CurrentTerm</title>\n",
       "<path d=\"M282.236,-212.9494C282.9994,-202.1083 283.9763,-188.2366 284.7435,-177.3418\" fill=\"none\" stroke=\"#000000\" stroke-dasharray=\"5,2\" stroke-opacity=\"0.250980\" stroke-width=\".75\"/>\n",
       "</g>\n",
       "<!-- LetterGrade -->\n",
       "<g class=\"node\" id=\"node5\">\n",
       "<title>LetterGrade</title>\n",
       "<g id=\"a_node5\"><a xlink:title=\"grade                \r",
       "------------------------------\r",
       "points               \r",
       "\">\n",
       "<polygon fill=\"#00ff00\" fill-opacity=\"0.188235\" points=\"80,-106 0,-106 0,-71 80,-71 80,-106\" stroke=\"#00ff00\" stroke-opacity=\"0.188235\"/>\n",
       "<text fill=\"#006400\" font-family=\"arial\" font-size=\"12.00\" text-anchor=\"start\" text-decoration=\"underline\" x=\"8\" y=\"-86.4\">LetterGrade</text>\n",
       "</a>\n",
       "</g>\n",
       "</g>\n",
       "<!-- LetterGrade&#45;&gt;Grade -->\n",
       "<g class=\"edge\" id=\"edge3\">\n",
       "<title>LetterGrade-&gt;Grade</title>\n",
       "<path d=\"M50.1348,-70.9494C56.3952,-60.1083 64.4056,-46.2366 70.697,-35.3418\" fill=\"none\" stroke=\"#000000\" stroke-dasharray=\"5,2\" stroke-opacity=\"0.250980\" stroke-width=\".75\"/>\n",
       "</g>\n",
       "<!-- Course -->\n",
       "<g class=\"node\" id=\"node6\">\n",
       "<title>Course</title>\n",
       "<g id=\"a_node6\"><a xlink:title=\"→ Department\r",
       "course               \r",
       "------------------------------\r",
       "course_name          \r",
       "credits              \r",
       "\">\n",
       "<polygon fill=\"#00ff00\" fill-opacity=\"0.188235\" points=\"231,-248 175,-248 175,-213 231,-213 231,-248\" stroke=\"#00ff00\" stroke-opacity=\"0.188235\"/>\n",
       "<text fill=\"#006400\" font-family=\"arial\" font-size=\"12.00\" text-anchor=\"start\" text-decoration=\"underline\" x=\"183\" y=\"-228.4\">Course</text>\n",
       "</a>\n",
       "</g>\n",
       "</g>\n",
       "<!-- Course&#45;&gt;Section -->\n",
       "<g class=\"edge\" id=\"edge4\">\n",
       "<title>Course-&gt;Section</title>\n",
       "<path d=\"M201.764,-212.9494C201.0006,-202.1083 200.0237,-188.2366 199.2565,-177.3418\" fill=\"none\" stroke=\"#000000\" stroke-opacity=\"0.250980\" stroke-width=\".75\"/>\n",
       "</g>\n",
       "<!-- Student -->\n",
       "<g class=\"node\" id=\"node7\">\n",
       "<title>Student</title>\n",
       "<g id=\"a_node7\"><a xlink:title=\"student_id           \r",
       "------------------------------\r",
       "first_name           \r",
       "last_name            \r",
       "sex                  \r",
       "date_of_birth        \r",
       "home_address         \r",
       "home_city            \r",
       "home_state           \r",
       "home_zip             \r",
       "home_phone           \r",
       "\">\n",
       "<polygon fill=\"#00ff00\" fill-opacity=\"0.188235\" points=\"106,-319 48,-319 48,-284 106,-284 106,-319\" stroke=\"#00ff00\" stroke-opacity=\"0.188235\"/>\n",
       "<text fill=\"#006400\" font-family=\"arial\" font-size=\"12.00\" text-anchor=\"start\" text-decoration=\"underline\" x=\"56\" y=\"-299.4\">Student</text>\n",
       "</a>\n",
       "</g>\n",
       "</g>\n",
       "<!-- Student&#45;&gt;StudentMajor -->\n",
       "<g class=\"edge\" id=\"edge5\">\n",
       "<title>Student-&gt;StudentMajor</title>\n",
       "<path d=\"M85.8989,-283.9494C91.3958,-273.1083 98.4293,-259.2366 103.9534,-248.3418\" fill=\"none\" stroke=\"#000000\" stroke-opacity=\"0.250980\" stroke-width=\"2\"/>\n",
       "</g>\n",
       "<!-- Enroll -->\n",
       "<g class=\"node\" id=\"node11\">\n",
       "<title>Enroll</title>\n",
       "<g id=\"a_node11\"><a xlink:title=\"→ Student\r",
       "→ Section\r",
       "\">\n",
       "<polygon fill=\"#00ff00\" fill-opacity=\"0.188235\" points=\"146,-106 98,-106 98,-71 146,-71 146,-106\" stroke=\"#00ff00\" stroke-opacity=\"0.188235\"/>\n",
       "<text fill=\"#006400\" font-family=\"arial\" font-size=\"12.00\" text-anchor=\"middle\" x=\"122\" y=\"-85.4\">Enroll</text>\n",
       "</a>\n",
       "</g>\n",
       "</g>\n",
       "<!-- Student&#45;&gt;Enroll -->\n",
       "<g class=\"edge\" id=\"edge6\">\n",
       "<title>Student-&gt;Enroll</title>\n",
       "<path d=\"M69.203,-283.7782C62.3418,-265.8461 54.2682,-237.3677 60,-213 69.6202,-172.1014 94.8054,-129.2834 109.9526,-106.0494\" fill=\"none\" stroke=\"#000000\" stroke-opacity=\"0.250980\" stroke-width=\".75\"/>\n",
       "</g>\n",
       "<!-- Section&#45;&gt;Enroll -->\n",
       "<g class=\"edge\" id=\"edge7\">\n",
       "<title>Section-&gt;Enroll</title>\n",
       "<path d=\"M179.2135,-141.9494C167.521,-131.0262 152.5351,-117.0262 140.8338,-106.0947\" fill=\"none\" stroke=\"#000000\" stroke-opacity=\"0.250980\" stroke-width=\".75\"/>\n",
       "</g>\n",
       "<!-- CurrentTerm&#45;&gt;Prom -->\n",
       "<g class=\"edge\" id=\"edge8\">\n",
       "<title>CurrentTerm-&gt;Prom</title>\n",
       "<path d=\"M286,-141.9494C286,-131.1083 286,-117.2366 286,-106.3418\" fill=\"none\" stroke=\"#000000\" stroke-opacity=\"0.250980\" stroke-width=\"2\"/>\n",
       "</g>\n",
       "<!-- Department -->\n",
       "<g class=\"node\" id=\"node10\">\n",
       "<title>Department</title>\n",
       "<g id=\"a_node10\"><a xlink:title=\"dept                 \r",
       "------------------------------\r",
       "dept_name            \r",
       "dept_address         \r",
       "dept_phone           \r",
       "\">\n",
       "<polygon fill=\"#00ff00\" fill-opacity=\"0.188235\" points=\"222.5,-319 143.5,-319 143.5,-284 222.5,-284 222.5,-319\" stroke=\"#00ff00\" stroke-opacity=\"0.188235\"/>\n",
       "<text fill=\"#006400\" font-family=\"arial\" font-size=\"12.00\" text-anchor=\"start\" text-decoration=\"underline\" x=\"151.5\" y=\"-299.4\">Department</text>\n",
       "</a>\n",
       "</g>\n",
       "</g>\n",
       "<!-- Department&#45;&gt;StudentMajor -->\n",
       "<g class=\"edge\" id=\"edge9\">\n",
       "<title>Department-&gt;StudentMajor</title>\n",
       "<path d=\"M165.6966,-283.9494C155.0082,-273.1083 141.3318,-259.2366 130.5905,-248.3418\" fill=\"none\" stroke=\"#000000\" stroke-dasharray=\"5,2\" stroke-opacity=\"0.250980\" stroke-width=\".75\"/>\n",
       "</g>\n",
       "<!-- Department&#45;&gt;Course -->\n",
       "<g class=\"edge\" id=\"edge10\">\n",
       "<title>Department-&gt;Course</title>\n",
       "<path d=\"M187.9438,-283.9494C190.9976,-273.1083 194.9052,-259.2366 197.9741,-248.3418\" fill=\"none\" stroke=\"#000000\" stroke-opacity=\"0.250980\" stroke-width=\".75\"/>\n",
       "</g>\n",
       "<!-- Enroll&#45;&gt;Grade -->\n",
       "<g class=\"edge\" id=\"edge11\">\n",
       "<title>Enroll-&gt;Grade</title>\n",
       "<path d=\"M111.8652,-70.9494C105.6048,-60.1083 97.5944,-46.2366 91.303,-35.3418\" fill=\"none\" stroke=\"#000000\" stroke-opacity=\"0.250980\" stroke-width=\"2\"/>\n",
       "</g>\n",
       "</g>\n",
       "</svg>"
      ],
      "text/plain": [
       "<datajoint.diagram.Diagram at 0x7f031c9bba20>"
      ]
     },
     "execution_count": 6,
     "metadata": {},
     "output_type": "execute_result"
    }
   ],
   "source": [
    "dj.Diagram(schema)"
   ]
  },
  {
   "cell_type": "code",
   "execution_count": null,
   "metadata": {
    "slideshow": {
     "slide_type": "slide"
    }
   },
   "outputs": [],
   "source": [
    "@schema\n",
    "class Course(dj.Manual):\n",
    "    definition = \"\"\"\n",
    "    -> Department\n",
    "    course  : int unsigned   # course number, e.g. 1010\n",
    "    ---\n",
    "    course_name :  varchar(200)  # e.g. \"Neurobiology of Sensation and Movement.\"\n",
    "    credits     :  decimal(3,1)  # number of credits earned by completing the course\n",
    "    \"\"\"\n",
    "    \n",
    "@schema\n",
    "class Term(dj.Manual):\n",
    "    definition = \"\"\"\n",
    "    term_year : year\n",
    "    term      : enum('Spring', 'Summer', 'Fall')\n",
    "    \"\"\"\n",
    "\n",
    "@schema\n",
    "class Section(dj.Manual):\n",
    "    definition = \"\"\"\n",
    "    -> Course\n",
    "    -> Term\n",
    "    section : char(1)\n",
    "    ---\n",
    "    auditorium   :  varchar(12)\n",
    "    \"\"\"\n",
    "    \n",
    "@schema\n",
    "class CurrentTerm(dj.Manual):\n",
    "    definition = \"\"\"\n",
    "    ---\n",
    "    -> Term\n",
    "    \"\"\"\n",
    "\n",
    "@schema\n",
    "class Enroll(dj.Manual):\n",
    "    definition = \"\"\"\n",
    "    -> Student\n",
    "    -> Section\n",
    "    \"\"\"\n",
    "\n",
    "@schema\n",
    "class LetterGrade(dj.Manual):\n",
    "    definition = \"\"\"\n",
    "    grade : char(2)\n",
    "    ---\n",
    "    points : decimal(3,2)\n",
    "    \"\"\"\n",
    "\n",
    "@schema\n",
    "class Grade(dj.Manual):\n",
    "    definition = \"\"\"\n",
    "    -> Enroll\n",
    "    ---\n",
    "    -> LetterGrade\n",
    "    \"\"\""
   ]
  },
  {
   "cell_type": "code",
   "execution_count": null,
   "metadata": {},
   "outputs": [],
   "source": [
    "CurrentTerm()"
   ]
  },
  {
   "cell_type": "code",
   "execution_count": null,
   "metadata": {
    "slideshow": {
     "slide_type": "slide"
    }
   },
   "outputs": [],
   "source": [
    "dj.Diagram(schema)"
   ]
  },
  {
   "cell_type": "code",
   "execution_count": null,
   "metadata": {},
   "outputs": [],
   "source": [
    "CurrentTerm.describe()"
   ]
  },
  {
   "cell_type": "code",
   "execution_count": null,
   "metadata": {},
   "outputs": [],
   "source": [
    "@schema\n",
    "class Prom(dj.Manual):\n",
    "    definition = \"\"\"\n",
    "    -> CurrentTerm\n",
    "    ---    \n",
    "    \"\"\""
   ]
  },
  {
   "cell_type": "code",
   "execution_count": null,
   "metadata": {},
   "outputs": [],
   "source": [
    "isinstance(IndexError(), IndexError)"
   ]
  },
  {
   "cell_type": "code",
   "execution_count": null,
   "metadata": {},
   "outputs": [],
   "source": [
    "try:\n",
    "    raise IndexError()\n",
    "except Exception as e:\n",
    "    print(isinstance(e, IndexError))"
   ]
  },
  {
   "cell_type": "code",
   "execution_count": null,
   "metadata": {},
   "outputs": [],
   "source": [
    "Prom()"
   ]
  },
  {
   "cell_type": "code",
   "execution_count": null,
   "metadata": {},
   "outputs": [],
   "source": [
    "Term().insert1(('2020', 'Spring'))"
   ]
  },
  {
   "cell_type": "code",
   "execution_count": null,
   "metadata": {},
   "outputs": [],
   "source": [
    "CurrentTerm.insert1((' ', '2019', 'Fall'))"
   ]
  },
  {
   "cell_type": "code",
   "execution_count": null,
   "metadata": {},
   "outputs": [],
   "source": [
    "CurrentTerm()"
   ]
  },
  {
   "cell_type": "code",
   "execution_count": null,
   "metadata": {},
   "outputs": [],
   "source": [
    "Prom.describe();"
   ]
  },
  {
   "cell_type": "code",
   "execution_count": null,
   "metadata": {},
   "outputs": [],
   "source": [
    "set((1,2,3)).difference(({'_'}))"
   ]
  },
  {
   "cell_type": "code",
   "execution_count": null,
   "metadata": {},
   "outputs": [],
   "source": [
    "{'1213'}"
   ]
  },
  {
   "cell_type": "code",
   "execution_count": null,
   "metadata": {},
   "outputs": [],
   "source": []
  }
 ],
 "metadata": {
  "kernelspec": {
   "display_name": "Python 3",
   "language": "python",
   "name": "python3"
  },
  "language_info": {
   "codemirror_mode": {
    "name": "ipython",
    "version": 3
   },
   "file_extension": ".py",
   "mimetype": "text/x-python",
   "name": "python",
   "nbconvert_exporter": "python",
   "pygments_lexer": "ipython3",
   "version": "3.7.3"
  }
 },
 "nbformat": 4,
 "nbformat_minor": 2
}
