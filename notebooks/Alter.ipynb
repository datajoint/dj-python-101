{
 "cells": [
  {
   "cell_type": "markdown",
   "metadata": {},
   "source": [
    "# Altering table definitions in place (new in release 0.12.0)\n",
    "\n",
    "This and other notebooks for this video series are found at\n",
    "\n",
    "https://github.com/vathes/db-programming-with-datajoint\n",
    "\n",
    "This notebook describes how to alter table definitions in place without losing the data they already contain.\n",
    "\n",
    "First, let's connection to an existing database:"
   ]
  },
  {
   "cell_type": "code",
   "execution_count": 1,
   "metadata": {},
   "outputs": [
    {
     "name": "stdout",
     "output_type": "stream",
     "text": [
      "Connecting dimitri@localhost:3306\n"
     ]
    }
   ],
   "source": [
    "import datajoint as dj\n",
    "schema = dj.schema('university')\n",
    "schema.spawn_missing_classes()"
   ]
  },
  {
   "cell_type": "code",
   "execution_count": 2,
   "metadata": {},
   "outputs": [
    {
     "data": {
      "image/svg+xml": [
       "<svg height=\"327pt\" viewBox=\"0.00 0.00 330.50 327.00\" width=\"330pt\" xmlns=\"http://www.w3.org/2000/svg\" xmlns:xlink=\"http://www.w3.org/1999/xlink\">\n",
       "<g class=\"graph\" id=\"graph0\" transform=\"scale(1 1) rotate(0) translate(4 323)\">\n",
       "<title>%3</title>\n",
       "<polygon fill=\"#ffffff\" points=\"-4,4 -4,-323 326.4995,-323 326.4995,4 -4,4\" stroke=\"transparent\"/>\n",
       "<!-- Exam -->\n",
       "<g class=\"node\" id=\"node1\">\n",
       "<title>Exam</title>\n",
       "<g id=\"a_node1\"><a xlink:title=\"→ Enroll\r",
       "------------------------------\r",
       "exam_date=null       \r",
       "exam_score           \r",
       "\">\n",
       "<polygon fill=\"#00ff00\" fill-opacity=\"0.188235\" points=\"96.9995,-35 49.9995,-35 49.9995,0 96.9995,0 96.9995,-35\" stroke=\"#00ff00\" stroke-opacity=\"0.188235\"/>\n",
       "<text fill=\"#006400\" font-family=\"arial\" font-size=\"12.00\" text-anchor=\"middle\" x=\"73.4995\" y=\"-14.4\">Exam</text>\n",
       "</a>\n",
       "</g>\n",
       "</g>\n",
       "<!-- Section -->\n",
       "<g class=\"node\" id=\"node2\">\n",
       "<title>Section</title>\n",
       "<g id=\"a_node2\"><a xlink:title=\"→ Course\r",
       "→ Term\r",
       "section              \r",
       "------------------------------\r",
       "auditorium           \r",
       "\">\n",
       "<polygon fill=\"#00ff00\" fill-opacity=\"0.188235\" points=\"180.9995,-177 123.9995,-177 123.9995,-142 180.9995,-142 180.9995,-177\" stroke=\"#00ff00\" stroke-opacity=\"0.188235\"/>\n",
       "<text fill=\"#006400\" font-family=\"arial\" font-size=\"12.00\" text-anchor=\"start\" text-decoration=\"underline\" x=\"131.9995\" y=\"-157.4\">Section</text>\n",
       "</a>\n",
       "</g>\n",
       "</g>\n",
       "<!-- Enroll -->\n",
       "<g class=\"node\" id=\"node6\">\n",
       "<title>Enroll</title>\n",
       "<g id=\"a_node6\"><a xlink:title=\"→ Student\r",
       "→ Section\r",
       "\">\n",
       "<polygon fill=\"#00ff00\" fill-opacity=\"0.188235\" points=\"97.4995,-106 49.4995,-106 49.4995,-71 97.4995,-71 97.4995,-106\" stroke=\"#00ff00\" stroke-opacity=\"0.188235\"/>\n",
       "<text fill=\"#006400\" font-family=\"arial\" font-size=\"12.00\" text-anchor=\"middle\" x=\"73.4995\" y=\"-85.4\">Enroll</text>\n",
       "</a>\n",
       "</g>\n",
       "</g>\n",
       "<!-- Section&#45;&gt;Enroll -->\n",
       "<g class=\"edge\" id=\"edge1\">\n",
       "<title>Section-&gt;Enroll</title>\n",
       "<path d=\"M132.9714,-141.9494C120.8174,-131.0262 105.24,-117.0262 93.0767,-106.0947\" fill=\"none\" stroke=\"#000000\" stroke-opacity=\"0.250980\" stroke-width=\".75\"/>\n",
       "</g>\n",
       "<!-- Grade -->\n",
       "<g class=\"node\" id=\"node3\">\n",
       "<title>Grade</title>\n",
       "<g id=\"a_node3\"><a xlink:title=\"→ Enroll\r",
       "------------------------------\r",
       "→ LetterGrade\r",
       "\">\n",
       "<polygon fill=\"#00ff00\" fill-opacity=\"0.188235\" points=\"172.4995,-35 122.4995,-35 122.4995,0 172.4995,0 172.4995,-35\" stroke=\"#00ff00\" stroke-opacity=\"0.188235\"/>\n",
       "<text fill=\"#006400\" font-family=\"arial\" font-size=\"12.00\" text-anchor=\"middle\" x=\"147.4995\" y=\"-14.4\">Grade</text>\n",
       "</a>\n",
       "</g>\n",
       "</g>\n",
       "<!-- Major -->\n",
       "<g class=\"node\" id=\"node4\">\n",
       "<title>Major</title>\n",
       "<g id=\"a_node4\"><a xlink:title=\"→ Student\r",
       "→ Department\r",
       "------------------------------\r",
       "current=null         \r",
       "selection_date       \r",
       "UNIQUE INDEX (current)\r",
       "\">\n",
       "<polygon fill=\"#00ff00\" fill-opacity=\"0.188235\" points=\"247.9995,-248 200.9995,-248 200.9995,-213 247.9995,-213 247.9995,-248\" stroke=\"#00ff00\" stroke-opacity=\"0.188235\"/>\n",
       "<text fill=\"#006400\" font-family=\"arial\" font-size=\"12.00\" text-anchor=\"middle\" x=\"224.4995\" y=\"-227.4\">Major</text>\n",
       "</a>\n",
       "</g>\n",
       "</g>\n",
       "<!-- StudentMajor -->\n",
       "<g class=\"node\" id=\"node5\">\n",
       "<title>StudentMajor</title>\n",
       "<g id=\"a_node5\"><a xlink:title=\"→ Student\r",
       "------------------------------\r",
       "→ Department\r",
       "declare_date         \r",
       "\">\n",
       "<polygon fill=\"#00ff00\" fill-opacity=\"0.188235\" points=\"182.4995,-248 94.4995,-248 94.4995,-213 182.4995,-213 182.4995,-248\" stroke=\"#00ff00\" stroke-opacity=\"0.188235\"/>\n",
       "<text fill=\"#006400\" font-family=\"arial\" font-size=\"12.00\" text-anchor=\"middle\" x=\"138.4995\" y=\"-227.4\">StudentMajor</text>\n",
       "</a>\n",
       "</g>\n",
       "</g>\n",
       "<!-- Enroll&#45;&gt;Exam -->\n",
       "<g class=\"edge\" id=\"edge2\">\n",
       "<title>Enroll-&gt;Exam</title>\n",
       "<path d=\"M73.4995,-70.9494C73.4995,-60.1083 73.4995,-46.2366 73.4995,-35.3418\" fill=\"none\" stroke=\"#000000\" stroke-opacity=\"0.250980\" stroke-width=\"2\"/>\n",
       "</g>\n",
       "<!-- Enroll&#45;&gt;Grade -->\n",
       "<g class=\"edge\" id=\"edge3\">\n",
       "<title>Enroll-&gt;Grade</title>\n",
       "<path d=\"M91.7916,-70.9494C103.1764,-60.0262 117.7679,-46.0262 129.1613,-35.0947\" fill=\"none\" stroke=\"#000000\" stroke-opacity=\"0.250980\" stroke-width=\"2\"/>\n",
       "</g>\n",
       "<!-- LetterGrade -->\n",
       "<g class=\"node\" id=\"node7\">\n",
       "<title>LetterGrade</title>\n",
       "<g id=\"a_node7\"><a xlink:title=\"grade                \r",
       "------------------------------\r",
       "points               \r",
       "\">\n",
       "<polygon fill=\"#00ff00\" fill-opacity=\"0.188235\" points=\"195.4995,-106 115.4995,-106 115.4995,-71 195.4995,-71 195.4995,-106\" stroke=\"#00ff00\" stroke-opacity=\"0.188235\"/>\n",
       "<text fill=\"#006400\" font-family=\"arial\" font-size=\"12.00\" text-anchor=\"start\" text-decoration=\"underline\" x=\"123.4995\" y=\"-86.4\">LetterGrade</text>\n",
       "</a>\n",
       "</g>\n",
       "</g>\n",
       "<!-- LetterGrade&#45;&gt;Grade -->\n",
       "<g class=\"edge\" id=\"edge4\">\n",
       "<title>LetterGrade-&gt;Grade</title>\n",
       "<path d=\"M153.522,-70.9494C152.3004,-60.1083 150.7374,-46.2366 149.5098,-35.3418\" fill=\"none\" stroke=\"#000000\" stroke-dasharray=\"5,2\" stroke-opacity=\"0.250980\" stroke-width=\".75\"/>\n",
       "</g>\n",
       "<!-- Course -->\n",
       "<g class=\"node\" id=\"node8\">\n",
       "<title>Course</title>\n",
       "<g id=\"a_node8\"><a xlink:title=\"→ Department\r",
       "course               \r",
       "------------------------------\r",
       "course_name          \r",
       "credits              \r",
       "\">\n",
       "<polygon fill=\"#00ff00\" fill-opacity=\"0.188235\" points=\"322.4995,-248 266.4995,-248 266.4995,-213 322.4995,-213 322.4995,-248\" stroke=\"#00ff00\" stroke-opacity=\"0.188235\"/>\n",
       "<text fill=\"#006400\" font-family=\"arial\" font-size=\"12.00\" text-anchor=\"start\" text-decoration=\"underline\" x=\"274.4995\" y=\"-228.4\">Course</text>\n",
       "</a>\n",
       "</g>\n",
       "</g>\n",
       "<!-- Course&#45;&gt;Section -->\n",
       "<g class=\"edge\" id=\"edge5\">\n",
       "<title>Course-&gt;Section</title>\n",
       "<path d=\"M266.4449,-216.4727C241.8736,-204.1871 206.3105,-186.4055 181.4708,-173.9856\" fill=\"none\" stroke=\"#000000\" stroke-opacity=\"0.250980\" stroke-width=\".75\"/>\n",
       "</g>\n",
       "<!-- CurrentTerm -->\n",
       "<g class=\"node\" id=\"node9\">\n",
       "<title>CurrentTerm</title>\n",
       "<g id=\"a_node9\"><a xlink:title=\"omega                \r",
       "------------------------------\r",
       "→ Term\r",
       "\">\n",
       "<polygon fill=\"#00ff00\" fill-opacity=\"0.188235\" points=\"105.9995,-177 22.9995,-177 22.9995,-142 105.9995,-142 105.9995,-177\" stroke=\"#00ff00\" stroke-opacity=\"0.188235\"/>\n",
       "<text fill=\"#006400\" font-family=\"arial\" font-size=\"12.00\" text-anchor=\"middle\" x=\"64.4995\" y=\"-156.4\">CurrentTerm</text>\n",
       "</a>\n",
       "</g>\n",
       "</g>\n",
       "<!-- Department -->\n",
       "<g class=\"node\" id=\"node10\">\n",
       "<title>Department</title>\n",
       "<g id=\"a_node10\"><a xlink:title=\"dept                 \r",
       "------------------------------\r",
       "dept_name            \r",
       "dept_address         \r",
       "dept_phone           \r",
       "\">\n",
       "<polygon fill=\"#00ff00\" fill-opacity=\"0.188235\" points=\"263.9995,-319 184.9995,-319 184.9995,-284 263.9995,-284 263.9995,-319\" stroke=\"#00ff00\" stroke-opacity=\"0.188235\"/>\n",
       "<text fill=\"#006400\" font-family=\"arial\" font-size=\"12.00\" text-anchor=\"start\" text-decoration=\"underline\" x=\"192.9995\" y=\"-299.4\">Department</text>\n",
       "</a>\n",
       "</g>\n",
       "</g>\n",
       "<!-- Department&#45;&gt;Major -->\n",
       "<g class=\"edge\" id=\"edge6\">\n",
       "<title>Department-&gt;Major</title>\n",
       "<path d=\"M224.4995,-283.9494C224.4995,-273.1083 224.4995,-259.2366 224.4995,-248.3418\" fill=\"none\" stroke=\"#000000\" stroke-opacity=\"0.250980\" stroke-width=\".75\"/>\n",
       "</g>\n",
       "<!-- Department&#45;&gt;StudentMajor -->\n",
       "<g class=\"edge\" id=\"edge7\">\n",
       "<title>Department-&gt;StudentMajor</title>\n",
       "<path d=\"M203.2411,-283.9494C190.0101,-273.0262 173.0524,-259.0262 159.8114,-248.0947\" fill=\"none\" stroke=\"#000000\" stroke-dasharray=\"5,2\" stroke-opacity=\"0.250980\" stroke-width=\".75\"/>\n",
       "</g>\n",
       "<!-- Department&#45;&gt;Course -->\n",
       "<g class=\"edge\" id=\"edge8\">\n",
       "<title>Department-&gt;Course</title>\n",
       "<path d=\"M241.8029,-283.9494C252.4913,-273.1083 266.1677,-259.2366 276.909,-248.3418\" fill=\"none\" stroke=\"#000000\" stroke-opacity=\"0.250980\" stroke-width=\".75\"/>\n",
       "</g>\n",
       "<!-- Student -->\n",
       "<g class=\"node\" id=\"node11\">\n",
       "<title>Student</title>\n",
       "<g id=\"a_node11\"><a xlink:title=\"student_id           \r",
       "------------------------------\r",
       "first_name           \r",
       "last_name            \r",
       "sex                  \r",
       "date_of_birth        \r",
       "home_address         \r",
       "home_city            \r",
       "home_state           \r",
       "home_zip             \r",
       "home_phone           \r",
       "\">\n",
       "<polygon fill=\"#00ff00\" fill-opacity=\"0.188235\" points=\"166.4995,-319 108.4995,-319 108.4995,-284 166.4995,-284 166.4995,-319\" stroke=\"#00ff00\" stroke-opacity=\"0.188235\"/>\n",
       "<text fill=\"#006400\" font-family=\"arial\" font-size=\"12.00\" text-anchor=\"start\" text-decoration=\"underline\" x=\"116.4995\" y=\"-299.4\">Student</text>\n",
       "</a>\n",
       "</g>\n",
       "</g>\n",
       "<!-- Student&#45;&gt;Major -->\n",
       "<g class=\"edge\" id=\"edge9\">\n",
       "<title>Student-&gt;Major</title>\n",
       "<path d=\"M159.0051,-283.9494C172.3899,-273.0262 189.5448,-259.0262 202.9398,-248.0947\" fill=\"none\" stroke=\"#000000\" stroke-opacity=\"0.250980\" stroke-width=\".75\"/>\n",
       "</g>\n",
       "<!-- Student&#45;&gt;StudentMajor -->\n",
       "<g class=\"edge\" id=\"edge10\">\n",
       "<title>Student-&gt;StudentMajor</title>\n",
       "<path d=\"M137.7467,-283.9494C137.8994,-273.1083 138.0948,-259.2366 138.2482,-248.3418\" fill=\"none\" stroke=\"#000000\" stroke-opacity=\"0.250980\" stroke-width=\"2\"/>\n",
       "</g>\n",
       "<!-- Student&#45;&gt;Enroll -->\n",
       "<g class=\"edge\" id=\"edge11\">\n",
       "<title>Student-&gt;Enroll</title>\n",
       "<path d=\"M108.4321,-296.0112C81.9013,-289.3913 43.8218,-275.5261 23.4995,-248 -4.6067,-209.9309 -5.8521,-185.1825 13.4995,-142 20.8621,-125.5707 36.0398,-112.1142 49.287,-102.8063\" fill=\"none\" stroke=\"#000000\" stroke-opacity=\"0.250980\" stroke-width=\".75\"/>\n",
       "</g>\n",
       "<!-- Term -->\n",
       "<g class=\"node\" id=\"node12\">\n",
       "<title>Term</title>\n",
       "<g id=\"a_node12\"><a xlink:title=\"term_year            \r",
       "term                 \r",
       "\">\n",
       "<polygon fill=\"#00ff00\" fill-opacity=\"0.188235\" points=\"75.9995,-248 32.9995,-248 32.9995,-213 75.9995,-213 75.9995,-248\" stroke=\"#00ff00\" stroke-opacity=\"0.188235\"/>\n",
       "<text fill=\"#006400\" font-family=\"arial\" font-size=\"12.00\" text-anchor=\"start\" text-decoration=\"underline\" x=\"40.9995\" y=\"-228.4\">Term</text>\n",
       "</a>\n",
       "</g>\n",
       "</g>\n",
       "<!-- Term&#45;&gt;Section -->\n",
       "<g class=\"edge\" id=\"edge12\">\n",
       "<title>Term-&gt;Section</title>\n",
       "<path d=\"M76.2489,-214.7428C91.5869,-203.6305 112.1482,-188.7341 128.0543,-177.2103\" fill=\"none\" stroke=\"#000000\" stroke-opacity=\"0.250980\" stroke-width=\".75\"/>\n",
       "</g>\n",
       "<!-- Term&#45;&gt;CurrentTerm -->\n",
       "<g class=\"edge\" id=\"edge13\">\n",
       "<title>Term-&gt;CurrentTerm</title>\n",
       "<path d=\"M56.9714,-212.9494C58.4983,-202.1083 60.4521,-188.2366 61.9866,-177.3418\" fill=\"none\" stroke=\"#000000\" stroke-dasharray=\"5,2\" stroke-opacity=\"0.250980\" stroke-width=\".75\"/>\n",
       "</g>\n",
       "</g>\n",
       "</svg>"
      ],
      "text/plain": [
       "<datajoint.diagram.Diagram at 0x7f5dcf23b240>"
      ]
     },
     "execution_count": 2,
     "metadata": {},
     "output_type": "execute_result"
    }
   ],
   "source": [
    "dj.Diagram(schema)"
   ]
  },
  {
   "cell_type": "markdown",
   "metadata": {},
   "source": [
    "Let's define table `Exam` to contain the results of midterm and final exams."
   ]
  },
  {
   "cell_type": "code",
   "execution_count": 3,
   "metadata": {},
   "outputs": [],
   "source": [
    "@schema\n",
    "class Exam(dj.Manual):\n",
    "    definition = \"\"\"\n",
    "    -> Enroll \n",
    "    ---\n",
    "    score  : decimal(5,2)   # percent of total \n",
    "    \"\"\""
   ]
  },
  {
   "cell_type": "code",
   "execution_count": 4,
   "metadata": {},
   "outputs": [
    {
     "data": {
      "text/html": [
       "\n",
       "        \n",
       "        <style type=\"text/css\">\n",
       "            .Relation{\n",
       "                border-collapse:collapse;\n",
       "            }\n",
       "            .Relation th{\n",
       "                background: #A0A0A0; color: #ffffff; padding:4px; border:#f0e0e0 1px solid;\n",
       "                font-weight: normal; font-family: monospace; font-size: 100%;\n",
       "            }\n",
       "            .Relation td{\n",
       "                padding:4px; border:#f0e0e0 1px solid; font-size:100%;\n",
       "            }\n",
       "            .Relation tr:nth-child(odd){\n",
       "                background: #ffffff;\n",
       "            }\n",
       "            .Relation tr:nth-child(even){\n",
       "                background: #f3f1ff;\n",
       "            }\n",
       "            /* Tooltip container */\n",
       "            .djtooltip {\n",
       "            }\n",
       "            /* Tooltip text */\n",
       "            .djtooltip .djtooltiptext {\n",
       "                visibility: hidden;\n",
       "                width: 120px;\n",
       "                background-color: black;\n",
       "                color: #fff;\n",
       "                text-align: center;\n",
       "                padding: 5px 0;\n",
       "                border-radius: 6px;\n",
       "                /* Position the tooltip text - see examples below! */\n",
       "                position: absolute;\n",
       "                z-index: 1;\n",
       "            }\n",
       "            #primary {\n",
       "                font-weight: bold;\n",
       "                color: black;\n",
       "            }\n",
       "\n",
       "            #nonprimary {\n",
       "                font-weight: normal;\n",
       "                color: white;\n",
       "            }\n",
       "\n",
       "            /* Show the tooltip text when you mouse over the tooltip container */\n",
       "            .djtooltip:hover .djtooltiptext {\n",
       "                visibility: visible;\n",
       "            }\n",
       "        </style>\n",
       "        \n",
       "        <b></b>\n",
       "            <div style=\"max-height:1000px;max-width:1500px;overflow:auto;\">\n",
       "            <table border=\"1\" class=\"Relation\">\n",
       "                <thead> <tr style=\"text-align: right;\"> <th> <div class=\"djtooltip\">\n",
       "                                <p id=\"primary\">student_id</p>\n",
       "                                <span class=\"djtooltiptext\">university-wide ID number</span>\n",
       "                            </div></th><th><div class=\"djtooltip\">\n",
       "                                <p id=\"primary\">dept</p>\n",
       "                                <span class=\"djtooltiptext\">abbreviated department name, e.g. BIOL</span>\n",
       "                            </div></th><th><div class=\"djtooltip\">\n",
       "                                <p id=\"primary\">course</p>\n",
       "                                <span class=\"djtooltiptext\">course number, e.g. 1010</span>\n",
       "                            </div></th><th><div class=\"djtooltip\">\n",
       "                                <p id=\"primary\">term_year</p>\n",
       "                                <span class=\"djtooltiptext\"></span>\n",
       "                            </div></th><th><div class=\"djtooltip\">\n",
       "                                <p id=\"primary\">term</p>\n",
       "                                <span class=\"djtooltiptext\"></span>\n",
       "                            </div></th><th><div class=\"djtooltip\">\n",
       "                                <p id=\"primary\">section</p>\n",
       "                                <span class=\"djtooltiptext\"></span>\n",
       "                            </div></th><th><div class=\"djtooltip\">\n",
       "                                <p id=\"nonprimary\">exam_date</p>\n",
       "                                <span class=\"djtooltiptext\"></span>\n",
       "                            </div></th><th><div class=\"djtooltip\">\n",
       "                                <p id=\"nonprimary\">exam_score</p>\n",
       "                                <span class=\"djtooltiptext\">percent of total</span>\n",
       "                            </div> </th> </tr> </thead>\n",
       "                <tbody> <tr> <td>1016</td>\n",
       "<td>MATH</td>\n",
       "<td>2280</td>\n",
       "<td>2018</td>\n",
       "<td>Fall</td>\n",
       "<td>a</td>\n",
       "<td>None</td>\n",
       "<td>86.000</td></tr><tr><td>1067</td>\n",
       "<td>CS</td>\n",
       "<td>2100</td>\n",
       "<td>2018</td>\n",
       "<td>Fall</td>\n",
       "<td>a</td>\n",
       "<td>None</td>\n",
       "<td>13.000</td></tr><tr><td>1084</td>\n",
       "<td>MATH</td>\n",
       "<td>1250</td>\n",
       "<td>2018</td>\n",
       "<td>Fall</td>\n",
       "<td>a</td>\n",
       "<td>2019-04-30</td>\n",
       "<td>65.000</td></tr><tr><td>1201</td>\n",
       "<td>BIOL</td>\n",
       "<td>2021</td>\n",
       "<td>2018</td>\n",
       "<td>Fall</td>\n",
       "<td>a</td>\n",
       "<td>None</td>\n",
       "<td>22.000</td></tr><tr><td>1204</td>\n",
       "<td>CS</td>\n",
       "<td>1030</td>\n",
       "<td>2018</td>\n",
       "<td>Fall</td>\n",
       "<td>d</td>\n",
       "<td>2019-04-30</td>\n",
       "<td>42.000</td></tr><tr><td>1484</td>\n",
       "<td>PHYS</td>\n",
       "<td>2040</td>\n",
       "<td>2018</td>\n",
       "<td>Fall</td>\n",
       "<td>a</td>\n",
       "<td>None</td>\n",
       "<td>83.000</td></tr><tr><td>1515</td>\n",
       "<td>PHYS</td>\n",
       "<td>2140</td>\n",
       "<td>2018</td>\n",
       "<td>Fall</td>\n",
       "<td>a</td>\n",
       "<td>None</td>\n",
       "<td>13.000</td> </tr> </tbody>\n",
       "            </table>\n",
       "            <p>...</p>\n",
       "            <p>Total: 120</p></div>\n",
       "            "
      ],
      "text/plain": [
       "*student_id    *dept    *course    *term_year    *term    *section    exam_date      exam_score    \n",
       "+------------+ +------+ +--------+ +-----------+ +------+ +---------+ +------------+ +------------+\n",
       "1016           MATH     2280       2018          Fall     a           None           86.000        \n",
       "1067           CS       2100       2018          Fall     a           None           13.000        \n",
       "1084           MATH     1250       2018          Fall     a           2019-04-30     65.000        \n",
       "1201           BIOL     2021       2018          Fall     a           None           22.000        \n",
       "1204           CS       1030       2018          Fall     d           2019-04-30     42.000        \n",
       "1484           PHYS     2040       2018          Fall     a           None           83.000        \n",
       "1515           PHYS     2140       2018          Fall     a           None           13.000        \n",
       "   ...\n",
       " (Total: 120)"
      ]
     },
     "execution_count": 4,
     "metadata": {},
     "output_type": "execute_result"
    }
   ],
   "source": [
    "Exam()"
   ]
  },
  {
   "cell_type": "code",
   "execution_count": 5,
   "metadata": {},
   "outputs": [
    {
     "data": {
      "image/svg+xml": [
       "<svg height=\"327pt\" viewBox=\"0.00 0.00 330.50 327.00\" width=\"330pt\" xmlns=\"http://www.w3.org/2000/svg\" xmlns:xlink=\"http://www.w3.org/1999/xlink\">\n",
       "<g class=\"graph\" id=\"graph0\" transform=\"scale(1 1) rotate(0) translate(4 323)\">\n",
       "<title>%3</title>\n",
       "<polygon fill=\"#ffffff\" points=\"-4,4 -4,-323 326.4995,-323 326.4995,4 -4,4\" stroke=\"transparent\"/>\n",
       "<!-- Exam -->\n",
       "<g class=\"node\" id=\"node1\">\n",
       "<title>Exam</title>\n",
       "<g id=\"a_node1\"><a xlink:title=\"→ Enroll\r",
       "------------------------------\r",
       "exam_date=null       \r",
       "exam_score           \r",
       "\">\n",
       "<polygon fill=\"#00ff00\" fill-opacity=\"0.188235\" points=\"96.9995,-35 49.9995,-35 49.9995,0 96.9995,0 96.9995,-35\" stroke=\"#00ff00\" stroke-opacity=\"0.188235\"/>\n",
       "<text fill=\"#006400\" font-family=\"arial\" font-size=\"12.00\" text-anchor=\"middle\" x=\"73.4995\" y=\"-14.4\">Exam</text>\n",
       "</a>\n",
       "</g>\n",
       "</g>\n",
       "<!-- Section -->\n",
       "<g class=\"node\" id=\"node2\">\n",
       "<title>Section</title>\n",
       "<g id=\"a_node2\"><a xlink:title=\"→ Course\r",
       "→ Term\r",
       "section              \r",
       "------------------------------\r",
       "auditorium           \r",
       "\">\n",
       "<polygon fill=\"#00ff00\" fill-opacity=\"0.188235\" points=\"180.9995,-177 123.9995,-177 123.9995,-142 180.9995,-142 180.9995,-177\" stroke=\"#00ff00\" stroke-opacity=\"0.188235\"/>\n",
       "<text fill=\"#006400\" font-family=\"arial\" font-size=\"12.00\" text-anchor=\"start\" text-decoration=\"underline\" x=\"131.9995\" y=\"-157.4\">Section</text>\n",
       "</a>\n",
       "</g>\n",
       "</g>\n",
       "<!-- Enroll -->\n",
       "<g class=\"node\" id=\"node6\">\n",
       "<title>Enroll</title>\n",
       "<g id=\"a_node6\"><a xlink:title=\"→ Student\r",
       "→ Section\r",
       "\">\n",
       "<polygon fill=\"#00ff00\" fill-opacity=\"0.188235\" points=\"97.4995,-106 49.4995,-106 49.4995,-71 97.4995,-71 97.4995,-106\" stroke=\"#00ff00\" stroke-opacity=\"0.188235\"/>\n",
       "<text fill=\"#006400\" font-family=\"arial\" font-size=\"12.00\" text-anchor=\"middle\" x=\"73.4995\" y=\"-85.4\">Enroll</text>\n",
       "</a>\n",
       "</g>\n",
       "</g>\n",
       "<!-- Section&#45;&gt;Enroll -->\n",
       "<g class=\"edge\" id=\"edge1\">\n",
       "<title>Section-&gt;Enroll</title>\n",
       "<path d=\"M132.9714,-141.9494C120.8174,-131.0262 105.24,-117.0262 93.0767,-106.0947\" fill=\"none\" stroke=\"#000000\" stroke-opacity=\"0.250980\" stroke-width=\".75\"/>\n",
       "</g>\n",
       "<!-- Grade -->\n",
       "<g class=\"node\" id=\"node3\">\n",
       "<title>Grade</title>\n",
       "<g id=\"a_node3\"><a xlink:title=\"→ Enroll\r",
       "------------------------------\r",
       "→ LetterGrade\r",
       "\">\n",
       "<polygon fill=\"#00ff00\" fill-opacity=\"0.188235\" points=\"172.4995,-35 122.4995,-35 122.4995,0 172.4995,0 172.4995,-35\" stroke=\"#00ff00\" stroke-opacity=\"0.188235\"/>\n",
       "<text fill=\"#006400\" font-family=\"arial\" font-size=\"12.00\" text-anchor=\"middle\" x=\"147.4995\" y=\"-14.4\">Grade</text>\n",
       "</a>\n",
       "</g>\n",
       "</g>\n",
       "<!-- Major -->\n",
       "<g class=\"node\" id=\"node4\">\n",
       "<title>Major</title>\n",
       "<g id=\"a_node4\"><a xlink:title=\"→ Student\r",
       "→ Department\r",
       "------------------------------\r",
       "current=null         \r",
       "selection_date       \r",
       "UNIQUE INDEX (current)\r",
       "\">\n",
       "<polygon fill=\"#00ff00\" fill-opacity=\"0.188235\" points=\"247.9995,-248 200.9995,-248 200.9995,-213 247.9995,-213 247.9995,-248\" stroke=\"#00ff00\" stroke-opacity=\"0.188235\"/>\n",
       "<text fill=\"#006400\" font-family=\"arial\" font-size=\"12.00\" text-anchor=\"middle\" x=\"224.4995\" y=\"-227.4\">Major</text>\n",
       "</a>\n",
       "</g>\n",
       "</g>\n",
       "<!-- StudentMajor -->\n",
       "<g class=\"node\" id=\"node5\">\n",
       "<title>StudentMajor</title>\n",
       "<g id=\"a_node5\"><a xlink:title=\"→ Student\r",
       "------------------------------\r",
       "→ Department\r",
       "declare_date         \r",
       "\">\n",
       "<polygon fill=\"#00ff00\" fill-opacity=\"0.188235\" points=\"182.4995,-248 94.4995,-248 94.4995,-213 182.4995,-213 182.4995,-248\" stroke=\"#00ff00\" stroke-opacity=\"0.188235\"/>\n",
       "<text fill=\"#006400\" font-family=\"arial\" font-size=\"12.00\" text-anchor=\"middle\" x=\"138.4995\" y=\"-227.4\">StudentMajor</text>\n",
       "</a>\n",
       "</g>\n",
       "</g>\n",
       "<!-- Enroll&#45;&gt;Exam -->\n",
       "<g class=\"edge\" id=\"edge2\">\n",
       "<title>Enroll-&gt;Exam</title>\n",
       "<path d=\"M73.4995,-70.9494C73.4995,-60.1083 73.4995,-46.2366 73.4995,-35.3418\" fill=\"none\" stroke=\"#000000\" stroke-opacity=\"0.250980\" stroke-width=\"2\"/>\n",
       "</g>\n",
       "<!-- Enroll&#45;&gt;Grade -->\n",
       "<g class=\"edge\" id=\"edge3\">\n",
       "<title>Enroll-&gt;Grade</title>\n",
       "<path d=\"M91.7916,-70.9494C103.1764,-60.0262 117.7679,-46.0262 129.1613,-35.0947\" fill=\"none\" stroke=\"#000000\" stroke-opacity=\"0.250980\" stroke-width=\"2\"/>\n",
       "</g>\n",
       "<!-- LetterGrade -->\n",
       "<g class=\"node\" id=\"node7\">\n",
       "<title>LetterGrade</title>\n",
       "<g id=\"a_node7\"><a xlink:title=\"grade                \r",
       "------------------------------\r",
       "points               \r",
       "\">\n",
       "<polygon fill=\"#00ff00\" fill-opacity=\"0.188235\" points=\"195.4995,-106 115.4995,-106 115.4995,-71 195.4995,-71 195.4995,-106\" stroke=\"#00ff00\" stroke-opacity=\"0.188235\"/>\n",
       "<text fill=\"#006400\" font-family=\"arial\" font-size=\"12.00\" text-anchor=\"start\" text-decoration=\"underline\" x=\"123.4995\" y=\"-86.4\">LetterGrade</text>\n",
       "</a>\n",
       "</g>\n",
       "</g>\n",
       "<!-- LetterGrade&#45;&gt;Grade -->\n",
       "<g class=\"edge\" id=\"edge4\">\n",
       "<title>LetterGrade-&gt;Grade</title>\n",
       "<path d=\"M153.522,-70.9494C152.3004,-60.1083 150.7374,-46.2366 149.5098,-35.3418\" fill=\"none\" stroke=\"#000000\" stroke-dasharray=\"5,2\" stroke-opacity=\"0.250980\" stroke-width=\".75\"/>\n",
       "</g>\n",
       "<!-- Course -->\n",
       "<g class=\"node\" id=\"node8\">\n",
       "<title>Course</title>\n",
       "<g id=\"a_node8\"><a xlink:title=\"→ Department\r",
       "course               \r",
       "------------------------------\r",
       "course_name          \r",
       "credits              \r",
       "\">\n",
       "<polygon fill=\"#00ff00\" fill-opacity=\"0.188235\" points=\"322.4995,-248 266.4995,-248 266.4995,-213 322.4995,-213 322.4995,-248\" stroke=\"#00ff00\" stroke-opacity=\"0.188235\"/>\n",
       "<text fill=\"#006400\" font-family=\"arial\" font-size=\"12.00\" text-anchor=\"start\" text-decoration=\"underline\" x=\"274.4995\" y=\"-228.4\">Course</text>\n",
       "</a>\n",
       "</g>\n",
       "</g>\n",
       "<!-- Course&#45;&gt;Section -->\n",
       "<g class=\"edge\" id=\"edge5\">\n",
       "<title>Course-&gt;Section</title>\n",
       "<path d=\"M266.4449,-216.4727C241.8736,-204.1871 206.3105,-186.4055 181.4708,-173.9856\" fill=\"none\" stroke=\"#000000\" stroke-opacity=\"0.250980\" stroke-width=\".75\"/>\n",
       "</g>\n",
       "<!-- CurrentTerm -->\n",
       "<g class=\"node\" id=\"node9\">\n",
       "<title>CurrentTerm</title>\n",
       "<g id=\"a_node9\"><a xlink:title=\"omega                \r",
       "------------------------------\r",
       "→ Term\r",
       "\">\n",
       "<polygon fill=\"#00ff00\" fill-opacity=\"0.188235\" points=\"105.9995,-177 22.9995,-177 22.9995,-142 105.9995,-142 105.9995,-177\" stroke=\"#00ff00\" stroke-opacity=\"0.188235\"/>\n",
       "<text fill=\"#006400\" font-family=\"arial\" font-size=\"12.00\" text-anchor=\"middle\" x=\"64.4995\" y=\"-156.4\">CurrentTerm</text>\n",
       "</a>\n",
       "</g>\n",
       "</g>\n",
       "<!-- Department -->\n",
       "<g class=\"node\" id=\"node10\">\n",
       "<title>Department</title>\n",
       "<g id=\"a_node10\"><a xlink:title=\"dept                 \r",
       "------------------------------\r",
       "dept_name            \r",
       "dept_address         \r",
       "dept_phone           \r",
       "\">\n",
       "<polygon fill=\"#00ff00\" fill-opacity=\"0.188235\" points=\"263.9995,-319 184.9995,-319 184.9995,-284 263.9995,-284 263.9995,-319\" stroke=\"#00ff00\" stroke-opacity=\"0.188235\"/>\n",
       "<text fill=\"#006400\" font-family=\"arial\" font-size=\"12.00\" text-anchor=\"start\" text-decoration=\"underline\" x=\"192.9995\" y=\"-299.4\">Department</text>\n",
       "</a>\n",
       "</g>\n",
       "</g>\n",
       "<!-- Department&#45;&gt;Major -->\n",
       "<g class=\"edge\" id=\"edge6\">\n",
       "<title>Department-&gt;Major</title>\n",
       "<path d=\"M224.4995,-283.9494C224.4995,-273.1083 224.4995,-259.2366 224.4995,-248.3418\" fill=\"none\" stroke=\"#000000\" stroke-opacity=\"0.250980\" stroke-width=\".75\"/>\n",
       "</g>\n",
       "<!-- Department&#45;&gt;StudentMajor -->\n",
       "<g class=\"edge\" id=\"edge7\">\n",
       "<title>Department-&gt;StudentMajor</title>\n",
       "<path d=\"M203.2411,-283.9494C190.0101,-273.0262 173.0524,-259.0262 159.8114,-248.0947\" fill=\"none\" stroke=\"#000000\" stroke-dasharray=\"5,2\" stroke-opacity=\"0.250980\" stroke-width=\".75\"/>\n",
       "</g>\n",
       "<!-- Department&#45;&gt;Course -->\n",
       "<g class=\"edge\" id=\"edge8\">\n",
       "<title>Department-&gt;Course</title>\n",
       "<path d=\"M241.8029,-283.9494C252.4913,-273.1083 266.1677,-259.2366 276.909,-248.3418\" fill=\"none\" stroke=\"#000000\" stroke-opacity=\"0.250980\" stroke-width=\".75\"/>\n",
       "</g>\n",
       "<!-- Student -->\n",
       "<g class=\"node\" id=\"node11\">\n",
       "<title>Student</title>\n",
       "<g id=\"a_node11\"><a xlink:title=\"student_id           \r",
       "------------------------------\r",
       "first_name           \r",
       "last_name            \r",
       "sex                  \r",
       "date_of_birth        \r",
       "home_address         \r",
       "home_city            \r",
       "home_state           \r",
       "home_zip             \r",
       "home_phone           \r",
       "\">\n",
       "<polygon fill=\"#00ff00\" fill-opacity=\"0.188235\" points=\"166.4995,-319 108.4995,-319 108.4995,-284 166.4995,-284 166.4995,-319\" stroke=\"#00ff00\" stroke-opacity=\"0.188235\"/>\n",
       "<text fill=\"#006400\" font-family=\"arial\" font-size=\"12.00\" text-anchor=\"start\" text-decoration=\"underline\" x=\"116.4995\" y=\"-299.4\">Student</text>\n",
       "</a>\n",
       "</g>\n",
       "</g>\n",
       "<!-- Student&#45;&gt;Major -->\n",
       "<g class=\"edge\" id=\"edge9\">\n",
       "<title>Student-&gt;Major</title>\n",
       "<path d=\"M159.0051,-283.9494C172.3899,-273.0262 189.5448,-259.0262 202.9398,-248.0947\" fill=\"none\" stroke=\"#000000\" stroke-opacity=\"0.250980\" stroke-width=\".75\"/>\n",
       "</g>\n",
       "<!-- Student&#45;&gt;StudentMajor -->\n",
       "<g class=\"edge\" id=\"edge10\">\n",
       "<title>Student-&gt;StudentMajor</title>\n",
       "<path d=\"M137.7467,-283.9494C137.8994,-273.1083 138.0948,-259.2366 138.2482,-248.3418\" fill=\"none\" stroke=\"#000000\" stroke-opacity=\"0.250980\" stroke-width=\"2\"/>\n",
       "</g>\n",
       "<!-- Student&#45;&gt;Enroll -->\n",
       "<g class=\"edge\" id=\"edge11\">\n",
       "<title>Student-&gt;Enroll</title>\n",
       "<path d=\"M108.4321,-296.0112C81.9013,-289.3913 43.8218,-275.5261 23.4995,-248 -4.6067,-209.9309 -5.8521,-185.1825 13.4995,-142 20.8621,-125.5707 36.0398,-112.1142 49.287,-102.8063\" fill=\"none\" stroke=\"#000000\" stroke-opacity=\"0.250980\" stroke-width=\".75\"/>\n",
       "</g>\n",
       "<!-- Term -->\n",
       "<g class=\"node\" id=\"node12\">\n",
       "<title>Term</title>\n",
       "<g id=\"a_node12\"><a xlink:title=\"term_year            \r",
       "term                 \r",
       "\">\n",
       "<polygon fill=\"#00ff00\" fill-opacity=\"0.188235\" points=\"75.9995,-248 32.9995,-248 32.9995,-213 75.9995,-213 75.9995,-248\" stroke=\"#00ff00\" stroke-opacity=\"0.188235\"/>\n",
       "<text fill=\"#006400\" font-family=\"arial\" font-size=\"12.00\" text-anchor=\"start\" text-decoration=\"underline\" x=\"40.9995\" y=\"-228.4\">Term</text>\n",
       "</a>\n",
       "</g>\n",
       "</g>\n",
       "<!-- Term&#45;&gt;Section -->\n",
       "<g class=\"edge\" id=\"edge12\">\n",
       "<title>Term-&gt;Section</title>\n",
       "<path d=\"M76.2489,-214.7428C91.5869,-203.6305 112.1482,-188.7341 128.0543,-177.2103\" fill=\"none\" stroke=\"#000000\" stroke-opacity=\"0.250980\" stroke-width=\".75\"/>\n",
       "</g>\n",
       "<!-- Term&#45;&gt;CurrentTerm -->\n",
       "<g class=\"edge\" id=\"edge13\">\n",
       "<title>Term-&gt;CurrentTerm</title>\n",
       "<path d=\"M56.9714,-212.9494C58.4983,-202.1083 60.4521,-188.2366 61.9866,-177.3418\" fill=\"none\" stroke=\"#000000\" stroke-dasharray=\"5,2\" stroke-opacity=\"0.250980\" stroke-width=\".75\"/>\n",
       "</g>\n",
       "</g>\n",
       "</svg>"
      ],
      "text/plain": [
       "<datajoint.diagram.Diagram at 0x7f5dcf11b7f0>"
      ]
     },
     "execution_count": 5,
     "metadata": {},
     "output_type": "execute_result"
    }
   ],
   "source": [
    "dj.Diagram(schema)"
   ]
  },
  {
   "cell_type": "markdown",
   "metadata": {},
   "source": [
    "Let's change the definition to record the exam date too"
   ]
  },
  {
   "cell_type": "code",
   "execution_count": 6,
   "metadata": {},
   "outputs": [],
   "source": [
    "@schema\n",
    "class Exam(dj.Manual):\n",
    "    definition = \"\"\"\n",
    "    -> Enroll\n",
    "    ---\n",
    "    exam_date : date\n",
    "    score  : decimal(5,2)   # percent of total \n",
    "    \"\"\""
   ]
  },
  {
   "cell_type": "markdown",
   "metadata": {},
   "source": [
    "Even though we updated the `definition` in the class, the change is not reflected on the server:"
   ]
  },
  {
   "cell_type": "code",
   "execution_count": null,
   "metadata": {},
   "outputs": [],
   "source": [
    "Exam()"
   ]
  },
  {
   "cell_type": "markdown",
   "metadata": {},
   "source": [
    "You can examine the definition on the server using the `describe` method:"
   ]
  },
  {
   "cell_type": "code",
   "execution_count": null,
   "metadata": {},
   "outputs": [],
   "source": [
    "Exam.describe();"
   ]
  },
  {
   "cell_type": "code",
   "execution_count": null,
   "metadata": {},
   "outputs": [],
   "source": [
    "Exam.heading"
   ]
  },
  {
   "cell_type": "markdown",
   "metadata": {},
   "source": [
    "One solution is to simply drop the table and declare it again, which is fine when it contains no valuable data. But let's consider the case when the table is already populated and we wish to keep the existing data.  \n",
    "\n",
    "First, let's insert some exam entries:"
   ]
  },
  {
   "cell_type": "code",
   "execution_count": null,
   "metadata": {},
   "outputs": [],
   "source": [
    "# pick 100 random enrollments from the current term\n",
    "import random\n",
    "keys = random.sample(((Enroll - Exam) & CurrentTerm).fetch('KEY'), 100)\n",
    "# assign random scores\n",
    "for key in keys:\n",
    "    Exam.insert1(dict(key, score=random.randint(0,10000)/100))"
   ]
  },
  {
   "cell_type": "markdown",
   "metadata": {},
   "source": [
    "Now we can alter the `Exam` table with the new definition:"
   ]
  },
  {
   "cell_type": "code",
   "execution_count": null,
   "metadata": {},
   "outputs": [],
   "source": [
    "Exam()"
   ]
  },
  {
   "cell_type": "markdown",
   "metadata": {},
   "source": [
    "We can now use the `alter` method to apply the new definition:"
   ]
  },
  {
   "cell_type": "code",
   "execution_count": null,
   "metadata": {},
   "outputs": [],
   "source": [
    "dj.__version__"
   ]
  },
  {
   "cell_type": "code",
   "execution_count": null,
   "metadata": {
    "scrolled": false
   },
   "outputs": [],
   "source": [
    "Exam.alter()"
   ]
  },
  {
   "cell_type": "markdown",
   "metadata": {},
   "source": [
    "Oh! New attributes cannot be added to tables with existing data without providing a default value. Let's update the definition to allow `exam_date` to be empty (default to `null`) and alter the table again."
   ]
  },
  {
   "cell_type": "code",
   "execution_count": null,
   "metadata": {},
   "outputs": [],
   "source": [
    "@schema\n",
    "class Exam(dj.Manual):\n",
    "    definition = \"\"\"\n",
    "    -> Enroll \n",
    "    ---\n",
    "    exam_date = null: date  \n",
    "    score  : decimal(5,2)   # percent of total \n",
    "    \"\"\""
   ]
  },
  {
   "cell_type": "code",
   "execution_count": null,
   "metadata": {},
   "outputs": [],
   "source": [
    "Exam.alter()"
   ]
  },
  {
   "cell_type": "code",
   "execution_count": null,
   "metadata": {},
   "outputs": [],
   "source": [
    "Exam()"
   ]
  },
  {
   "cell_type": "markdown",
   "metadata": {},
   "source": [
    "Now let's add some grades for today's exam:"
   ]
  },
  {
   "cell_type": "code",
   "execution_count": null,
   "metadata": {},
   "outputs": [],
   "source": [
    "from datetime import datetime\n",
    "today = datetime.now().date().isoformat()"
   ]
  },
  {
   "cell_type": "code",
   "execution_count": null,
   "metadata": {},
   "outputs": [],
   "source": [
    "today"
   ]
  },
  {
   "cell_type": "code",
   "execution_count": null,
   "metadata": {},
   "outputs": [],
   "source": [
    "# pick 20 random enrollments from the current term\n",
    "keys = random.sample(((Enroll - Exam) & CurrentTerm).fetch('KEY'), 20)\n",
    "# assign random scores\n",
    "for key in keys:\n",
    "    Exam.insert1(dict(key, score=random.randint(0,10000)/100, exam_date=today))"
   ]
  },
  {
   "cell_type": "code",
   "execution_count": null,
   "metadata": {},
   "outputs": [],
   "source": [
    "Exam()"
   ]
  },
  {
   "cell_type": "markdown",
   "metadata": {},
   "source": [
    "Now let's say we want to rename `score` into `exam_score`:"
   ]
  },
  {
   "cell_type": "code",
   "execution_count": null,
   "metadata": {},
   "outputs": [],
   "source": [
    "@schema\n",
    "class Exam(dj.Manual):\n",
    "    definition = \"\"\"\n",
    "    -> Enroll \n",
    "    ---\n",
    "    exam_date = null: date  \n",
    "    exam_score  : decimal(5,2)   # percent of total \n",
    "    \"\"\""
   ]
  },
  {
   "cell_type": "code",
   "execution_count": null,
   "metadata": {},
   "outputs": [],
   "source": [
    "# Say NO!\n",
    "Exam.alter()"
   ]
  },
  {
   "cell_type": "markdown",
   "metadata": {},
   "source": [
    "Note that rather than renaming, `alter` attempted to drop the old attribute and add the new one. \n",
    "\n",
    "To rename, we must indicate the old attribute name in curly brackets as the first thing in the attribute comment:"
   ]
  },
  {
   "cell_type": "code",
   "execution_count": null,
   "metadata": {},
   "outputs": [],
   "source": [
    "@schema\n",
    "class Exam(dj.Manual):\n",
    "    definition = \"\"\"\n",
    "    -> Enroll \n",
    "    ---\n",
    "    exam_score  : decimal(5,2)   # percent of total \n",
    "    exam_date = null: date  \n",
    "    \"\"\""
   ]
  },
  {
   "cell_type": "code",
   "execution_count": null,
   "metadata": {},
   "outputs": [],
   "source": [
    "Exam.alter()"
   ]
  },
  {
   "cell_type": "code",
   "execution_count": null,
   "metadata": {},
   "outputs": [],
   "source": [
    "Exam()"
   ]
  },
  {
   "cell_type": "markdown",
   "metadata": {},
   "source": [
    "The old attribute name is preserved in the comment just in case, but you can remove it with another `alter` command:"
   ]
  },
  {
   "cell_type": "code",
   "execution_count": null,
   "metadata": {},
   "outputs": [],
   "source": [
    "Exam.describe();"
   ]
  },
  {
   "cell_type": "code",
   "execution_count": null,
   "metadata": {},
   "outputs": [],
   "source": [
    "@schema\n",
    "class Exam(dj.Manual):\n",
    "    definition = \"\"\"\n",
    "    -> Enroll \n",
    "    ---\n",
    "    exam_date = null: date  \n",
    "    exam_score  : decimal(6,3)   # percent of total \n",
    "    photocopy: longb  \n",
    "    \"\"\""
   ]
  },
  {
   "cell_type": "code",
   "execution_count": null,
   "metadata": {},
   "outputs": [],
   "source": [
    "Exam.alter()"
   ]
  },
  {
   "cell_type": "code",
   "execution_count": null,
   "metadata": {},
   "outputs": [],
   "source": [
    "Exam()"
   ]
  },
  {
   "cell_type": "code",
   "execution_count": null,
   "metadata": {},
   "outputs": [],
   "source": [
    "Exam.describe();"
   ]
  },
  {
   "cell_type": "markdown",
   "metadata": {},
   "source": [
    "We can change the data type of an existing attribute as long as the existing data can fit. However, some precision may be lost.\n",
    "\n",
    "For example, let's attempt to change the `exam_score` attribute into a `tinyint unsigned`. This will result in the rounding of the scores:"
   ]
  },
  {
   "cell_type": "code",
   "execution_count": null,
   "metadata": {},
   "outputs": [],
   "source": [
    "@schema\n",
    "class Exam(dj.Manual):\n",
    "    definition = \"\"\"\n",
    "    -> Enroll \n",
    "    ---\n",
    "    exam_date = null: date  \n",
    "    exam_score  : tinyint unsigned  # percent of total \n",
    "    \"\"\""
   ]
  },
  {
   "cell_type": "code",
   "execution_count": null,
   "metadata": {},
   "outputs": [],
   "source": [
    "Exam.alter()"
   ]
  },
  {
   "cell_type": "code",
   "execution_count": null,
   "metadata": {},
   "outputs": [],
   "source": [
    "Exam()"
   ]
  },
  {
   "cell_type": "markdown",
   "metadata": {},
   "source": [
    "But if we attmept to change it to `decimal(3,2)`, for example, we may get an error because some values are too large to fit in this data type."
   ]
  },
  {
   "cell_type": "code",
   "execution_count": null,
   "metadata": {},
   "outputs": [],
   "source": [
    "@schema\n",
    "class Exam(dj.Manual):\n",
    "    definition = \"\"\"\n",
    "    -> Enroll \n",
    "    ---\n",
    "    exam_date = null: date  \n",
    "    exam_score  : decimal(3,2)   # percent of total \n",
    "    \"\"\""
   ]
  },
  {
   "cell_type": "code",
   "execution_count": null,
   "metadata": {},
   "outputs": [],
   "source": [
    "Exam.alter()"
   ]
  },
  {
   "cell_type": "code",
   "execution_count": null,
   "metadata": {},
   "outputs": [],
   "source": [
    "@schema\n",
    "class Exam(dj.Manual):\n",
    "    definition = \"\"\"\n",
    "    -> Enroll \n",
    "    ---\n",
    "    exam_date = null: date  \n",
    "    exam_score  : decimal(5,2)   # percent of total \n",
    "    \"\"\""
   ]
  },
  {
   "cell_type": "code",
   "execution_count": null,
   "metadata": {},
   "outputs": [],
   "source": [
    "Exam.alter()"
   ]
  },
  {
   "cell_type": "code",
   "execution_count": null,
   "metadata": {},
   "outputs": [],
   "source": [
    "# restored to higher precision but fractional part has been lost:\n",
    "Exam()"
   ]
  },
  {
   "cell_type": "markdown",
   "metadata": {},
   "source": [
    "Finally, let's add a table comment and reorder the attributes:"
   ]
  },
  {
   "cell_type": "code",
   "execution_count": null,
   "metadata": {},
   "outputs": [],
   "source": [
    "@schema\n",
    "class Exam(dj.Manual):\n",
    "    definition = \"\"\"\n",
    "    # Exam taken by a student enrolled in a course section and the grade\n",
    "    -> Enroll \n",
    "    ---\n",
    "    exam_score  : decimal(5,2)   # percent of total \n",
    "    \"\"\""
   ]
  },
  {
   "cell_type": "code",
   "execution_count": null,
   "metadata": {},
   "outputs": [],
   "source": [
    "Exam.alter()"
   ]
  },
  {
   "cell_type": "code",
   "execution_count": null,
   "metadata": {},
   "outputs": [],
   "source": [
    "Exam()"
   ]
  },
  {
   "cell_type": "code",
   "execution_count": null,
   "metadata": {},
   "outputs": [],
   "source": [
    "#clean up\n",
    "Exam.drop()"
   ]
  },
  {
   "cell_type": "code",
   "execution_count": null,
   "metadata": {},
   "outputs": [],
   "source": []
  }
 ],
 "metadata": {
  "kernelspec": {
   "display_name": "Python 3",
   "language": "python",
   "name": "python3"
  },
  "language_info": {
   "codemirror_mode": {
    "name": "ipython",
    "version": 3
   },
   "file_extension": ".py",
   "mimetype": "text/x-python",
   "name": "python",
   "nbconvert_exporter": "python",
   "pygments_lexer": "ipython3",
   "version": "3.6.7"
  }
 },
 "nbformat": 4,
 "nbformat_minor": 2
}
