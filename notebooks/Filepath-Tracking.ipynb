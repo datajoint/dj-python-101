{
 "cells": [
  {
   "cell_type": "markdown",
   "metadata": {},
   "source": [
    "# Filepath Tracking\n",
    "\n",
    "Filepath tracking allows managing a repository of files using DataJoint. In this scenario, the database is used to track the files using their relative paths as identifiers. DataJoint ensures data integrity and allows working with these files through the DataJoint API. The file repository can be a filesystem or an object storage system such as AWS S3.\n",
    "\n",
    "Filepath tracking is an experimental feature in version DataJoint 0.12. It is disabled by default and is used by a few groups to validate it more thoroughly before making the feature standard. The feature can be enabled by setting the environment variable `DJ_SUPPORT_FILEPATH_MANAGEMENT` to `\"TRUE\"`"
   ]
  },
  {
   "cell_type": "code",
   "execution_count": 1,
   "metadata": {},
   "outputs": [
    {
     "name": "stdout",
     "output_type": "stream",
     "text": [
      "dimitri 2019-11-03 23:49:44.066562\n"
     ]
    }
   ],
   "source": [
    "# Author and date\n",
    "import datetime, getpass\n",
    "print(getpass.getuser(), datetime.datetime.today())"
   ]
  },
  {
   "cell_type": "code",
   "execution_count": 2,
   "metadata": {},
   "outputs": [],
   "source": [
    "# enable the use of filepath tracking for this session. \n",
    "# Filepath tracking is disabled by default since the feature is considered experimental.\n",
    "import os\n",
    "os.environ['DJ_SUPPORT_FILEPATH_MANAGEMENT'] = \"TRUE\"  "
   ]
  },
  {
   "cell_type": "code",
   "execution_count": 3,
   "metadata": {},
   "outputs": [
    {
     "name": "stdout",
     "output_type": "stream",
     "text": [
      "Connecting dimitri@localhost:3306\n"
     ]
    }
   ],
   "source": [
    "import datajoint as dj\n",
    "schema = dj.schema('test_filepath')"
   ]
  },
  {
   "cell_type": "markdown",
   "metadata": {},
   "source": [
    "Unlike file attachments, the use of an external store is obligatory in filepath tracking. The files cannot be stored directly in the relational database. \n",
    "\n",
    "Let's define an external store called `remote` pointing to the Minio server on the localhost. Here `stage` is the local filepath used for downloading from and uploading to the managed repository located at `location` within the store. The relatives paths are matched between the local `stage` and the store `location`."
   ]
  },
  {
   "cell_type": "code",
   "execution_count": 4,
   "metadata": {},
   "outputs": [],
   "source": [
    "## Storage configuration\n",
    "\n",
    "# set up stores\n",
    "dj.config['stores'] = {\n",
    "    'remote': dict(   # store in minio\n",
    "        stage=os.path.abspath('./stage'),\n",
    "        protocol='s3',\n",
    "        endpoint='localhost:9000',\n",
    "        access_key='datajoint',\n",
    "        secret_key='datajoint',\n",
    "        bucket='datajoint-demo',        \n",
    "        location='')}"
   ]
  },
  {
   "cell_type": "markdown",
   "metadata": {},
   "source": [
    "## Download some files into ./stage\n",
    "Let's download some arbitrary files off the web to use as examples. We will use these logo images.\n",
    "Let's store them in the lookup table `Organization`."
   ]
  },
  {
   "cell_type": "code",
   "execution_count": 5,
   "metadata": {},
   "outputs": [],
   "source": [
    "# Step 1: Find a bunch of images on the web. All files must be .png\n",
    "logos = dict(\n",
    "    ucsd='https://upload.wikimedia.org/wikipedia/commons/f/f6/UCSD_logo.png',\n",
    "    datajoint='https://datajoint.io/static/images/DJiotitle.png',\n",
    "    utah='https://umc.utah.edu/wp-content/uploads/sites/15/2015/01/Ulogo_400p.png',\n",
    "    bcm='https://upload.wikimedia.org/wikipedia/commons/5/5d/Baylor_College_of_Medicine_Logo.png',\n",
    "    pydata='https://pydata.org/wp-content/uploads/2018/10/pydata-logo.png',\n",
    "    python='https://www.python.org/static/community_logos/python-logo-master-v3-TM.png',\n",
    "    pni='https://vathes.com/2018/05/24/Princeton-Neuroscience-Institute-Partners-with-Vathes-to-Support-the-Adoption-of-DataJoint/PNI%20logo.png')"
   ]
  },
  {
   "cell_type": "markdown",
   "metadata": {},
   "source": [
    "Let's download these files into the stage folder at the relative path `organization/logos`"
   ]
  },
  {
   "cell_type": "code",
   "execution_count": 6,
   "metadata": {},
   "outputs": [
    {
     "name": "stdout",
     "output_type": "stream",
     "text": [
      "Saved /home/dimitri/dev/dj-python-101/ch1/stage/organizations/logos/ucsd.png\n",
      "Saved /home/dimitri/dev/dj-python-101/ch1/stage/organizations/logos/datajoint.png\n",
      "Saved /home/dimitri/dev/dj-python-101/ch1/stage/organizations/logos/utah.png\n",
      "Saved /home/dimitri/dev/dj-python-101/ch1/stage/organizations/logos/bcm.png\n",
      "Saved /home/dimitri/dev/dj-python-101/ch1/stage/organizations/logos/pydata.png\n",
      "Saved /home/dimitri/dev/dj-python-101/ch1/stage/organizations/logos/python.png\n",
      "Saved /home/dimitri/dev/dj-python-101/ch1/stage/organizations/logos/pni.png\n"
     ]
    }
   ],
   "source": [
    "# Step 2 download the files into stage path\n",
    "import requests\n",
    "\n",
    "local_path = os.path.join(dj.config['stores']['remote']['stage'], 'organizations', 'logos')\n",
    "\n",
    "os.makedirs(local_path, exist_ok=True)\n",
    "\n",
    "for name, url in logos.items():\n",
    "    local_file = os.path.join(local_path, name + '.png')\n",
    "    with open(local_file, 'wb') as f:\n",
    "        f.write(requests.get(url).content)\n",
    "    print('Saved', local_file)"
   ]
  },
  {
   "cell_type": "code",
   "execution_count": 7,
   "metadata": {},
   "outputs": [
    {
     "data": {
      "text/plain": [
       "<matplotlib.image.AxesImage at 0x7f670c87aa90>"
      ]
     },
     "execution_count": 7,
     "metadata": {},
     "output_type": "execute_result"
    },
    {
     "data": {
      "image/png": "[encoded data removed]",
      "text/plain": [
       "<Figure size 432x288 with 1 Axes>"
      ]
     },
     "metadata": {
      "needs_background": "light"
     },
     "output_type": "display_data"
    }
   ],
   "source": [
    "# Verify image\n",
    "\n",
    "%matplotlib inline\n",
    "from matplotlib import pyplot as plt\n",
    "import imageio\n",
    "plt.imshow(imageio.imread(local_file))"
   ]
  },
  {
   "cell_type": "markdown",
   "metadata": {},
   "source": [
    "Let's define table `Logo` that to track the files."
   ]
  },
  {
   "cell_type": "code",
   "execution_count": 8,
   "metadata": {},
   "outputs": [],
   "source": [
    "@schema\n",
    "class Logo(dj.Manual):\n",
    "    definition = \"\"\"\n",
    "    # Organization Logos\n",
    "    \n",
    "    org : varchar(16)\n",
    "    ---\n",
    "    logo_path : filepath@remote\n",
    "    \"\"\""
   ]
  },
  {
   "cell_type": "markdown",
   "metadata": {},
   "source": [
    "Now when we insert the filepaths from stage, DataJoint will copy them to the store and will keep tracking information such as checksum, size, and date."
   ]
  },
  {
   "cell_type": "code",
   "execution_count": 9,
   "metadata": {},
   "outputs": [
    {
     "ename": "DuplicateError",
     "evalue": "(\"Duplicate entry 'ucsd' for key 'PRIMARY'\", 'To ignore duplicate entries in insert, set skip_duplicates=True')",
     "output_type": "error",
     "traceback": [
      "\u001b[0;31m---------------------------------------------------------------------------\u001b[0m",
      "\u001b[0;31mDuplicateError\u001b[0m                            Traceback (most recent call last)",
      "\u001b[0;32m<ipython-input-9-3dc308c2eb04>\u001b[0m in \u001b[0;36m<module>\u001b[0;34m\u001b[0m\n\u001b[1;32m      1\u001b[0m \u001b[0;31m# Step 3. Insert the files from stage\u001b[0m\u001b[0;34m\u001b[0m\u001b[0;34m\u001b[0m\u001b[0;34m\u001b[0m\u001b[0m\n\u001b[1;32m      2\u001b[0m \u001b[0;32mfor\u001b[0m \u001b[0mname\u001b[0m \u001b[0;32min\u001b[0m \u001b[0mlogos\u001b[0m\u001b[0;34m:\u001b[0m\u001b[0;34m\u001b[0m\u001b[0;34m\u001b[0m\u001b[0m\n\u001b[0;32m----> 3\u001b[0;31m     \u001b[0mLogo\u001b[0m\u001b[0;34m.\u001b[0m\u001b[0minsert1\u001b[0m\u001b[0;34m(\u001b[0m\u001b[0mdict\u001b[0m\u001b[0;34m(\u001b[0m\u001b[0morg\u001b[0m\u001b[0;34m=\u001b[0m\u001b[0mname\u001b[0m\u001b[0;34m,\u001b[0m \u001b[0mlogo_path\u001b[0m\u001b[0;34m=\u001b[0m\u001b[0mos\u001b[0m\u001b[0;34m.\u001b[0m\u001b[0mpath\u001b[0m\u001b[0;34m.\u001b[0m\u001b[0mjoin\u001b[0m\u001b[0;34m(\u001b[0m\u001b[0mlocal_path\u001b[0m\u001b[0;34m,\u001b[0m \u001b[0mname\u001b[0m\u001b[0;34m)\u001b[0m\u001b[0;34m)\u001b[0m\u001b[0;34m)\u001b[0m\u001b[0;34m\u001b[0m\u001b[0;34m\u001b[0m\u001b[0m\n\u001b[0m",
      "\u001b[0;32m~/dev/datajoint-python/datajoint/table.py\u001b[0m in \u001b[0;36minsert1\u001b[0;34m(self, row, **kwargs)\u001b[0m\n\u001b[1;32m    178\u001b[0m         \u001b[0mFor\u001b[0m \u001b[0mkwargs\u001b[0m\u001b[0;34m,\u001b[0m \u001b[0msee\u001b[0m \u001b[0minsert\u001b[0m\u001b[0;34m(\u001b[0m\u001b[0;34m)\u001b[0m\u001b[0;34m\u001b[0m\u001b[0;34m\u001b[0m\u001b[0m\n\u001b[1;32m    179\u001b[0m         \"\"\"\n\u001b[0;32m--> 180\u001b[0;31m         \u001b[0mself\u001b[0m\u001b[0;34m.\u001b[0m\u001b[0minsert\u001b[0m\u001b[0;34m(\u001b[0m\u001b[0;34m(\u001b[0m\u001b[0mrow\u001b[0m\u001b[0;34m,\u001b[0m\u001b[0;34m)\u001b[0m\u001b[0;34m,\u001b[0m \u001b[0;34m**\u001b[0m\u001b[0mkwargs\u001b[0m\u001b[0;34m)\u001b[0m\u001b[0;34m\u001b[0m\u001b[0;34m\u001b[0m\u001b[0m\n\u001b[0m\u001b[1;32m    181\u001b[0m \u001b[0;34m\u001b[0m\u001b[0m\n\u001b[1;32m    182\u001b[0m     \u001b[0;32mdef\u001b[0m \u001b[0minsert\u001b[0m\u001b[0;34m(\u001b[0m\u001b[0mself\u001b[0m\u001b[0;34m,\u001b[0m \u001b[0mrows\u001b[0m\u001b[0;34m,\u001b[0m \u001b[0mreplace\u001b[0m\u001b[0;34m=\u001b[0m\u001b[0;32mFalse\u001b[0m\u001b[0;34m,\u001b[0m \u001b[0mskip_duplicates\u001b[0m\u001b[0;34m=\u001b[0m\u001b[0;32mFalse\u001b[0m\u001b[0;34m,\u001b[0m \u001b[0mignore_extra_fields\u001b[0m\u001b[0;34m=\u001b[0m\u001b[0;32mFalse\u001b[0m\u001b[0;34m,\u001b[0m \u001b[0mallow_direct_insert\u001b[0m\u001b[0;34m=\u001b[0m\u001b[0;32mNone\u001b[0m\u001b[0;34m)\u001b[0m\u001b[0;34m:\u001b[0m\u001b[0;34m\u001b[0m\u001b[0;34m\u001b[0m\u001b[0m\n",
      "\u001b[0;32m~/dev/datajoint-python/datajoint/table.py\u001b[0m in \u001b[0;36minsert\u001b[0;34m(self, rows, replace, skip_duplicates, ignore_extra_fields, allow_direct_insert)\u001b[0m\n\u001b[1;32m    349\u001b[0m                 \u001b[0;32mraise\u001b[0m \u001b[0merr\u001b[0m\u001b[0;34m.\u001b[0m\u001b[0msuggest\u001b[0m\u001b[0;34m(\u001b[0m\u001b[0;34m'To ignore extra fields in insert, set ignore_extra_fields=True'\u001b[0m\u001b[0;34m)\u001b[0m \u001b[0;32mfrom\u001b[0m \u001b[0;32mNone\u001b[0m\u001b[0;34m\u001b[0m\u001b[0;34m\u001b[0m\u001b[0m\n\u001b[1;32m    350\u001b[0m             \u001b[0;32mexcept\u001b[0m \u001b[0mDuplicateError\u001b[0m \u001b[0;32mas\u001b[0m \u001b[0merr\u001b[0m\u001b[0;34m:\u001b[0m\u001b[0;34m\u001b[0m\u001b[0;34m\u001b[0m\u001b[0m\n\u001b[0;32m--> 351\u001b[0;31m                 \u001b[0;32mraise\u001b[0m \u001b[0merr\u001b[0m\u001b[0;34m.\u001b[0m\u001b[0msuggest\u001b[0m\u001b[0;34m(\u001b[0m\u001b[0;34m'To ignore duplicate entries in insert, set skip_duplicates=True'\u001b[0m\u001b[0;34m)\u001b[0m \u001b[0;32mfrom\u001b[0m \u001b[0;32mNone\u001b[0m\u001b[0;34m\u001b[0m\u001b[0;34m\u001b[0m\u001b[0m\n\u001b[0m\u001b[1;32m    352\u001b[0m \u001b[0;34m\u001b[0m\u001b[0m\n\u001b[1;32m    353\u001b[0m     \u001b[0;32mdef\u001b[0m \u001b[0mdelete_quick\u001b[0m\u001b[0;34m(\u001b[0m\u001b[0mself\u001b[0m\u001b[0;34m,\u001b[0m \u001b[0mget_count\u001b[0m\u001b[0;34m=\u001b[0m\u001b[0;32mFalse\u001b[0m\u001b[0;34m)\u001b[0m\u001b[0;34m:\u001b[0m\u001b[0;34m\u001b[0m\u001b[0;34m\u001b[0m\u001b[0m\n",
      "\u001b[0;31mDuplicateError\u001b[0m: (\"Duplicate entry 'ucsd' for key 'PRIMARY'\", 'To ignore duplicate entries in insert, set skip_duplicates=True')"
     ]
    }
   ],
   "source": [
    "# Step 3. Insert the files from stage\n",
    "for name in logos:\n",
    "    Logo.insert1(dict(org=name, logo_path=os.path.join(local_path, name)))"
   ]
  },
  {
   "cell_type": "code",
   "execution_count": 10,
   "metadata": {},
   "outputs": [
    {
     "name": "stdout",
     "output_type": "stream",
     "text": [
      "About to delete:\n",
      "`test_filepath`.`logo`: 7 items\n",
      "Proceed? [yes, No]: yes\n",
      "Committed.\n"
     ]
    }
   ],
   "source": [
    "Logo.delete()"
   ]
  },
  {
   "cell_type": "markdown",
   "metadata": {},
   "source": [
    "You may now go to the minio server and verify that the files have been copied at the same relative paths. \n",
    "\n",
    "You may insert the same file multiple times but it will only get uploaded once. \n",
    "\n",
    "If you try to upload a different file with the same path, an error will result."
   ]
  },
  {
   "cell_type": "markdown",
   "metadata": {},
   "source": [
    "### Retrieving tracked filepaths\n",
    "\n",
    "Now when you fetch the paths from the table, the reverse happens. The files are copied from the remote location into the stage folder."
   ]
  },
  {
   "cell_type": "code",
   "execution_count": null,
   "metadata": {},
   "outputs": [],
   "source": [
    "# Step 4. delete the local stage completely\n",
    "import shutil\n",
    "shutil.rmtree(dj.config['stores']['remote']['stage'])"
   ]
  },
  {
   "cell_type": "code",
   "execution_count": null,
   "metadata": {},
   "outputs": [],
   "source": [
    "# fetch the data again\n",
    "\n",
    "paths = Logo().fetch('logo_path')"
   ]
  },
  {
   "cell_type": "code",
   "execution_count": null,
   "metadata": {},
   "outputs": [],
   "source": [
    "paths"
   ]
  },
  {
   "cell_type": "code",
   "execution_count": null,
   "metadata": {},
   "outputs": [],
   "source": [
    "paths[-1]"
   ]
  },
  {
   "cell_type": "code",
   "execution_count": null,
   "metadata": {},
   "outputs": [],
   "source": [
    "plt.imshow(imageio.imread(paths[-1]))"
   ]
  },
  {
   "cell_type": "code",
   "execution_count": null,
   "metadata": {},
   "outputs": [],
   "source": [
    "schema.external['remote'].fetch_external_paths()"
   ]
  },
  {
   "cell_type": "code",
   "execution_count": null,
   "metadata": {},
   "outputs": [],
   "source": [
    "schema.external['remote'].unused()"
   ]
  },
  {
   "cell_type": "markdown",
   "metadata": {},
   "source": [
    "## Remaining issues:\n",
    "\n",
    "* Re-inserting the same filepath twice with different contents throws and error. This is fixed by deleting the unused external table entries.\n",
    "* Users may need the option to fetch only the paths or object handles without downloading the files. Fetch option or config?\n",
    "* Dropping the schema leaves orphaned externals. However, dropping tables works normally.\n",
    "* Insert(query) with externals has not tested."
   ]
  },
  {
   "cell_type": "code",
   "execution_count": null,
   "metadata": {},
   "outputs": [],
   "source": []
  }
 ],
 "metadata": {
  "kernelspec": {
   "display_name": "Python 3",
   "language": "python",
   "name": "python3"
  },
  "language_info": {
   "codemirror_mode": {
    "name": "ipython",
    "version": 3
   },
   "file_extension": ".py",
   "mimetype": "text/x-python",
   "name": "python",
   "nbconvert_exporter": "python",
   "pygments_lexer": "ipython3",
   "version": "3.7.3"
  }
 },
 "nbformat": 4,
 "nbformat_minor": 2
}
