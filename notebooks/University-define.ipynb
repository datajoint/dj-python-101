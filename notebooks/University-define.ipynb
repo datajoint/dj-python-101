{
 "cells": [
  {
   "cell_type": "code",
   "execution_count": 2,
   "metadata": {},
   "outputs": [],
   "source": [
    "import datajoint as dj"
   ]
  },
  {
   "cell_type": "code",
   "execution_count": 3,
   "metadata": {},
   "outputs": [
    {
     "data": {
      "text/plain": [
       "'0.13.dev1'"
      ]
     },
     "execution_count": 3,
     "metadata": {},
     "output_type": "execute_result"
    }
   ],
   "source": [
    "dj.__version__"
   ]
  },
  {
   "cell_type": "code",
   "execution_count": 4,
   "metadata": {
    "slideshow": {
     "slide_type": "subslide"
    }
   },
   "outputs": [],
   "source": [
    "schema = dj.schema()"
   ]
  },
  {
   "cell_type": "code",
   "execution_count": 5,
   "metadata": {},
   "outputs": [],
   "source": [
    "# schema.drop()\n",
    "# schema = dj.schema('university)"
   ]
  },
  {
   "cell_type": "code",
   "execution_count": 6,
   "metadata": {
    "slideshow": {
     "slide_type": "slide"
    }
   },
   "outputs": [],
   "source": [
    "@schema\n",
    "class Student(dj.Manual):\n",
    "    definition = \"\"\"\n",
    "    student_id : int unsigned   # university-wide ID number\n",
    "    ---\n",
    "    first_name      : varchar(40)\n",
    "    last_name       : varchar(40)\n",
    "    sex             : enum('F', 'M', 'U')\n",
    "    date_of_birth   : date\n",
    "    home_address    : varchar(120) # mailing street address\n",
    "    home_city       : varchar(60)  # mailing address\n",
    "    home_state      : char(2)      # US state acronym: e.g. OH\n",
    "    home_zip        : char(10)     # zipcode e.g. 93979-4979\n",
    "    home_phone      : varchar(20)  # e.g. 414.657.6883x0881\n",
    "    \"\"\"\n",
    "    \n",
    "@schema\n",
    "class Department(dj.Manual):\n",
    "    definition = \"\"\"\n",
    "    dept : varchar(6)   # abbreviated department name, e.g. BIOL\n",
    "    ---\n",
    "    dept_name    : varchar(200)  # full department name\n",
    "    dept_address : varchar(200)  # mailing address\n",
    "    dept_phone   : varchar(20)\n",
    "    \"\"\"\n",
    "\n",
    "@schema\n",
    "class StudentMajor(dj.Manual):\n",
    "    definition = \"\"\"\n",
    "    -> Student\n",
    "    ---\n",
    "    -> Department\n",
    "    declare_date :  date  # when student declared her major\n",
    "    \"\"\""
   ]
  },
  {
   "cell_type": "code",
   "execution_count": 7,
   "metadata": {},
   "outputs": [
    {
     "ename": "AttributeError",
     "evalue": "'NoneType' object has no attribute 'dependencies'",
     "output_type": "error",
     "traceback": [
      "\u001b[0;31m---------------------------------------------------------------------------\u001b[0m",
      "\u001b[0;31mAttributeError\u001b[0m                            Traceback (most recent call last)",
      "\u001b[0;32m<ipython-input-7-0e3efa14dd39>\u001b[0m in \u001b[0;36m<module>\u001b[0;34m\u001b[0m\n\u001b[0;32m----> 1\u001b[0;31m \u001b[0mdj\u001b[0m\u001b[0;34m.\u001b[0m\u001b[0mDiagram\u001b[0m\u001b[0;34m(\u001b[0m\u001b[0mschema\u001b[0m\u001b[0;34m)\u001b[0m\u001b[0;34m\u001b[0m\u001b[0;34m\u001b[0m\u001b[0m\n\u001b[0m",
      "\u001b[0;32m~/dev/datajoint-python/datajoint/diagram.py\u001b[0m in \u001b[0;36m__init__\u001b[0;34m(self, source, context)\u001b[0m\n\u001b[1;32m    109\u001b[0m \u001b[0;34m\u001b[0m\u001b[0m\n\u001b[1;32m    110\u001b[0m             \u001b[0;31m# initialize graph from dependencies\u001b[0m\u001b[0;34m\u001b[0m\u001b[0;34m\u001b[0m\u001b[0;34m\u001b[0m\u001b[0m\n\u001b[0;32m--> 111\u001b[0;31m             \u001b[0mconnection\u001b[0m\u001b[0;34m.\u001b[0m\u001b[0mdependencies\u001b[0m\u001b[0;34m.\u001b[0m\u001b[0mload\u001b[0m\u001b[0;34m(\u001b[0m\u001b[0;34m)\u001b[0m\u001b[0;34m\u001b[0m\u001b[0;34m\u001b[0m\u001b[0m\n\u001b[0m\u001b[1;32m    112\u001b[0m             \u001b[0msuper\u001b[0m\u001b[0;34m(\u001b[0m\u001b[0;34m)\u001b[0m\u001b[0;34m.\u001b[0m\u001b[0m__init__\u001b[0m\u001b[0;34m(\u001b[0m\u001b[0mconnection\u001b[0m\u001b[0;34m.\u001b[0m\u001b[0mdependencies\u001b[0m\u001b[0;34m)\u001b[0m\u001b[0;34m\u001b[0m\u001b[0;34m\u001b[0m\u001b[0m\n\u001b[1;32m    113\u001b[0m \u001b[0;34m\u001b[0m\u001b[0m\n",
      "\u001b[0;31mAttributeError\u001b[0m: 'NoneType' object has no attribute 'dependencies'"
     ]
    }
   ],
   "source": [
    "dj.Diagram(schema)"
   ]
  },
  {
   "cell_type": "code",
   "execution_count": 8,
   "metadata": {
    "slideshow": {
     "slide_type": "slide"
    }
   },
   "outputs": [],
   "source": [
    "@schema\n",
    "class Course(dj.Manual):\n",
    "    definition = \"\"\"\n",
    "    -> Department\n",
    "    course  : int unsigned   # course number, e.g. 1010\n",
    "    ---\n",
    "    course_name :  varchar(200)  # e.g. \"Neurobiology of Sensation and Movement.\"\n",
    "    credits     :  decimal(3,1)  # number of credits earned by completing the course\n",
    "    \"\"\"\n",
    "    \n",
    "@schema\n",
    "class Term(dj.Manual):\n",
    "    definition = \"\"\"\n",
    "    term_year : year\n",
    "    term      : enum('Spring', 'Summer', 'Fall')\n",
    "    \"\"\"\n",
    "\n",
    "@schema\n",
    "class Section(dj.Manual):\n",
    "    definition = \"\"\"\n",
    "    -> Course\n",
    "    -> Term\n",
    "    section : char(1)\n",
    "    ---\n",
    "    auditorium   :  varchar(12)\n",
    "    \"\"\"\n",
    "    \n",
    "@schema\n",
    "class CurrentTerm(dj.Manual):\n",
    "    definition = \"\"\"\n",
    "    omega=0 : tinyint\n",
    "    ---\n",
    "    -> Term\n",
    "    \"\"\"\n",
    "\n",
    "@schema\n",
    "class Enroll(dj.Manual):\n",
    "    definition = \"\"\"\n",
    "    -> Student\n",
    "    -> Section\n",
    "    \"\"\"\n",
    "\n",
    "@schema\n",
    "class LetterGrade(dj.Manual):\n",
    "    definition = \"\"\"\n",
    "    grade : char(2)\n",
    "    ---\n",
    "    points : decimal(3,2)\n",
    "    \"\"\"\n",
    "\n",
    "@schema\n",
    "class Grade(dj.Manual):\n",
    "    definition = \"\"\"\n",
    "    -> Enroll\n",
    "    ---\n",
    "    -> LetterGrade\n",
    "    \"\"\""
   ]
  },
  {
   "cell_type": "code",
   "execution_count": 9,
   "metadata": {
    "slideshow": {
     "slide_type": "slide"
    }
   },
   "outputs": [
    {
     "name": "stdout",
     "output_type": "stream",
     "text": [
      "Connecting root@fakeservices.datajoint.io:3306\n"
     ]
    }
   ],
   "source": [
    "schema.activate('university')"
   ]
  },
  {
   "cell_type": "code",
   "execution_count": 10,
   "metadata": {},
   "outputs": [
    {
     "data": {
      "image/svg+xml": [
       "<svg xmlns=\"http://www.w3.org/2000/svg\" xmlns:xlink=\"http://www.w3.org/1999/xlink\" width=\"331pt\" height=\"327pt\" viewBox=\"0.00 0.00 330.50 327.00\">\n",
       "<g id=\"graph0\" class=\"graph\" transform=\"scale(1 1) rotate(0) translate(4 323)\">\n",
       "<polygon fill=\"white\" stroke=\"transparent\" points=\"-4,4 -4,-323 326.5,-323 326.5,4 -4,4\"/>\n",
       "<!-- CurrentTerm -->\n",
       "<g id=\"node1\" class=\"node\">\n",
       "<title>CurrentTerm</title>\n",
       "<g id=\"a_node1\"><a xlink:title=\"omega=0              \r",
       "------------------------------\r",
       "→ Term\r",
       "\">\n",
       "<polygon fill=\"#00ff00\" fill-opacity=\"0.188235\" stroke=\"#00ff00\" stroke-opacity=\"0.188235\" points=\"83,-177 0,-177 0,-142 83,-142 83,-177\"/>\n",
       "<text text-anchor=\"start\" x=\"8\" y=\"-157.4\" font-family=\"arial\" text-decoration=\"underline\" font-size=\"12.00\" fill=\"darkgreen\">CurrentTerm</text>\n",
       "</a>\n",
       "</g>\n",
       "</g>\n",
       "<!-- Section -->\n",
       "<g id=\"node2\" class=\"node\">\n",
       "<title>Section</title>\n",
       "<g id=\"a_node2\"><a xlink:title=\"→ Course\r",
       "→ Term\r",
       "section              \r",
       "------------------------------\r",
       "auditorium           \r",
       "\">\n",
       "<polygon fill=\"#00ff00\" fill-opacity=\"0.188235\" stroke=\"#00ff00\" stroke-opacity=\"0.188235\" points=\"158,-177 101,-177 101,-142 158,-142 158,-177\"/>\n",
       "<text text-anchor=\"start\" x=\"109\" y=\"-157.4\" font-family=\"arial\" text-decoration=\"underline\" font-size=\"12.00\" fill=\"darkgreen\">Section</text>\n",
       "</a>\n",
       "</g>\n",
       "</g>\n",
       "<!-- Enroll -->\n",
       "<g id=\"node6\" class=\"node\">\n",
       "<title>Enroll</title>\n",
       "<g id=\"a_node6\"><a xlink:title=\"→ Student\r",
       "→ Section\r",
       "\">\n",
       "<polygon fill=\"#00ff00\" fill-opacity=\"0.188235\" stroke=\"#00ff00\" stroke-opacity=\"0.188235\" points=\"224.5,-106 176.5,-106 176.5,-71 224.5,-71 224.5,-106\"/>\n",
       "<text text-anchor=\"middle\" x=\"200.5\" y=\"-85.4\" font-family=\"arial\" font-size=\"12.00\" fill=\"darkgreen\">Enroll</text>\n",
       "</a>\n",
       "</g>\n",
       "</g>\n",
       "<!-- Section&#45;&gt;Enroll -->\n",
       "<g id=\"edge1\" class=\"edge\">\n",
       "<title>Section-&gt;Enroll</title>\n",
       "<path fill=\"none\" stroke=\"#000000\" stroke-width=\"0.75\" stroke-opacity=\"0.250980\" d=\"M146.69,-141.8C157.85,-130.95 172.34,-116.87 183.47,-106.05\"/>\n",
       "</g>\n",
       "<!-- Course -->\n",
       "<g id=\"node3\" class=\"node\">\n",
       "<title>Course</title>\n",
       "<g id=\"a_node3\"><a xlink:title=\"→ Department\r",
       "course               \r",
       "------------------------------\r",
       "course_name          \r",
       "credits              \r",
       "\">\n",
       "<polygon fill=\"#00ff00\" fill-opacity=\"0.188235\" stroke=\"#00ff00\" stroke-opacity=\"0.188235\" points=\"152.5,-248 96.5,-248 96.5,-213 152.5,-213 152.5,-248\"/>\n",
       "<text text-anchor=\"start\" x=\"104.5\" y=\"-228.4\" font-family=\"arial\" text-decoration=\"underline\" font-size=\"12.00\" fill=\"darkgreen\">Course</text>\n",
       "</a>\n",
       "</g>\n",
       "</g>\n",
       "<!-- Course&#45;&gt;Section -->\n",
       "<g id=\"edge2\" class=\"edge\">\n",
       "<title>Course-&gt;Section</title>\n",
       "<path fill=\"none\" stroke=\"#000000\" stroke-width=\"0.75\" stroke-opacity=\"0.250980\" d=\"M125.71,-212.8C126.5,-201.95 127.52,-187.87 128.3,-177.05\"/>\n",
       "</g>\n",
       "<!-- StudentMajor -->\n",
       "<g id=\"node4\" class=\"node\">\n",
       "<title>StudentMajor</title>\n",
       "<g id=\"a_node4\"><a xlink:title=\"→ Student\r",
       "------------------------------\r",
       "→ Department\r",
       "declare_date         \r",
       "\">\n",
       "<polygon fill=\"#00ff00\" fill-opacity=\"0.188235\" stroke=\"#00ff00\" stroke-opacity=\"0.188235\" points=\"258.5,-248 170.5,-248 170.5,-213 258.5,-213 258.5,-248\"/>\n",
       "<text text-anchor=\"middle\" x=\"214.5\" y=\"-227.4\" font-family=\"arial\" font-size=\"12.00\" fill=\"darkgreen\">StudentMajor</text>\n",
       "</a>\n",
       "</g>\n",
       "</g>\n",
       "<!-- Department -->\n",
       "<g id=\"node5\" class=\"node\">\n",
       "<title>Department</title>\n",
       "<g id=\"a_node5\"><a xlink:title=\"dept                 \r",
       "------------------------------\r",
       "dept_name            \r",
       "dept_address         \r",
       "dept_phone           \r",
       "\">\n",
       "<polygon fill=\"#00ff00\" fill-opacity=\"0.188235\" stroke=\"#00ff00\" stroke-opacity=\"0.188235\" points=\"202,-319 123,-319 123,-284 202,-284 202,-319\"/>\n",
       "<text text-anchor=\"start\" x=\"131\" y=\"-299.4\" font-family=\"arial\" text-decoration=\"underline\" font-size=\"12.00\" fill=\"darkgreen\">Department</text>\n",
       "</a>\n",
       "</g>\n",
       "</g>\n",
       "<!-- Department&#45;&gt;Course -->\n",
       "<g id=\"edge3\" class=\"edge\">\n",
       "<title>Department-&gt;Course</title>\n",
       "<path fill=\"none\" stroke=\"#000000\" stroke-width=\"0.75\" stroke-opacity=\"0.250980\" d=\"M153.3,-283.8C147.33,-272.95 139.57,-258.87 133.61,-248.05\"/>\n",
       "</g>\n",
       "<!-- Department&#45;&gt;StudentMajor -->\n",
       "<g id=\"edge4\" class=\"edge\">\n",
       "<title>Department-&gt;StudentMajor</title>\n",
       "<path fill=\"none\" stroke=\"#000000\" stroke-width=\"0.75\" stroke-dasharray=\"5,2\" stroke-opacity=\"0.250980\" d=\"M175.09,-283.8C183.26,-272.95 193.88,-258.87 202.03,-248.05\"/>\n",
       "</g>\n",
       "<!-- Grade -->\n",
       "<g id=\"node7\" class=\"node\">\n",
       "<title>Grade</title>\n",
       "<g id=\"a_node7\"><a xlink:title=\"→ Enroll\r",
       "------------------------------\r",
       "→ LetterGrade\r",
       "\">\n",
       "<polygon fill=\"#00ff00\" fill-opacity=\"0.188235\" stroke=\"#00ff00\" stroke-opacity=\"0.188235\" points=\"266.5,-35 216.5,-35 216.5,0 266.5,0 266.5,-35\"/>\n",
       "<text text-anchor=\"middle\" x=\"241.5\" y=\"-14.4\" font-family=\"arial\" font-size=\"12.00\" fill=\"darkgreen\">Grade</text>\n",
       "</a>\n",
       "</g>\n",
       "</g>\n",
       "<!-- Enroll&#45;&gt;Grade -->\n",
       "<g id=\"edge5\" class=\"edge\">\n",
       "<title>Enroll-&gt;Grade</title>\n",
       "<path fill=\"none\" stroke=\"#000000\" stroke-width=\"2\" stroke-opacity=\"0.250980\" d=\"M210.42,-70.8C216.87,-59.95 225.24,-45.87 231.67,-35.05\"/>\n",
       "</g>\n",
       "<!-- Term -->\n",
       "<g id=\"node8\" class=\"node\">\n",
       "<title>Term</title>\n",
       "<g id=\"a_node8\"><a xlink:title=\"term_year            \r",
       "term                 \r",
       "\">\n",
       "<polygon fill=\"#00ff00\" fill-opacity=\"0.188235\" stroke=\"#00ff00\" stroke-opacity=\"0.188235\" points=\"73,-248 30,-248 30,-213 73,-213 73,-248\"/>\n",
       "<text text-anchor=\"start\" x=\"38\" y=\"-228.4\" font-family=\"arial\" text-decoration=\"underline\" font-size=\"12.00\" fill=\"darkgreen\">Term</text>\n",
       "</a>\n",
       "</g>\n",
       "</g>\n",
       "<!-- Term&#45;&gt;CurrentTerm -->\n",
       "<g id=\"edge6\" class=\"edge\">\n",
       "<title>Term-&gt;CurrentTerm</title>\n",
       "<path fill=\"none\" stroke=\"#000000\" stroke-width=\"0.75\" stroke-dasharray=\"5,2\" stroke-opacity=\"0.250980\" d=\"M49.08,-212.8C47.51,-201.95 45.47,-187.87 43.9,-177.05\"/>\n",
       "</g>\n",
       "<!-- Term&#45;&gt;Section -->\n",
       "<g id=\"edge7\" class=\"edge\">\n",
       "<title>Term-&gt;Section</title>\n",
       "<path fill=\"none\" stroke=\"#000000\" stroke-width=\"0.75\" stroke-opacity=\"0.250980\" d=\"M70.38,-212.8C82.65,-201.95 98.56,-187.87 110.79,-177.05\"/>\n",
       "</g>\n",
       "<!-- Student -->\n",
       "<g id=\"node9\" class=\"node\">\n",
       "<title>Student</title>\n",
       "<g id=\"a_node9\"><a xlink:title=\"student_id           \r",
       "------------------------------\r",
       "first_name           \r",
       "last_name            \r",
       "sex                  \r",
       "date_of_birth        \r",
       "home_address         \r",
       "home_city            \r",
       "home_state           \r",
       "home_zip             \r",
       "home_phone           \r",
       "\">\n",
       "<polygon fill=\"#00ff00\" fill-opacity=\"0.188235\" stroke=\"#00ff00\" stroke-opacity=\"0.188235\" points=\"279.5,-319 221.5,-319 221.5,-284 279.5,-284 279.5,-319\"/>\n",
       "<text text-anchor=\"start\" x=\"229.5\" y=\"-299.4\" font-family=\"arial\" text-decoration=\"underline\" font-size=\"12.00\" fill=\"darkgreen\">Student</text>\n",
       "</a>\n",
       "</g>\n",
       "</g>\n",
       "<!-- Student&#45;&gt;StudentMajor -->\n",
       "<g id=\"edge8\" class=\"edge\">\n",
       "<title>Student-&gt;StudentMajor</title>\n",
       "<path fill=\"none\" stroke=\"#000000\" stroke-width=\"2\" stroke-opacity=\"0.250980\" d=\"M241.79,-283.8C236.13,-272.95 228.78,-258.87 223.13,-248.05\"/>\n",
       "</g>\n",
       "<!-- Student&#45;&gt;Enroll -->\n",
       "<g id=\"edge9\" class=\"edge\">\n",
       "<title>Student-&gt;Enroll</title>\n",
       "<path fill=\"none\" stroke=\"#000000\" stroke-width=\"0.75\" stroke-opacity=\"0.250980\" d=\"M258.06,-283.93C265.12,-266.24 273.7,-237.45 267.5,-213 257,-171.62 229.55,-129.11 213.22,-106.34\"/>\n",
       "</g>\n",
       "<!-- LetterGrade -->\n",
       "<g id=\"node10\" class=\"node\">\n",
       "<title>LetterGrade</title>\n",
       "<g id=\"a_node10\"><a xlink:title=\"grade                \r",
       "------------------------------\r",
       "points               \r",
       "\">\n",
       "<polygon fill=\"#00ff00\" fill-opacity=\"0.188235\" stroke=\"#00ff00\" stroke-opacity=\"0.188235\" points=\"322.5,-106 242.5,-106 242.5,-71 322.5,-71 322.5,-106\"/>\n",
       "<text text-anchor=\"start\" x=\"250.5\" y=\"-86.4\" font-family=\"arial\" text-decoration=\"underline\" font-size=\"12.00\" fill=\"darkgreen\">LetterGrade</text>\n",
       "</a>\n",
       "</g>\n",
       "</g>\n",
       "<!-- LetterGrade&#45;&gt;Grade -->\n",
       "<g id=\"edge10\" class=\"edge\">\n",
       "<title>LetterGrade-&gt;Grade</title>\n",
       "<path fill=\"none\" stroke=\"#000000\" stroke-width=\"0.75\" stroke-dasharray=\"5,2\" stroke-opacity=\"0.250980\" d=\"M272.58,-70.8C266.13,-59.95 257.76,-45.87 251.33,-35.05\"/>\n",
       "</g>\n",
       "</g>\n",
       "</svg>"
      ],
      "text/plain": [
       "<datajoint.diagram.Diagram at 0x13697be80>"
      ]
     },
     "execution_count": 10,
     "metadata": {},
     "output_type": "execute_result"
    }
   ],
   "source": [
    "dj.Diagram(schema)"
   ]
  },
  {
   "cell_type": "code",
   "execution_count": null,
   "metadata": {},
   "outputs": [],
   "source": []
  }
 ],
 "metadata": {
  "kernelspec": {
   "display_name": "Python 3",
   "language": "python",
   "name": "python3"
  },
  "language_info": {
   "codemirror_mode": {
    "name": "ipython",
    "version": 3
   },
   "file_extension": ".py",
   "mimetype": "text/x-python",
   "name": "python",
   "nbconvert_exporter": "python",
   "pygments_lexer": "ipython3",
   "version": "3.8.5"
  }
 },
 "nbformat": 4,
 "nbformat_minor": 2
}
