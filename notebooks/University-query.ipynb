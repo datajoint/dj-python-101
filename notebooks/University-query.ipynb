{
 "cells": [
  {
   "cell_type": "code",
   "execution_count": 1,
   "metadata": {},
   "outputs": [],
   "source": [
    "%matplotlib inline"
   ]
  },
  {
   "cell_type": "code",
   "execution_count": 2,
   "metadata": {},
   "outputs": [],
   "source": [
    "import datajoint as dj"
   ]
  },
  {
   "cell_type": "code",
   "execution_count": 3,
   "metadata": {},
   "outputs": [
    {
     "data": {
      "text/plain": [
       "'0.13.dev1'"
      ]
     },
     "execution_count": 3,
     "metadata": {},
     "output_type": "execute_result"
    }
   ],
   "source": [
    "dj.__version__"
   ]
  },
  {
   "cell_type": "code",
   "execution_count": 4,
   "metadata": {},
   "outputs": [
    {
     "name": "stdout",
     "output_type": "stream",
     "text": [
      "Connecting root@fakeservices.datajoint.io:3306\n"
     ]
    }
   ],
   "source": [
    "import datajoint as dj\n",
    "schema = dj.schema('university')\n",
    "schema.spawn_missing_classes()"
   ]
  },
  {
   "cell_type": "code",
   "execution_count": 5,
   "metadata": {},
   "outputs": [
    {
     "data": {
      "text/plain": [
       "['course',\n",
       " 'current_term',\n",
       " 'department',\n",
       " 'enroll',\n",
       " 'grade',\n",
       " 'letter_grade',\n",
       " 'section',\n",
       " 'student',\n",
       " 'student_major',\n",
       " 'term']"
      ]
     },
     "execution_count": 5,
     "metadata": {},
     "output_type": "execute_result"
    }
   ],
   "source": [
    "schema.list_tables()"
   ]
  },
  {
   "cell_type": "code",
   "execution_count": 6,
   "metadata": {},
   "outputs": [
    {
     "data": {
      "image/svg+xml": [
       "<svg xmlns=\"http://www.w3.org/2000/svg\" xmlns:xlink=\"http://www.w3.org/1999/xlink\" width=\"288pt\" height=\"327pt\" viewBox=\"0.00 0.00 287.50 327.00\">\n",
       "<g id=\"graph0\" class=\"graph\" transform=\"scale(1 1) rotate(0) translate(4 323)\">\n",
       "<polygon fill=\"white\" stroke=\"transparent\" points=\"-4,4 -4,-323 283.5,-323 283.5,4 -4,4\"/>\n",
       "<!-- LetterGrade -->\n",
       "<g id=\"node1\" class=\"node\">\n",
       "<title>LetterGrade</title>\n",
       "<g id=\"a_node1\"><a xlink:title=\"grade                \r",
       "------------------------------\r",
       "points               \r",
       "\">\n",
       "<polygon fill=\"#00ff00\" fill-opacity=\"0.188235\" stroke=\"#00ff00\" stroke-opacity=\"0.188235\" points=\"166.5,-106 86.5,-106 86.5,-71 166.5,-71 166.5,-106\"/>\n",
       "<text text-anchor=\"start\" x=\"94.5\" y=\"-86.4\" font-family=\"arial\" text-decoration=\"underline\" font-size=\"12.00\" fill=\"darkgreen\">LetterGrade</text>\n",
       "</a>\n",
       "</g>\n",
       "</g>\n",
       "<!-- Grade -->\n",
       "<g id=\"node6\" class=\"node\">\n",
       "<title>Grade</title>\n",
       "<g id=\"a_node6\"><a xlink:title=\"→ Enroll\r",
       "------------------------------\r",
       "→ LetterGrade\r",
       "\">\n",
       "<polygon fill=\"#00ff00\" fill-opacity=\"0.188235\" stroke=\"#00ff00\" stroke-opacity=\"0.188235\" points=\"192.5,-35 142.5,-35 142.5,0 192.5,0 192.5,-35\"/>\n",
       "<text text-anchor=\"middle\" x=\"167.5\" y=\"-14.4\" font-family=\"arial\" font-size=\"12.00\" fill=\"darkgreen\">Grade</text>\n",
       "</a>\n",
       "</g>\n",
       "</g>\n",
       "<!-- LetterGrade&#45;&gt;Grade -->\n",
       "<g id=\"edge1\" class=\"edge\">\n",
       "<title>LetterGrade-&gt;Grade</title>\n",
       "<path fill=\"none\" stroke=\"#000000\" stroke-width=\"0.75\" stroke-dasharray=\"5,2\" stroke-opacity=\"0.250980\" d=\"M136.42,-70.8C142.87,-59.95 151.24,-45.87 157.67,-35.05\"/>\n",
       "</g>\n",
       "<!-- Department -->\n",
       "<g id=\"node2\" class=\"node\">\n",
       "<title>Department</title>\n",
       "<g id=\"a_node2\"><a xlink:title=\"dept                 \r",
       "------------------------------\r",
       "dept_name            \r",
       "dept_address         \r",
       "dept_phone           \r",
       "\">\n",
       "<polygon fill=\"#00ff00\" fill-opacity=\"0.188235\" stroke=\"#00ff00\" stroke-opacity=\"0.188235\" points=\"202,-319 123,-319 123,-284 202,-284 202,-319\"/>\n",
       "<text text-anchor=\"start\" x=\"131\" y=\"-299.4\" font-family=\"arial\" text-decoration=\"underline\" font-size=\"12.00\" fill=\"darkgreen\">Department</text>\n",
       "</a>\n",
       "</g>\n",
       "</g>\n",
       "<!-- StudentMajor -->\n",
       "<g id=\"node3\" class=\"node\">\n",
       "<title>StudentMajor</title>\n",
       "<g id=\"a_node3\"><a xlink:title=\"→ Student\r",
       "------------------------------\r",
       "→ Department\r",
       "declare_date         \r",
       "\">\n",
       "<polygon fill=\"#00ff00\" fill-opacity=\"0.188235\" stroke=\"#00ff00\" stroke-opacity=\"0.188235\" points=\"258.5,-248 170.5,-248 170.5,-213 258.5,-213 258.5,-248\"/>\n",
       "<text text-anchor=\"middle\" x=\"214.5\" y=\"-227.4\" font-family=\"arial\" font-size=\"12.00\" fill=\"darkgreen\">StudentMajor</text>\n",
       "</a>\n",
       "</g>\n",
       "</g>\n",
       "<!-- Department&#45;&gt;StudentMajor -->\n",
       "<g id=\"edge2\" class=\"edge\">\n",
       "<title>Department-&gt;StudentMajor</title>\n",
       "<path fill=\"none\" stroke=\"#000000\" stroke-width=\"0.75\" stroke-dasharray=\"5,2\" stroke-opacity=\"0.250980\" d=\"M175.09,-283.8C183.26,-272.95 193.88,-258.87 202.03,-248.05\"/>\n",
       "</g>\n",
       "<!-- Course -->\n",
       "<g id=\"node9\" class=\"node\">\n",
       "<title>Course</title>\n",
       "<g id=\"a_node9\"><a xlink:title=\"→ Department\r",
       "course               \r",
       "------------------------------\r",
       "course_name          \r",
       "credits              \r",
       "\">\n",
       "<polygon fill=\"#00ff00\" fill-opacity=\"0.188235\" stroke=\"#00ff00\" stroke-opacity=\"0.188235\" points=\"152.5,-248 96.5,-248 96.5,-213 152.5,-213 152.5,-248\"/>\n",
       "<text text-anchor=\"start\" x=\"104.5\" y=\"-228.4\" font-family=\"arial\" text-decoration=\"underline\" font-size=\"12.00\" fill=\"darkgreen\">Course</text>\n",
       "</a>\n",
       "</g>\n",
       "</g>\n",
       "<!-- Department&#45;&gt;Course -->\n",
       "<g id=\"edge3\" class=\"edge\">\n",
       "<title>Department-&gt;Course</title>\n",
       "<path fill=\"none\" stroke=\"#000000\" stroke-width=\"0.75\" stroke-opacity=\"0.250980\" d=\"M153.3,-283.8C147.33,-272.95 139.57,-258.87 133.61,-248.05\"/>\n",
       "</g>\n",
       "<!-- Enroll -->\n",
       "<g id=\"node4\" class=\"node\">\n",
       "<title>Enroll</title>\n",
       "<g id=\"a_node4\"><a xlink:title=\"→ Student\r",
       "→ Section\r",
       "\">\n",
       "<polygon fill=\"#00ff00\" fill-opacity=\"0.188235\" stroke=\"#00ff00\" stroke-opacity=\"0.188235\" points=\"232.5,-106 184.5,-106 184.5,-71 232.5,-71 232.5,-106\"/>\n",
       "<text text-anchor=\"middle\" x=\"208.5\" y=\"-85.4\" font-family=\"arial\" font-size=\"12.00\" fill=\"darkgreen\">Enroll</text>\n",
       "</a>\n",
       "</g>\n",
       "</g>\n",
       "<!-- Enroll&#45;&gt;Grade -->\n",
       "<g id=\"edge4\" class=\"edge\">\n",
       "<title>Enroll-&gt;Grade</title>\n",
       "<path fill=\"none\" stroke=\"#000000\" stroke-width=\"2\" stroke-opacity=\"0.250980\" d=\"M198.58,-70.8C192.13,-59.95 183.76,-45.87 177.33,-35.05\"/>\n",
       "</g>\n",
       "<!-- Term -->\n",
       "<g id=\"node5\" class=\"node\">\n",
       "<title>Term</title>\n",
       "<g id=\"a_node5\"><a xlink:title=\"term_year            \r",
       "term                 \r",
       "\">\n",
       "<polygon fill=\"#00ff00\" fill-opacity=\"0.188235\" stroke=\"#00ff00\" stroke-opacity=\"0.188235\" points=\"73,-248 30,-248 30,-213 73,-213 73,-248\"/>\n",
       "<text text-anchor=\"start\" x=\"38\" y=\"-228.4\" font-family=\"arial\" text-decoration=\"underline\" font-size=\"12.00\" fill=\"darkgreen\">Term</text>\n",
       "</a>\n",
       "</g>\n",
       "</g>\n",
       "<!-- Section -->\n",
       "<g id=\"node7\" class=\"node\">\n",
       "<title>Section</title>\n",
       "<g id=\"a_node7\"><a xlink:title=\"→ Course\r",
       "→ Term\r",
       "section              \r",
       "------------------------------\r",
       "auditorium           \r",
       "\">\n",
       "<polygon fill=\"#00ff00\" fill-opacity=\"0.188235\" stroke=\"#00ff00\" stroke-opacity=\"0.188235\" points=\"158,-177 101,-177 101,-142 158,-142 158,-177\"/>\n",
       "<text text-anchor=\"start\" x=\"109\" y=\"-157.4\" font-family=\"arial\" text-decoration=\"underline\" font-size=\"12.00\" fill=\"darkgreen\">Section</text>\n",
       "</a>\n",
       "</g>\n",
       "</g>\n",
       "<!-- Term&#45;&gt;Section -->\n",
       "<g id=\"edge5\" class=\"edge\">\n",
       "<title>Term-&gt;Section</title>\n",
       "<path fill=\"none\" stroke=\"#000000\" stroke-width=\"0.75\" stroke-opacity=\"0.250980\" d=\"M70.38,-212.8C82.65,-201.95 98.56,-187.87 110.79,-177.05\"/>\n",
       "</g>\n",
       "<!-- CurrentTerm -->\n",
       "<g id=\"node8\" class=\"node\">\n",
       "<title>CurrentTerm</title>\n",
       "<g id=\"a_node8\"><a xlink:title=\"omega=0              \r",
       "------------------------------\r",
       "→ Term\r",
       "\">\n",
       "<polygon fill=\"#00ff00\" fill-opacity=\"0.188235\" stroke=\"#00ff00\" stroke-opacity=\"0.188235\" points=\"83,-177 0,-177 0,-142 83,-142 83,-177\"/>\n",
       "<text text-anchor=\"start\" x=\"8\" y=\"-157.4\" font-family=\"arial\" text-decoration=\"underline\" font-size=\"12.00\" fill=\"darkgreen\">CurrentTerm</text>\n",
       "</a>\n",
       "</g>\n",
       "</g>\n",
       "<!-- Term&#45;&gt;CurrentTerm -->\n",
       "<g id=\"edge6\" class=\"edge\">\n",
       "<title>Term-&gt;CurrentTerm</title>\n",
       "<path fill=\"none\" stroke=\"#000000\" stroke-width=\"0.75\" stroke-dasharray=\"5,2\" stroke-opacity=\"0.250980\" d=\"M49.08,-212.8C47.51,-201.95 45.47,-187.87 43.9,-177.05\"/>\n",
       "</g>\n",
       "<!-- Section&#45;&gt;Enroll -->\n",
       "<g id=\"edge7\" class=\"edge\">\n",
       "<title>Section-&gt;Enroll</title>\n",
       "<path fill=\"none\" stroke=\"#000000\" stroke-width=\"0.75\" stroke-opacity=\"0.250980\" d=\"M148.62,-141.8C161.04,-130.95 177.17,-116.87 189.55,-106.05\"/>\n",
       "</g>\n",
       "<!-- Course&#45;&gt;Section -->\n",
       "<g id=\"edge8\" class=\"edge\">\n",
       "<title>Course-&gt;Section</title>\n",
       "<path fill=\"none\" stroke=\"#000000\" stroke-width=\"0.75\" stroke-opacity=\"0.250980\" d=\"M125.71,-212.8C126.5,-201.95 127.52,-187.87 128.3,-177.05\"/>\n",
       "</g>\n",
       "<!-- Student -->\n",
       "<g id=\"node10\" class=\"node\">\n",
       "<title>Student</title>\n",
       "<g id=\"a_node10\"><a xlink:title=\"student_id           \r",
       "------------------------------\r",
       "first_name           \r",
       "last_name            \r",
       "sex                  \r",
       "date_of_birth        \r",
       "home_address         \r",
       "home_city            \r",
       "home_state           \r",
       "home_zip             \r",
       "home_phone           \r",
       "\">\n",
       "<polygon fill=\"#00ff00\" fill-opacity=\"0.188235\" stroke=\"#00ff00\" stroke-opacity=\"0.188235\" points=\"279.5,-319 221.5,-319 221.5,-284 279.5,-284 279.5,-319\"/>\n",
       "<text text-anchor=\"start\" x=\"229.5\" y=\"-299.4\" font-family=\"arial\" text-decoration=\"underline\" font-size=\"12.00\" fill=\"darkgreen\">Student</text>\n",
       "</a>\n",
       "</g>\n",
       "</g>\n",
       "<!-- Student&#45;&gt;StudentMajor -->\n",
       "<g id=\"edge9\" class=\"edge\">\n",
       "<title>Student-&gt;StudentMajor</title>\n",
       "<path fill=\"none\" stroke=\"#000000\" stroke-width=\"2\" stroke-opacity=\"0.250980\" d=\"M241.79,-283.8C236.13,-272.95 228.78,-258.87 223.13,-248.05\"/>\n",
       "</g>\n",
       "<!-- Student&#45;&gt;Enroll -->\n",
       "<g id=\"edge10\" class=\"edge\">\n",
       "<title>Student-&gt;Enroll</title>\n",
       "<path fill=\"none\" stroke=\"#000000\" stroke-width=\"0.75\" stroke-opacity=\"0.250980\" d=\"M257.81,-283.99C264.66,-266.35 273.07,-237.6 267.5,-213 258.26,-172.21 233.84,-129.13 219.48,-106.19\"/>\n",
       "</g>\n",
       "</g>\n",
       "</svg>"
      ],
      "text/plain": [
       "<datajoint.diagram.Diagram at 0x13cccc940>"
      ]
     },
     "execution_count": 6,
     "metadata": {},
     "output_type": "execute_result"
    }
   ],
   "source": [
    "dj.Diagram(schema)"
   ]
  },
  {
   "cell_type": "markdown",
   "metadata": {},
   "source": [
    "# Example queries"
   ]
  },
  {
   "cell_type": "markdown",
   "metadata": {},
   "source": [
    "## Restriction"
   ]
  },
  {
   "cell_type": "code",
   "execution_count": 16,
   "metadata": {},
   "outputs": [
    {
     "data": {
      "text/html": [
       "\n",
       "    \n",
       "    <style type=\"text/css\">\n",
       "        .Relation{\n",
       "            border-collapse:collapse;\n",
       "        }\n",
       "        .Relation th{\n",
       "            background: #A0A0A0; color: #ffffff; padding:4px; border:#f0e0e0 1px solid;\n",
       "            font-weight: normal; font-family: monospace; font-size: 100%;\n",
       "        }\n",
       "        .Relation td{\n",
       "            padding:4px; border:#f0e0e0 1px solid; font-size:100%;\n",
       "        }\n",
       "        .Relation tr:nth-child(odd){\n",
       "            background: #ffffff;\n",
       "        }\n",
       "        .Relation tr:nth-child(even){\n",
       "            background: #f3f1ff;\n",
       "        }\n",
       "        /* Tooltip container */\n",
       "        .djtooltip {\n",
       "        }\n",
       "        /* Tooltip text */\n",
       "        .djtooltip .djtooltiptext {\n",
       "            visibility: hidden;\n",
       "            width: 120px;\n",
       "            background-color: black;\n",
       "            color: #fff;\n",
       "            text-align: center;\n",
       "            padding: 5px 0;\n",
       "            border-radius: 6px;\n",
       "            /* Position the tooltip text - see examples below! */\n",
       "            position: absolute;\n",
       "            z-index: 1;\n",
       "        }\n",
       "        #primary {\n",
       "            font-weight: bold;\n",
       "            color: black;\n",
       "        }\n",
       "        #nonprimary {\n",
       "            font-weight: normal;\n",
       "            color: white;\n",
       "        }\n",
       "\n",
       "        /* Show the tooltip text when you mouse over the tooltip container */\n",
       "        .djtooltip:hover .djtooltiptext {\n",
       "            visibility: visible;\n",
       "        }\n",
       "    </style>\n",
       "    \n",
       "    \n",
       "        <div style=\"max-height:1000px;max-width:1500px;overflow:auto;\">\n",
       "        <table border=\"1\" class=\"Relation\">\n",
       "            <thead> <tr style=\"text-align: right;\"> <th> <div class=\"djtooltip\">\n",
       "                            <p id=\"primary\">id1</p>\n",
       "                            <span class=\"djtooltiptext\">university-wide ID number</span>\n",
       "                        </div></th><th><div class=\"djtooltip\">\n",
       "                            <p id=\"primary\">id2</p>\n",
       "                            <span class=\"djtooltiptext\">university-wide ID number</span>\n",
       "                        </div></th><th><div class=\"djtooltip\">\n",
       "                            <p id=\"nonprimary\">s1</p>\n",
       "                            <span class=\"djtooltiptext\">US state acronym: e.g. OH</span>\n",
       "                        </div></th><th><div class=\"djtooltip\">\n",
       "                            <p id=\"nonprimary\">s2</p>\n",
       "                            <span class=\"djtooltiptext\">US state acronym: e.g. OH</span>\n",
       "                        </div> </th> </tr> </thead>\n",
       "            <tbody> <tr> <td>137</td>\n",
       "<td>178</td>\n",
       "<td>NY</td>\n",
       "<td>UT</td></tr><tr><td>137</td>\n",
       "<td>180</td>\n",
       "<td>NY</td>\n",
       "<td>UT</td></tr><tr><td>137</td>\n",
       "<td>196</td>\n",
       "<td>NY</td>\n",
       "<td>UT</td></tr><tr><td>137</td>\n",
       "<td>347</td>\n",
       "<td>NY</td>\n",
       "<td>UT</td></tr><tr><td>137</td>\n",
       "<td>348</td>\n",
       "<td>NY</td>\n",
       "<td>UT</td></tr><tr><td>174</td>\n",
       "<td>178</td>\n",
       "<td>NY</td>\n",
       "<td>UT</td></tr><tr><td>174</td>\n",
       "<td>180</td>\n",
       "<td>NY</td>\n",
       "<td>UT</td></tr><tr><td>174</td>\n",
       "<td>196</td>\n",
       "<td>NY</td>\n",
       "<td>UT</td></tr><tr><td>174</td>\n",
       "<td>347</td>\n",
       "<td>NY</td>\n",
       "<td>UT</td></tr><tr><td>174</td>\n",
       "<td>348</td>\n",
       "<td>NY</td>\n",
       "<td>UT</td></tr><tr><td>200</td>\n",
       "<td>347</td>\n",
       "<td>NY</td>\n",
       "<td>UT</td></tr><tr><td>200</td>\n",
       "<td>348</td>\n",
       "<td>NY</td>\n",
       "<td>UT</td> </tr> </tbody>\n",
       "        </table>\n",
       "        <p>...</p>\n",
       "        <p>Total: 24</p></div>\n",
       "        "
      ],
      "text/plain": [
       "*id1    *id2    s1     s2    \n",
       "+-----+ +-----+ +----+ +----+\n",
       "137     178     NY     UT    \n",
       "137     180     NY     UT    \n",
       "137     196     NY     UT    \n",
       "137     347     NY     UT    \n",
       "137     348     NY     UT    \n",
       "174     178     NY     UT    \n",
       "174     180     NY     UT    \n",
       "174     196     NY     UT    \n",
       "174     347     NY     UT    \n",
       "174     348     NY     UT    \n",
       "200     347     NY     UT    \n",
       "200     348     NY     UT    \n",
       "   ...\n",
       " (Total: 24)"
      ]
     },
     "execution_count": 16,
     "metadata": {},
     "output_type": "execute_result"
    }
   ],
   "source": [
    "Student.proj(id1='student_id', s1='home_state') * Student.proj(id2='student_id', s2='home_state') & 'id1 < id2' & 's1=\"NY\"' & 's2=\"UT\"'"
   ]
  },
  {
   "cell_type": "code",
   "execution_count": 21,
   "metadata": {},
   "outputs": [
    {
     "data": {
      "text/html": [
       "\n",
       "    \n",
       "    <style type=\"text/css\">\n",
       "        .Relation{\n",
       "            border-collapse:collapse;\n",
       "        }\n",
       "        .Relation th{\n",
       "            background: #A0A0A0; color: #ffffff; padding:4px; border:#f0e0e0 1px solid;\n",
       "            font-weight: normal; font-family: monospace; font-size: 100%;\n",
       "        }\n",
       "        .Relation td{\n",
       "            padding:4px; border:#f0e0e0 1px solid; font-size:100%;\n",
       "        }\n",
       "        .Relation tr:nth-child(odd){\n",
       "            background: #ffffff;\n",
       "        }\n",
       "        .Relation tr:nth-child(even){\n",
       "            background: #f3f1ff;\n",
       "        }\n",
       "        /* Tooltip container */\n",
       "        .djtooltip {\n",
       "        }\n",
       "        /* Tooltip text */\n",
       "        .djtooltip .djtooltiptext {\n",
       "            visibility: hidden;\n",
       "            width: 120px;\n",
       "            background-color: black;\n",
       "            color: #fff;\n",
       "            text-align: center;\n",
       "            padding: 5px 0;\n",
       "            border-radius: 6px;\n",
       "            /* Position the tooltip text - see examples below! */\n",
       "            position: absolute;\n",
       "            z-index: 1;\n",
       "        }\n",
       "        #primary {\n",
       "            font-weight: bold;\n",
       "            color: black;\n",
       "        }\n",
       "        #nonprimary {\n",
       "            font-weight: normal;\n",
       "            color: white;\n",
       "        }\n",
       "\n",
       "        /* Show the tooltip text when you mouse over the tooltip container */\n",
       "        .djtooltip:hover .djtooltiptext {\n",
       "            visibility: visible;\n",
       "        }\n",
       "    </style>\n",
       "    \n",
       "    \n",
       "        <div style=\"max-height:1000px;max-width:1500px;overflow:auto;\">\n",
       "        <table border=\"1\" class=\"Relation\">\n",
       "            <thead> <tr style=\"text-align: right;\"> <th> <div class=\"djtooltip\">\n",
       "                            <p id=\"primary\">student_id</p>\n",
       "                            <span class=\"djtooltiptext\">university-wide ID number</span>\n",
       "                        </div></th><th><div class=\"djtooltip\">\n",
       "                            <p id=\"primary\">s2</p>\n",
       "                            <span class=\"djtooltiptext\">university-wide ID number</span>\n",
       "                        </div> </th> </tr> </thead>\n",
       "            <tbody> <tr> <td>100</td>\n",
       "<td>100</td></tr><tr><td>101</td>\n",
       "<td>100</td></tr><tr><td>102</td>\n",
       "<td>100</td></tr><tr><td>103</td>\n",
       "<td>100</td></tr><tr><td>104</td>\n",
       "<td>100</td></tr><tr><td>105</td>\n",
       "<td>100</td></tr><tr><td>106</td>\n",
       "<td>100</td></tr><tr><td>107</td>\n",
       "<td>100</td></tr><tr><td>108</td>\n",
       "<td>100</td></tr><tr><td>109</td>\n",
       "<td>100</td></tr><tr><td>110</td>\n",
       "<td>100</td></tr><tr><td>111</td>\n",
       "<td>100</td> </tr> </tbody>\n",
       "        </table>\n",
       "        <p>...</p>\n",
       "        <p>Total: 90000</p></div>\n",
       "        "
      ],
      "text/plain": [
       "*student_id    *s2    \n",
       "+------------+ +-----+\n",
       "100            100    \n",
       "101            100    \n",
       "102            100    \n",
       "103            100    \n",
       "104            100    \n",
       "105            100    \n",
       "106            100    \n",
       "107            100    \n",
       "108            100    \n",
       "109            100    \n",
       "110            100    \n",
       "111            100    \n",
       "   ...\n",
       " (Total: 90000)"
      ]
     },
     "execution_count": 21,
     "metadata": {},
     "output_type": "execute_result"
    }
   ],
   "source": [
    "(Student.proj() * Student.proj(s2='student_id'))"
   ]
  },
  {
   "cell_type": "code",
   "execution_count": 7,
   "metadata": {},
   "outputs": [
    {
     "data": {
      "text/html": [
       "\n",
       "    \n",
       "    <style type=\"text/css\">\n",
       "        .Relation{\n",
       "            border-collapse:collapse;\n",
       "        }\n",
       "        .Relation th{\n",
       "            background: #A0A0A0; color: #ffffff; padding:4px; border:#f0e0e0 1px solid;\n",
       "            font-weight: normal; font-family: monospace; font-size: 100%;\n",
       "        }\n",
       "        .Relation td{\n",
       "            padding:4px; border:#f0e0e0 1px solid; font-size:100%;\n",
       "        }\n",
       "        .Relation tr:nth-child(odd){\n",
       "            background: #ffffff;\n",
       "        }\n",
       "        .Relation tr:nth-child(even){\n",
       "            background: #f3f1ff;\n",
       "        }\n",
       "        /* Tooltip container */\n",
       "        .djtooltip {\n",
       "        }\n",
       "        /* Tooltip text */\n",
       "        .djtooltip .djtooltiptext {\n",
       "            visibility: hidden;\n",
       "            width: 120px;\n",
       "            background-color: black;\n",
       "            color: #fff;\n",
       "            text-align: center;\n",
       "            padding: 5px 0;\n",
       "            border-radius: 6px;\n",
       "            /* Position the tooltip text - see examples below! */\n",
       "            position: absolute;\n",
       "            z-index: 1;\n",
       "        }\n",
       "        #primary {\n",
       "            font-weight: bold;\n",
       "            color: black;\n",
       "        }\n",
       "        #nonprimary {\n",
       "            font-weight: normal;\n",
       "            color: white;\n",
       "        }\n",
       "\n",
       "        /* Show the tooltip text when you mouse over the tooltip container */\n",
       "        .djtooltip:hover .djtooltiptext {\n",
       "            visibility: visible;\n",
       "        }\n",
       "    </style>\n",
       "    \n",
       "    <b></b>\n",
       "        <div style=\"max-height:1000px;max-width:1500px;overflow:auto;\">\n",
       "        <table border=\"1\" class=\"Relation\">\n",
       "            <thead> <tr style=\"text-align: right;\"> <th> <div class=\"djtooltip\">\n",
       "                            <p id=\"primary\">student_id</p>\n",
       "                            <span class=\"djtooltiptext\">university-wide ID number</span>\n",
       "                        </div></th><th><div class=\"djtooltip\">\n",
       "                            <p id=\"nonprimary\">first_name</p>\n",
       "                            <span class=\"djtooltiptext\"></span>\n",
       "                        </div></th><th><div class=\"djtooltip\">\n",
       "                            <p id=\"nonprimary\">last_name</p>\n",
       "                            <span class=\"djtooltiptext\"></span>\n",
       "                        </div></th><th><div class=\"djtooltip\">\n",
       "                            <p id=\"nonprimary\">sex</p>\n",
       "                            <span class=\"djtooltiptext\"></span>\n",
       "                        </div></th><th><div class=\"djtooltip\">\n",
       "                            <p id=\"nonprimary\">date_of_birth</p>\n",
       "                            <span class=\"djtooltiptext\"></span>\n",
       "                        </div></th><th><div class=\"djtooltip\">\n",
       "                            <p id=\"nonprimary\">home_address</p>\n",
       "                            <span class=\"djtooltiptext\">mailing street address</span>\n",
       "                        </div></th><th><div class=\"djtooltip\">\n",
       "                            <p id=\"nonprimary\">home_city</p>\n",
       "                            <span class=\"djtooltiptext\">mailing address</span>\n",
       "                        </div></th><th><div class=\"djtooltip\">\n",
       "                            <p id=\"nonprimary\">home_state</p>\n",
       "                            <span class=\"djtooltiptext\">US state acronym: e.g. OH</span>\n",
       "                        </div></th><th><div class=\"djtooltip\">\n",
       "                            <p id=\"nonprimary\">home_zip</p>\n",
       "                            <span class=\"djtooltiptext\">zipcode e.g. 93979-4979</span>\n",
       "                        </div></th><th><div class=\"djtooltip\">\n",
       "                            <p id=\"nonprimary\">home_phone</p>\n",
       "                            <span class=\"djtooltiptext\">e.g. 414.657.6883x0881</span>\n",
       "                        </div> </th> </tr> </thead>\n",
       "            <tbody> <tr> <td>114</td>\n",
       "<td>Gabriella</td>\n",
       "<td>Orozco</td>\n",
       "<td>F</td>\n",
       "<td>1998-12-07</td>\n",
       "<td>2316 Amy Lakes</td>\n",
       "<td>West Rebeccastad</td>\n",
       "<td>TX</td>\n",
       "<td>75957</td>\n",
       "<td>(546)688-9373x467</td> </tr> </tbody>\n",
       "        </table>\n",
       "        \n",
       "        <p>Total: 1</p></div>\n",
       "        "
      ],
      "text/plain": [
       "*student_id    first_name     last_name     sex     date_of_birth  home_address   home_city      home_state     home_zip     home_phone    \n",
       "+------------+ +------------+ +-----------+ +-----+ +------------+ +------------+ +------------+ +------------+ +----------+ +------------+\n",
       "114            Gabriella      Orozco        F       1998-12-07     2316 Amy Lakes West Rebeccast TX             75957        (546)688-9373x\n",
       " (Total: 1)"
      ]
     },
     "execution_count": 7,
     "metadata": {},
     "output_type": "execute_result"
    }
   ],
   "source": [
    "# Students from Texas\n",
    "Student & {'home_state': 'TX'}\n",
    "Student & 'home_state=\"TX\"'"
   ]
  },
  {
   "cell_type": "code",
   "execution_count": null,
   "metadata": {},
   "outputs": [],
   "source": [
    "# Male students from outside Texas\n",
    "(Student & 'sex=\"M\"') - {'home_state': 'TX'}"
   ]
  },
  {
   "cell_type": "code",
   "execution_count": null,
   "metadata": {},
   "outputs": [],
   "source": [
    "# Male students from outside Texas\n",
    "Student & 'sex=\"M\" and home_state <> \"TX\"'\n",
    "(Student & {'sex':\"M\"}) - {'home_state': \"TX\"}"
   ]
  },
  {
   "cell_type": "code",
   "execution_count": null,
   "metadata": {},
   "outputs": [],
   "source": [
    "# Students from TX, OK, or NM\n",
    "Student & [{'home_state':'OK'}, {'home_state':'NM'}, {'home_state':'TX'}] \n",
    "Student & [{'home_state': s} for s in ('OK','NM','TX')]\n",
    "Student & 'home_state in (\"OK\", \"NM\", \"TX\")'"
   ]
  },
  {
   "cell_type": "code",
   "execution_count": null,
   "metadata": {},
   "outputs": [],
   "source": [
    "# Millenials\n",
    "millenials = Student & 'date_of_birth between \"1981-01-01\" and \"1996-12-31\"'"
   ]
  },
  {
   "cell_type": "code",
   "execution_count": null,
   "metadata": {},
   "outputs": [],
   "source": [
    "# Millenials\n",
    "millenials - (Enroll & 'dept=\"MATH\"')"
   ]
  },
  {
   "cell_type": "code",
   "execution_count": null,
   "metadata": {},
   "outputs": [],
   "source": [
    "(millenials - (Enroll & 'dept=\"MATH\"')).make_sql()"
   ]
  },
  {
   "cell_type": "code",
   "execution_count": null,
   "metadata": {},
   "outputs": [],
   "source": []
  },
  {
   "cell_type": "code",
   "execution_count": null,
   "metadata": {},
   "outputs": [],
   "source": [
    "# Students who have taken classes\n",
    "Student & Enroll"
   ]
  },
  {
   "cell_type": "code",
   "execution_count": null,
   "metadata": {},
   "outputs": [],
   "source": [
    "# Students who have not taken classes\n",
    "Student - Enroll"
   ]
  },
  {
   "cell_type": "code",
   "execution_count": null,
   "metadata": {},
   "outputs": [],
   "source": [
    "# Students who have taken Biology classes but no MATH courses\n",
    "(Student & (Enroll & 'dept=\"BIOL\"')) - (Enroll & 'dept=\"MATH\"')"
   ]
  },
  {
   "cell_type": "code",
   "execution_count": null,
   "metadata": {},
   "outputs": [],
   "source": [
    "# Students who have not selected a major\n",
    "Student - StudentMajor"
   ]
  },
  {
   "cell_type": "code",
   "execution_count": null,
   "metadata": {},
   "outputs": [],
   "source": [
    "# Students who are not taking courses in the current term\n",
    "Student - (Enroll & CurrentTerm)"
   ]
  },
  {
   "cell_type": "code",
   "execution_count": null,
   "metadata": {},
   "outputs": [],
   "source": [
    "StudentMajor()"
   ]
  },
  {
   "cell_type": "code",
   "execution_count": null,
   "metadata": {},
   "outputs": [],
   "source": [
    "# Ungraded enrollments, including student major\n",
    "ungraded = Enroll - Grade\n",
    "\n",
    "ungraded * StudentMajor.proj(..., major='dept')\n",
    "\n",
    "q = ungraded.join(StudentMajor.proj(..., major='dept'), left=True)\n",
    "\n",
    "q"
   ]
  },
  {
   "cell_type": "code",
   "execution_count": null,
   "metadata": {},
   "outputs": [],
   "source": [
    "q.make_sql()"
   ]
  },
  {
   "cell_type": "code",
   "execution_count": null,
   "metadata": {},
   "outputs": [],
   "source": [
    "# Ungraded courses in the current term\n",
    "(Enroll & CurrentTerm) - Grade"
   ]
  },
  {
   "cell_type": "code",
   "execution_count": null,
   "metadata": {
    "scrolled": true
   },
   "outputs": [],
   "source": [
    "# Students who have taken classes and have chosen a major\n",
    "(Student & Enroll & StudentMajor).fetch(as_dict=True)"
   ]
  },
  {
   "cell_type": "code",
   "execution_count": null,
   "metadata": {},
   "outputs": [],
   "source": [
    "#Students who are active or major in non-math, or are named Robert\n",
    "Student & [Enroll, StudentMajor - {'dept': \"MATH\"}, 'first_name=\"Robert\"'] "
   ]
  },
  {
   "cell_type": "code",
   "execution_count": null,
   "metadata": {},
   "outputs": [],
   "source": [
    "# Enrollment in courses from the same department as the students' major\n",
    "Enroll & StudentMajor"
   ]
  },
  {
   "cell_type": "code",
   "execution_count": null,
   "metadata": {},
   "outputs": [],
   "source": [
    "# Enrollments for students with a major\n",
    "Enroll & StudentMajor.proj(major=\"dept\")"
   ]
  },
  {
   "cell_type": "markdown",
   "metadata": {},
   "source": [
    "## Join"
   ]
  },
  {
   "cell_type": "code",
   "execution_count": null,
   "metadata": {},
   "outputs": [],
   "source": [
    "# Grade point values\n",
    "Grade * LetterGrade"
   ]
  },
  {
   "cell_type": "code",
   "execution_count": null,
   "metadata": {},
   "outputs": [],
   "source": [
    "# Graded enrollments with complete course and student information\n",
    "Student * Enroll * Course * Section * Grade * LetterGrade"
   ]
  },
  {
   "cell_type": "code",
   "execution_count": null,
   "metadata": {},
   "outputs": [],
   "source": [
    "# Students with ungraded courses in current term\n",
    "Student & (Enroll * CurrentTerm - Grade)"
   ]
  },
  {
   "cell_type": "markdown",
   "metadata": {},
   "source": [
    "## Proj"
   ]
  },
  {
   "cell_type": "code",
   "execution_count": null,
   "metadata": {},
   "outputs": [],
   "source": [
    "# remove student personal info other than home state and sex\n",
    "Student.proj('home_state', 'sex')"
   ]
  },
  {
   "cell_type": "code",
   "execution_count": null,
   "metadata": {},
   "outputs": [],
   "source": [
    "# Student major\n",
    "Student.proj('first_name','last_name')*StudentMajor.proj(..., major='dept')"
   ]
  },
  {
   "cell_type": "code",
   "execution_count": null,
   "metadata": {},
   "outputs": [],
   "source": [
    "# Enrollment with major information\n",
    "Enroll * StudentMajor.proj(major='dept')"
   ]
  },
  {
   "cell_type": "code",
   "execution_count": null,
   "metadata": {},
   "outputs": [],
   "source": [
    "# Enrollment outside chosen major\n",
    "Enroll * StudentMajor.proj(major='dept') & 'major<>dept'"
   ]
  },
  {
   "cell_type": "code",
   "execution_count": null,
   "metadata": {},
   "outputs": [],
   "source": [
    "# Enrollment not matching major \n",
    "Enroll - StudentMajor "
   ]
  },
  {
   "cell_type": "code",
   "execution_count": null,
   "metadata": {},
   "outputs": [],
   "source": [
    "# Total grade points\n",
    "(Course * Grade * LetterGrade).proj(total='points*credits')"
   ]
  },
  {
   "cell_type": "markdown",
   "metadata": {},
   "source": [
    "## Aggr"
   ]
  },
  {
   "cell_type": "code",
   "execution_count": null,
   "metadata": {
    "scrolled": false
   },
   "outputs": [],
   "source": [
    "%%timeit\n",
    "dj.U().aggr(Student(), n='count(*)').fetch1()"
   ]
  },
  {
   "cell_type": "code",
   "execution_count": null,
   "metadata": {},
   "outputs": [],
   "source": [
    "%%timeit\n",
    "len(Student())"
   ]
  },
  {
   "cell_type": "code",
   "execution_count": null,
   "metadata": {},
   "outputs": [],
   "source": [
    "# Students in each section\n",
    "Section.aggr(Enroll, ..., n='count(student_id)', keep_all_rows=True)"
   ]
  },
  {
   "cell_type": "code",
   "execution_count": null,
   "metadata": {},
   "outputs": [],
   "source": [
    "# Students in each section of the biology department\n",
    "(Section & {\"dept\": \"BIOL\"}).aggr(Enroll, n='count(student_id)', keep_all_rows=True) & 'n=0' "
   ]
  },
  {
   "cell_type": "code",
   "execution_count": null,
   "metadata": {},
   "outputs": [],
   "source": [
    "# Average grade in each course\n",
    "Course.aggr(Grade*LetterGrade, avg_grade='round(avg(points), 2)')"
   ]
  },
  {
   "cell_type": "code",
   "execution_count": null,
   "metadata": {},
   "outputs": [],
   "source": [
    "# Fraction graded in each section\n",
    "(Section.aggr(Enroll, n='count(student_id)') * Section.aggr(Grade, m='count(student_id)')).proj(\n",
    "    percent_graded='100*round(m/n, 2)')"
   ]
  },
  {
   "cell_type": "code",
   "execution_count": null,
   "metadata": {},
   "outputs": [],
   "source": [
    "Course * Grade * LetterGrade"
   ]
  },
  {
   "cell_type": "code",
   "execution_count": null,
   "metadata": {},
   "outputs": [],
   "source": [
    "# GPA\n",
    "Student.aggr(Course * Grade * LetterGrade, \n",
    "             gpa='round(sum(points*credits)/sum(credits), 2)')"
   ]
  },
  {
   "cell_type": "code",
   "execution_count": null,
   "metadata": {},
   "outputs": [],
   "source": [
    "Student.aggr(Course * Grade * LetterGrade, \n",
    "             gpa='round(sum(points*credits)/sum(credits), 2)').make_sql()"
   ]
  },
  {
   "cell_type": "code",
   "execution_count": null,
   "metadata": {},
   "outputs": [],
   "source": [
    "# GPA in current Term\n",
    "Student.aggr(Course * Grade * LetterGrade & CurrentTerm, \n",
    "             gpa='round(sum(points*credits)/sum(credits), 2)')"
   ]
  },
  {
   "cell_type": "code",
   "execution_count": null,
   "metadata": {},
   "outputs": [],
   "source": [
    "# Average GPA for each major\n",
    "gpa = Student.aggr(Course * Grade * LetterGrade,\n",
    "                   gpa='sum(points*credits)/sum(credits)')\n",
    "Department.aggr(StudentMajor*gpa, avg_gpa='round(avg(gpa), 2)')"
   ]
  },
  {
   "cell_type": "markdown",
   "metadata": {},
   "source": [
    "## Universal sets dj.U()"
   ]
  },
  {
   "cell_type": "code",
   "execution_count": null,
   "metadata": {},
   "outputs": [],
   "source": [
    "# The number of students from each state\n",
    "dj.U('home_state').aggr(Student, n='count(*)')"
   ]
  },
  {
   "cell_type": "code",
   "execution_count": null,
   "metadata": {},
   "outputs": [],
   "source": [
    "# Unique last names\n",
    "dj.U('last_name') & Student "
   ]
  },
  {
   "cell_type": "code",
   "execution_count": null,
   "metadata": {},
   "outputs": [],
   "source": [
    "# Number of students from each state by gender\n",
    "dj.U('home_state', 'sex').aggr(Student, n='count(*)')"
   ]
  },
  {
   "cell_type": "code",
   "execution_count": null,
   "metadata": {},
   "outputs": [],
   "source": [
    "# GPA by sex\n",
    "dj.U('sex').aggr(Student*gpa, avg_gpa ='avg(gpa)')"
   ]
  },
  {
   "cell_type": "code",
   "execution_count": null,
   "metadata": {},
   "outputs": [],
   "source": [
    "# Sex ratio for gender neutral names\n",
    "(dj.U('first_name').aggr(Student, percent_male='100*avg(sex=\"M\")'\n",
    "                       ) & 'percent_male > 0 and percent_male < 100')"
   ]
  },
  {
   "cell_type": "markdown",
   "metadata": {},
   "source": [
    "# New operators in version 0.13\n",
    "\n",
    "* Permissive join:  `a @ b`  is equivalent to `a.join(b, semantic_check=False)`.\n",
    "* Permissive restrict: `a ^ b` is equivalent to `a.restrict(b, semantic_check=False)`.\n",
    "* Uninary minus: `a & -b` is equivalent to `a - b` or `a & dj.Not(b)`."
   ]
  },
  {
   "cell_type": "code",
   "execution_count": null,
   "metadata": {},
   "outputs": [],
   "source": [
    "# Students with the same birthdays\n",
    "s1 = Student.proj('date_of_birth', s1='student_id')\n",
    "s2 = Student.proj('date_of_birth', s2='student_id')\n",
    "s1 @ s2 & 's1 < s2'"
   ]
  },
  {
   "cell_type": "code",
   "execution_count": null,
   "metadata": {},
   "outputs": [],
   "source": [
    "# Students with other students born on the same date\n",
    "s1 = Student.proj('date_of_birth', s1='student_id')\n",
    "s2 = Student.proj('date_of_birth', s2='student_id')\n",
    "s1 ^ (s1 @ s2 & 's1 < s2')"
   ]
  },
  {
   "cell_type": "code",
   "execution_count": null,
   "metadata": {},
   "outputs": [],
   "source": [
    "# Students with unique birthdays\n",
    "s1 -(s1 @ s2 & 's1 < s2')  # error because minus is not permissive\n",
    "s1 ^ dj.Not(s1 @ s2 & 's1 < s2')\n",
    "s1 ^ -(s1 @ s2 & 's1 < s2')"
   ]
  },
  {
   "cell_type": "code",
   "execution_count": null,
   "metadata": {},
   "outputs": [],
   "source": []
  }
 ],
 "metadata": {
  "kernelspec": {
   "display_name": "Python 3",
   "language": "python",
   "name": "python3"
  },
  "language_info": {
   "codemirror_mode": {
    "name": "ipython",
    "version": 3
   },
   "file_extension": ".py",
   "mimetype": "text/x-python",
   "name": "python",
   "nbconvert_exporter": "python",
   "pygments_lexer": "ipython3",
   "version": "3.8.5"
  }
 },
 "nbformat": 4,
 "nbformat_minor": 2
}
